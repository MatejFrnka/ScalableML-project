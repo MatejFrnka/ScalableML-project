{
 "cells": [
  {
   "cell_type": "code",
   "execution_count": 24,
   "metadata": {},
   "outputs": [],
   "source": [
    "from selenium import webdriver\n",
    "from selenium.webdriver.common.by import By\n",
    "from selenium.webdriver.chrome.options import Options\n",
    "from selenium.webdriver.support.ui import WebDriverWait\n",
    "from selenium.webdriver.support import expected_conditions as EC\n",
    "from selenium.common.exceptions import StaleElementReferenceException\n",
    "import os\n",
    "from pathlib import Path\n",
    "import pandas as pd\n",
    "import urllib.request\n",
    "from tqdm import tqdm"
   ]
  },
  {
   "attachments": {},
   "cell_type": "markdown",
   "metadata": {},
   "source": [
    "## Read the URLs with csv-files"
   ]
  },
  {
   "cell_type": "code",
   "execution_count": 15,
   "metadata": {},
   "outputs": [
    {
     "data": {
      "text/plain": [
       "['https://www.football-data.co.uk/englandm.php',\n",
       " 'https://www.football-data.co.uk/scotlandm.php',\n",
       " 'https://www.football-data.co.uk/germanym.php',\n",
       " 'https://www.football-data.co.uk/italym.php',\n",
       " 'https://www.football-data.co.uk/spainm.php',\n",
       " 'https://www.football-data.co.uk/francem.php',\n",
       " 'https://www.football-data.co.uk/netherlandsm.php',\n",
       " 'https://www.football-data.co.uk/belgiumm.php',\n",
       " 'https://www.football-data.co.uk/portugalm.php',\n",
       " 'https://www.football-data.co.uk/turkeym.php',\n",
       " 'https://www.football-data.co.uk/greecem.php',\n",
       " 'https://www.football-data.co.uk/Argentina.php',\n",
       " 'https://www.football-data.co.uk/Austria.php',\n",
       " 'https://www.football-data.co.uk/Brazil.php',\n",
       " 'https://www.football-data.co.uk/China.php',\n",
       " 'https://www.football-data.co.uk/Denmark.php',\n",
       " 'https://www.football-data.co.uk/Finland.php',\n",
       " 'https://www.football-data.co.uk/Ireland.php',\n",
       " 'https://www.football-data.co.uk/Japan.php',\n",
       " 'https://www.football-data.co.uk/Mexico.php',\n",
       " 'https://www.football-data.co.uk/Norway.php',\n",
       " 'https://www.football-data.co.uk/Poland.php',\n",
       " 'https://www.football-data.co.uk/Romania.php',\n",
       " 'https://www.football-data.co.uk/Russia.php',\n",
       " 'https://www.football-data.co.uk/Sweden.php',\n",
       " 'https://www.football-data.co.uk/Switzerland.php',\n",
       " 'https://www.football-data.co.uk/USA.php']"
      ]
     },
     "execution_count": 15,
     "metadata": {},
     "output_type": "execute_result"
    }
   ],
   "source": [
    "with open('urls.txt') as file:\n",
    "    odds_urls = [line.rstrip() for line in file]\n",
    "\n",
    "odds_urls"
   ]
  },
  {
   "attachments": {},
   "cell_type": "markdown",
   "metadata": {},
   "source": [
    "## Boot up the Selenium Driver"
   ]
  },
  {
   "cell_type": "code",
   "execution_count": 16,
   "metadata": {},
   "outputs": [],
   "source": [
    "options = Options()\n",
    "options.headless = True\n",
    "options.add_argument('--window-size=2560,1400')\n",
    "options.add_argument('log-level=1')\n",
    "DRIVER_PATH = Path('./chromedriver/chromedriver.exe').absolute()\n",
    "driver = webdriver.Chrome(options=options, executable_path=DRIVER_PATH)"
   ]
  },
  {
   "attachments": {},
   "cell_type": "markdown",
   "metadata": {},
   "source": [
    "## Get all CSV-files"
   ]
  },
  {
   "cell_type": "code",
   "execution_count": 25,
   "metadata": {},
   "outputs": [
    {
     "name": "stdout",
     "output_type": "stream",
     "text": [
      "Reading URL: https://www.football-data.co.uk/englandm.php\n"
     ]
    },
    {
     "name": "stderr",
     "output_type": "stream",
     "text": [
      "100%|██████████| 285/285 [01:19<00:00,  3.60it/s]\n"
     ]
    },
    {
     "name": "stdout",
     "output_type": "stream",
     "text": [
      "Reading URL: https://www.football-data.co.uk/scotlandm.php\n"
     ]
    },
    {
     "name": "stderr",
     "output_type": "stream",
     "text": [
      "100%|██████████| 257/257 [00:50<00:00,  5.14it/s]\n"
     ]
    },
    {
     "name": "stdout",
     "output_type": "stream",
     "text": [
      "Reading URL: https://www.football-data.co.uk/germanym.php\n"
     ]
    },
    {
     "name": "stderr",
     "output_type": "stream",
     "text": [
      "100%|██████████| 207/207 [00:29<00:00,  7.10it/s]\n"
     ]
    },
    {
     "name": "stdout",
     "output_type": "stream",
     "text": [
      "Reading URL: https://www.football-data.co.uk/italym.php\n"
     ]
    },
    {
     "name": "stderr",
     "output_type": "stream",
     "text": [
      "100%|██████████| 203/203 [00:28<00:00,  7.25it/s]\n"
     ]
    },
    {
     "name": "stdout",
     "output_type": "stream",
     "text": [
      "Reading URL: https://www.football-data.co.uk/spainm.php\n"
     ]
    },
    {
     "name": "stderr",
     "output_type": "stream",
     "text": [
      "100%|██████████| 204/204 [00:29<00:00,  7.01it/s]\n"
     ]
    },
    {
     "name": "stdout",
     "output_type": "stream",
     "text": [
      "Reading URL: https://www.football-data.co.uk/francem.php\n"
     ]
    },
    {
     "name": "stderr",
     "output_type": "stream",
     "text": [
      "100%|██████████| 204/204 [00:28<00:00,  7.20it/s]\n"
     ]
    },
    {
     "name": "stdout",
     "output_type": "stream",
     "text": [
      "Reading URL: https://www.football-data.co.uk/netherlandsm.php\n"
     ]
    },
    {
     "name": "stderr",
     "output_type": "stream",
     "text": [
      "100%|██████████| 177/177 [00:14<00:00, 12.25it/s]\n"
     ]
    },
    {
     "name": "stdout",
     "output_type": "stream",
     "text": [
      "Reading URL: https://www.football-data.co.uk/belgiumm.php\n"
     ]
    },
    {
     "name": "stderr",
     "output_type": "stream",
     "text": [
      "100%|██████████| 175/175 [00:13<00:00, 12.85it/s]\n"
     ]
    },
    {
     "name": "stdout",
     "output_type": "stream",
     "text": [
      "Reading URL: https://www.football-data.co.uk/portugalm.php\n"
     ]
    },
    {
     "name": "stderr",
     "output_type": "stream",
     "text": [
      "100%|██████████| 176/176 [00:13<00:00, 12.59it/s]\n"
     ]
    },
    {
     "name": "stdout",
     "output_type": "stream",
     "text": [
      "Reading URL: https://www.football-data.co.uk/turkeym.php\n"
     ]
    },
    {
     "name": "stderr",
     "output_type": "stream",
     "text": [
      "100%|██████████| 176/176 [00:14<00:00, 12.27it/s]\n"
     ]
    },
    {
     "name": "stdout",
     "output_type": "stream",
     "text": [
      "Reading URL: https://www.football-data.co.uk/greecem.php\n"
     ]
    },
    {
     "name": "stderr",
     "output_type": "stream",
     "text": [
      "100%|██████████| 176/176 [00:13<00:00, 12.86it/s]\n"
     ]
    },
    {
     "name": "stdout",
     "output_type": "stream",
     "text": [
      "Reading URL: https://www.football-data.co.uk/Argentina.php\n"
     ]
    },
    {
     "name": "stderr",
     "output_type": "stream",
     "text": [
      "100%|██████████| 149/149 [00:02<00:00, 56.33it/s]\n"
     ]
    },
    {
     "name": "stdout",
     "output_type": "stream",
     "text": [
      "Reading URL: https://www.football-data.co.uk/Austria.php\n"
     ]
    },
    {
     "name": "stderr",
     "output_type": "stream",
     "text": [
      "100%|██████████| 149/149 [00:02<00:00, 61.78it/s]\n"
     ]
    },
    {
     "name": "stdout",
     "output_type": "stream",
     "text": [
      "Reading URL: https://www.football-data.co.uk/Brazil.php\n"
     ]
    },
    {
     "name": "stderr",
     "output_type": "stream",
     "text": [
      "100%|██████████| 149/149 [00:02<00:00, 54.04it/s]\n"
     ]
    },
    {
     "name": "stdout",
     "output_type": "stream",
     "text": [
      "Reading URL: https://www.football-data.co.uk/China.php\n"
     ]
    },
    {
     "name": "stderr",
     "output_type": "stream",
     "text": [
      "100%|██████████| 149/149 [00:02<00:00, 55.85it/s]\n"
     ]
    },
    {
     "name": "stdout",
     "output_type": "stream",
     "text": [
      "Reading URL: https://www.football-data.co.uk/Denmark.php\n"
     ]
    },
    {
     "name": "stderr",
     "output_type": "stream",
     "text": [
      "100%|██████████| 149/149 [00:02<00:00, 56.30it/s]\n"
     ]
    },
    {
     "name": "stdout",
     "output_type": "stream",
     "text": [
      "Reading URL: https://www.football-data.co.uk/Finland.php\n"
     ]
    },
    {
     "name": "stderr",
     "output_type": "stream",
     "text": [
      "100%|██████████| 149/149 [00:02<00:00, 55.22it/s]\n"
     ]
    },
    {
     "name": "stdout",
     "output_type": "stream",
     "text": [
      "Reading URL: https://www.football-data.co.uk/Ireland.php\n"
     ]
    },
    {
     "name": "stderr",
     "output_type": "stream",
     "text": [
      "100%|██████████| 149/149 [00:02<00:00, 53.62it/s]\n"
     ]
    },
    {
     "name": "stdout",
     "output_type": "stream",
     "text": [
      "Reading URL: https://www.football-data.co.uk/Japan.php\n"
     ]
    },
    {
     "name": "stderr",
     "output_type": "stream",
     "text": [
      "100%|██████████| 149/149 [00:02<00:00, 53.29it/s]\n"
     ]
    },
    {
     "name": "stdout",
     "output_type": "stream",
     "text": [
      "Reading URL: https://www.football-data.co.uk/Mexico.php\n"
     ]
    },
    {
     "name": "stderr",
     "output_type": "stream",
     "text": [
      "100%|██████████| 149/149 [00:02<00:00, 51.96it/s]\n"
     ]
    },
    {
     "name": "stdout",
     "output_type": "stream",
     "text": [
      "Reading URL: https://www.football-data.co.uk/Norway.php\n"
     ]
    },
    {
     "name": "stderr",
     "output_type": "stream",
     "text": [
      "100%|██████████| 149/149 [00:02<00:00, 56.72it/s]\n"
     ]
    },
    {
     "name": "stdout",
     "output_type": "stream",
     "text": [
      "Reading URL: https://www.football-data.co.uk/Poland.php\n"
     ]
    },
    {
     "name": "stderr",
     "output_type": "stream",
     "text": [
      "100%|██████████| 149/149 [00:02<00:00, 57.21it/s]\n"
     ]
    },
    {
     "name": "stdout",
     "output_type": "stream",
     "text": [
      "Reading URL: https://www.football-data.co.uk/Romania.php\n"
     ]
    },
    {
     "name": "stderr",
     "output_type": "stream",
     "text": [
      "100%|██████████| 149/149 [00:02<00:00, 54.32it/s]\n"
     ]
    },
    {
     "name": "stdout",
     "output_type": "stream",
     "text": [
      "Reading URL: https://www.football-data.co.uk/Russia.php\n"
     ]
    },
    {
     "name": "stderr",
     "output_type": "stream",
     "text": [
      "100%|██████████| 149/149 [00:02<00:00, 52.33it/s]\n"
     ]
    },
    {
     "name": "stdout",
     "output_type": "stream",
     "text": [
      "Reading URL: https://www.football-data.co.uk/Sweden.php\n"
     ]
    },
    {
     "name": "stderr",
     "output_type": "stream",
     "text": [
      "100%|██████████| 149/149 [00:02<00:00, 55.55it/s]\n"
     ]
    },
    {
     "name": "stdout",
     "output_type": "stream",
     "text": [
      "Reading URL: https://www.football-data.co.uk/Switzerland.php\n"
     ]
    },
    {
     "name": "stderr",
     "output_type": "stream",
     "text": [
      "100%|██████████| 149/149 [00:02<00:00, 56.18it/s]\n"
     ]
    },
    {
     "name": "stdout",
     "output_type": "stream",
     "text": [
      "Reading URL: https://www.football-data.co.uk/USA.php\n"
     ]
    },
    {
     "name": "stderr",
     "output_type": "stream",
     "text": [
      "100%|██████████| 149/149 [00:02<00:00, 52.60it/s]\n"
     ]
    }
   ],
   "source": [
    "# Set BASEPATH for storing the csv-files\n",
    "BASE_PATH = './raw_data/'\n",
    "\n",
    "# Iterate over the odds URLS\n",
    "for odds_url in odds_urls:\n",
    "  \n",
    "  # Create an empty DF\n",
    "  df = pd.DataFrame()\n",
    "\n",
    "  # Get country name from the URL\n",
    "  country = odds_url.split('/')[-1].split('.')[0].lower()\n",
    "\n",
    "  # Keep trying until scraping completes :)\n",
    "  page_scraped_finished = False\n",
    "  while(not page_scraped_finished):\n",
    "\n",
    "    # Read the page with the driver\n",
    "    print('Reading URL:', odds_url)\n",
    "    driver.get(odds_url)\n",
    "\n",
    "    # Get all links from the page (odds_url)\n",
    "    links = driver.find_elements_by_xpath(\"//a[@href]\")\n",
    "\n",
    "    # Iterate over the links on the page\n",
    "    for link in tqdm(links):\n",
    "\n",
    "      # Get the URL of the link as text\n",
    "      try:\n",
    "        link_url = link.get_attribute(\"href\")\n",
    "      except StaleElementReferenceException:\n",
    "        print('StaleElementReferenceException, trying again :)')\n",
    "\n",
    "      # Check if the URL of the link contains .csv or if it's some random link\n",
    "      if '.csv' in link_url:\n",
    "        \n",
    "        # TODO: Maybe we need this metadata for saving DFs (?)\n",
    "        # # Extract some metadata from the URL (year and league)\n",
    "        # meta_data = link_url.split('/')[-2:]\n",
    "        # year = meta_data[0]\n",
    "        # league = meta_data[1].replace('.csv', '')\n",
    "\n",
    "        # Open the URL safely with urllib to avoid errors with Pandas\n",
    "        with urllib.request.urlopen(link_url) as resp:\n",
    "          new_df = pd.read_csv(resp, encoding='cp1252', on_bad_lines='skip')\n",
    "\n",
    "        # Concat the new matches to our big DF\n",
    "        df = pd.concat([df, new_df])\n",
    "\n",
    "    page_scraped_finished = True\n",
    "\n",
    "  # Create the path if it does not exist\n",
    "  if not os.path.exists(BASE_PATH):\n",
    "      os.makedirs(BASE_PATH)\n",
    "\n",
    "  # Reset indices\n",
    "  df = df.reset_index(drop=True)\n",
    "\n",
    "  # Save DF\n",
    "  df.to_csv(BASE_PATH + '/' + country + '.csv')\n"
   ]
  }
 ],
 "metadata": {
  "kernelspec": {
   "display_name": "Python 3",
   "language": "python",
   "name": "python3"
  },
  "language_info": {
   "codemirror_mode": {
    "name": "ipython",
    "version": 3
   },
   "file_extension": ".py",
   "mimetype": "text/x-python",
   "name": "python",
   "nbconvert_exporter": "python",
   "pygments_lexer": "ipython3",
   "version": "3.8.0 (tags/v3.8.0:fa919fd, Oct 14 2019, 19:37:50) [MSC v.1916 64 bit (AMD64)]"
  },
  "orig_nbformat": 4,
  "vscode": {
   "interpreter": {
    "hash": "6b75d418c9c326d7aaeaf58c1d55517f17bf57fa9a587eb451d9ce82208dc144"
   }
  }
 },
 "nbformat": 4,
 "nbformat_minor": 2
}
