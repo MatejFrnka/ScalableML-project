{
 "cells": [
  {
   "cell_type": "code",
   "execution_count": null,
   "metadata": {
    "pycharm": {
     "name": "#%%\n"
    }
   },
   "outputs": [],
   "source": [
    "import matplotlib\n",
    "from utils.OddsData import *\n",
    "from utils.Features import *\n",
    "import numpy as np\n",
    "import seaborn as sns\n",
    "import pandas as pd\n",
    "import matplotlib.pyplot as plt\n"
   ]
  },
  {
   "cell_type": "markdown",
   "metadata": {
    "pycharm": {
     "name": "#%% md\n"
    }
   },
   "source": [
    "## Read Data"
   ]
  },
  {
   "cell_type": "code",
   "execution_count": null,
   "metadata": {
    "pycharm": {
     "name": "#%%\n"
    }
   },
   "outputs": [],
   "source": [
    "data_df = read_odds(countries='all')\n",
    "data_df = remove_nan_vals(data_df)\n",
    "# data_df = drop_bookies(data_df)\n",
    "# data_df = drop_date_time(data_df)\n",
    "data_df[\"Date\"] = pd.to_datetime(data_df[\"Date\"])\n",
    "data_df = transform_odds_to_probs(data_df)\n",
    "data_df = drop_duplicates(data_df)\n",
    "# data_df = data_df.drop(['Country'], axis=1)\n",
    "# data_df.drop_duplicates(inplace=True)\n",
    "data_df.describe()"
   ]
  },
  {
   "cell_type": "markdown",
   "metadata": {
    "pycharm": {
     "name": "#%% md\n"
    }
   },
   "source": [
    "## Add features"
   ]
  },
  {
   "cell_type": "code",
   "execution_count": null,
   "metadata": {
    "pycharm": {
     "name": "#%%\n"
    }
   },
   "outputs": [],
   "source": [
    "print('Adding Last Close')\n",
    "data_df = calculate_last_close_feature(data_df)\n",
    "\n",
    "print('Adding Last FTR')\n",
    "data_df = calculate_last_ftr_feature(data_df)\n",
    "\n",
    "print('Adding MMR')\n",
    "data_df = calculate_mmr_feature(data_df)\n",
    "\n",
    "print('Adding Points')\n",
    "data_df = calculate_points_feature(data_df, num_matches=5)\n",
    "data_df = calculate_points_feature(data_df, num_matches=10)\n",
    "data_df = calculate_points_feature(data_df, num_matches=15)\n",
    "\n",
    "print('Adding Realized EV')\n",
    "data_df = calculate_realized_ev_feature(data_df, num_matches=3)\n",
    "data_df = calculate_realized_ev_feature(data_df, num_matches=5)\n",
    "data_df = calculate_realized_ev_feature(data_df, num_matches=9)\n",
    "\n",
    "print('Adding Shock')\n",
    "data_df = calculate_shock_feature(data_df, num_matches=1)\n",
    "data_df = calculate_shock_feature(data_df, num_matches=3)\n",
    "data_df = calculate_shock_feature(data_df, num_matches=5)\n",
    "\n",
    "print('Adding Winstreak')\n",
    "data_df = calculate_win_streak_feature(data_df)\n",
    "\n",
    "data_df"
   ]
  },
  {
   "cell_type": "markdown",
   "source": [
    "## Drop Results columns"
   ],
   "metadata": {
    "collapsed": false,
    "pycharm": {
     "name": "#%% md\n"
    }
   }
  },
  {
   "cell_type": "code",
   "execution_count": null,
   "outputs": [],
   "source": [
    "data_df_copy = data_df.copy()"
   ],
   "metadata": {
    "collapsed": false,
    "pycharm": {
     "name": "#%%\n"
    }
   }
  },
  {
   "cell_type": "code",
   "execution_count": null,
   "outputs": [],
   "source": [
    "# import math\n",
    "#\n",
    "#\n",
    "# def normalize_date(str_val):\n",
    "#     if type(str_val) != str and math.isnan(str_val):\n",
    "#         return None\n",
    "#     vals = str_val.split(\"/\")\n",
    "#     assert len(vals) == 3\n",
    "#     year = vals[-1]\n",
    "#     if len(year) == 2:\n",
    "#         if int(year) < 70:\n",
    "#             year = \"20\" + year\n",
    "#         else:\n",
    "#             year = \"19\" + year\n",
    "#     return f\"{vals[0]}/{vals[1]}/{year}\"\n",
    "#\n",
    "#\n",
    "# #1.3333\n",
    "# mmr_england_df = pd.read_csv(\"raw_data/englandm.csv\")\n",
    "# mmr_germany_df = pd.read_csv(\"raw_data/germanym.csv\")\n",
    "# mmr_sweden_df = pd.read_csv(\"raw_data/sweden.csv\")\n",
    "# mmr_italy_df = pd.read_csv(\"raw_data/italym.csv\")\n",
    "# print(\"Additional data loaded\")\n",
    "# mmr_england_df.Date = mmr_england_df.Date.apply(normalize_date)\n",
    "# mmr_england_df.Date = pd.to_datetime(mmr_england_df.Date, format=\"%d/%m/%Y\")\n",
    "# mmr_germany_df.Date = mmr_germany_df.Date.apply(normalize_date)\n",
    "# mmr_germany_df.Date = pd.to_datetime(mmr_germany_df.Date, format=\"%d/%m/%Y\")\n",
    "# mmr_italy_df.Date = mmr_italy_df.Date.apply(normalize_date)\n",
    "# mmr_italy_df.Date = pd.to_datetime(mmr_italy_df.Date, format=\"%d/%m/%Y\")\n",
    "# mmr_sweden_df.Date = mmr_sweden_df.Date.apply(normalize_date)\n",
    "# # mmr_sweden_df.Date = pd.to_datetime(mmr_sweden_df.Date, format=\"%d/%m/%Y\")"
   ],
   "metadata": {
    "collapsed": false,
    "pycharm": {
     "name": "#%%\n"
    }
   }
  },
  {
   "cell_type": "code",
   "execution_count": null,
   "outputs": [],
   "source": [
    "# main_teams = set(data_df[\"H_team\"]).union(data_df[\"A_team\"])\n",
    "# filt = lambda x: [i for i in x if not i.startswith(\"Unnamed:\")]\n",
    "# england_c = filt(mmr_england_df.columns)\n",
    "# germany_c = filt(mmr_germany_df.columns)\n",
    "# sweden_c = filt(mmr_sweden_df.columns)\n",
    "# italy_c = filt(mmr_italy_df.columns)\n",
    "# res = np.concatenate([\n",
    "#     mmr_england_df[[\"HomeTeam\", \"AwayTeam\", \"Date\", \"FTHG\", \"FTAG\"]].values,\n",
    "#     mmr_germany_df[[\"HomeTeam\", \"AwayTeam\", \"Date\", \"FTHG\", \"FTAG\"]].values,\n",
    "#     mmr_italy_df[[\"HomeTeam\", \"AwayTeam\", \"Date\", \"FTHG\", \"FTAG\"]].values,\n",
    "#     mmr_sweden_df[[\"Home\", \"Away\", \"Date\", \"HG\", \"AG\"]].values,\n",
    "# ])\n",
    "# mmr_df = pd.DataFrame(data=res, columns=[\"Home\", \"Away\", \"Date\", \"FTHG\", \"FTAG\"])\n",
    "# mmr_teams = set(mmr_df[\"Home\"]).union(set(mmr_df[\"Away\"]))\n",
    "# mmr_teams = set([x.lower() for x in mmr_teams if type(x) is str])\n",
    "# england_teams = set(mmr_england_df[\"HomeTeam\"]).union(set(mmr_england_df[\"AwayTeam\"]))\n",
    "# england_teams = set([x.lower() for x in england_teams if type(x) is str])\n",
    "# data_teams = set(data_df[\"H_team\"]).union(set(data_df[\"A_team\"]))\n",
    "# data_teams = set([x.lower() for x in data_teams if type(x) is str])\n",
    "#\n",
    "# k = data_df[data_df[\"Country\"] == \"england\"]\n",
    "# leagues = [\"league-one\", \"championship\", \"premier-league\", \"league-two\"]\n",
    "#\n",
    "# k = k[k[\"League\"].isin(leagues)]\n",
    "# k_teams = set(k[\"H_team\"]).union(set(k[\"A_team\"]))\n",
    "# k_teams = set([x.lower().replace(\" \", \"\") for x in k_teams if type(x) is str])\n",
    "# k_teams ^ england_teams"
   ],
   "metadata": {
    "collapsed": false,
    "pycharm": {
     "name": "#%%\n"
    }
   }
  },
  {
   "cell_type": "code",
   "execution_count": null,
   "outputs": [],
   "source": [],
   "metadata": {
    "collapsed": false,
    "pycharm": {
     "name": "#%%\n"
    }
   }
  },
  {
   "cell_type": "code",
   "execution_count": null,
   "metadata": {
    "pycharm": {
     "name": "#%%\n"
    }
   },
   "outputs": [],
   "source": [
    "# data_df = data_df.drop(['FTHG', 'FTAG', 'HT1HG', 'HT1AG', 'HT2HG', 'HT2AG'], axis=1)\n",
    "# data_df"
   ]
  },
  {
   "cell_type": "code",
   "execution_count": null,
   "metadata": {
    "pycharm": {
     "name": "#%%\n"
    }
   },
   "outputs": [],
   "source": [
    "# data_df.loc[data_df['League'] == 'premier-league'].reset_index(drop=True)\n",
    "#premier_league_df"
   ]
  },
  {
   "cell_type": "code",
   "execution_count": null,
   "metadata": {
    "pycharm": {
     "name": "#%%\n"
    }
   },
   "outputs": [],
   "source": [
    "#data_df = data_df.loc[data_df['League'] != 'premier-league'].reset_index(drop=True)\n",
    "#data_df"
   ]
  },
  {
   "cell_type": "markdown",
   "metadata": {
    "pycharm": {
     "name": "#%% md\n"
    }
   },
   "source": [
    "## Let's try and drop teams\n",
    "\n",
    "`Idea`: Maybe MMR is a good proxy for team!  \n",
    "\n",
    "Let's also drop the country for good measure..."
   ]
  },
  {
   "cell_type": "code",
   "execution_count": null,
   "metadata": {
    "pycharm": {
     "name": "#%%\n"
    }
   },
   "outputs": [],
   "source": [
    "# data_without_teams_df = data_df.drop(['H_team', 'A_team', 'Country'], axis=1)\n",
    "data_without_teams_df = data_df"
   ]
  },
  {
   "cell_type": "markdown",
   "metadata": {
    "pycharm": {
     "name": "#%% md\n"
    }
   },
   "source": [
    "## Let's one-hot encode league\n",
    "\n",
    "The NN can't handle categorical features and league gives context to the MMR"
   ]
  },
  {
   "cell_type": "code",
   "execution_count": null,
   "metadata": {
    "pycharm": {
     "name": "#%%\n"
    }
   },
   "outputs": [],
   "source": [
    "# from sklearn.preprocessing import OneHotEncoder\n",
    "\n",
    "# #creating instance of one-hot-encoder\n",
    "# encoder = OneHotEncoder()\n",
    "\n",
    "# #perform one-hot encoding on 'League' column \n",
    "# encoder_df = pd.DataFrame(encoder.fit_transform(data_without_teams_df[['League']]).toarray())\n",
    "# # encoder_df\n",
    "\n",
    "# # #merge one-hot encoded columns back with original DataFrame\n",
    "# data_without_teams_df = data_without_teams_df.join(encoder_df)\n",
    "\n",
    "# data_without_teams_df = data_without_teams_df.drop(['League'], axis=1)\n",
    "# data_without_teams_df"
   ]
  },
  {
   "cell_type": "code",
   "execution_count": null,
   "metadata": {
    "pycharm": {
     "name": "#%%\n"
    }
   },
   "outputs": [],
   "source": [
    "data_without_teams_df"
   ]
  },
  {
   "cell_type": "markdown",
   "metadata": {
    "pycharm": {
     "name": "#%% md\n"
    }
   },
   "source": [
    "## Split the Data: Train, Val, Test"
   ]
  },
  {
   "cell_type": "code",
   "execution_count": null,
   "outputs": [],
   "source": [
    "columns = ['H_LastFTG', 'A_LastFTG', 'H_elo', 'A_elo', 'H_5Points', 'A_5Points',\n",
    "           'H_10Points', 'A_10Points', 'H_15Points', 'A_15Points', 'H_3EVs',\n",
    "           'A_3EVs', 'H_5EVs', 'A_5EVs', 'H_9EVs', 'A_9EVs', 'H_1shock',\n",
    "           'A_1shock', 'H_3shock', 'A_3shock', 'H_5shock', 'A_5shock',\n",
    "           'H_winstreak', 'A_winstreak']\n",
    "all_columns = ['H_team', 'A_team', 'FTHG', 'FTAG', 'H_elo', \"A_elo\", 'HO_Pinnacle', 'DO_Pinnacle', 'AO_Pinnacle',\n",
    "               'H_LastOdds',\n",
    "               'A_LastOdds', 'H_LastFTG', 'A_LastFTG',\n",
    "               'H_5Points', 'A_5Points', 'H_10Points', 'A_10Points', 'H_15Points', 'A_15Points',\n",
    "               'H_3EVs', 'A_3EVs', 'H_5EVs', 'A_5EVs', 'H_9EVs', 'A_9EVs', 'H_1shock', 'A_1shock', 'H_3shock',\n",
    "               'A_3shock', 'H_5shock', 'A_5shock', 'H_winstreak', 'A_winstreak']\n",
    "drop_later_columns = ['H_team', 'A_team', 'FTHG', 'FTAG']"
   ],
   "metadata": {
    "collapsed": false,
    "pycharm": {
     "name": "#%%\n"
    }
   }
  },
  {
   "cell_type": "code",
   "execution_count": null,
   "metadata": {
    "pycharm": {
     "name": "#%%\n"
    }
   },
   "outputs": [],
   "source": [
    "data_for_splitting = data_without_teams_df.copy()\n",
    "data_for_splitting[\"H_elo\"] = -1\n",
    "data_for_splitting[\"A_elo\"] = -1\n",
    "# training_df = data_for_splitting\n",
    "# # training_df = data_for_splitting.loc[data_for_splitting['League'] != 'premier-league']\n",
    "# # training_df = training_df.drop(['League'], axis=1)\n",
    "#\n",
    "# train_size = 0.85\n",
    "# val_size = 0.15\n",
    "#\n",
    "# assert train_size + val_size == 1.0\n",
    "#\n",
    "# train_index = int(len(training_df) * train_size)\n",
    "# df_train = training_df[0:train_index]\n",
    "# df_valid = training_df[train_index:]\n",
    "#\n",
    "# target_columns = ['HC_Pinnacle', 'DC_Pinnacle', 'AC_Pinnacle']\n",
    "#\n",
    "# X, y = training_df[all_columns], training_df[target_columns]\n",
    "# X_train, y_train = df_train[all_columns].copy(), df_train[target_columns].copy()\n",
    "# X_valid, y_valid = df_valid[all_columns].copy(), df_valid[target_columns].copy()"
   ]
  },
  {
   "cell_type": "code",
   "execution_count": null,
   "metadata": {
    "pycharm": {
     "name": "#%%\n"
    }
   },
   "outputs": [],
   "source": [
    "finetuning_df = data_for_splitting  #.loc[data_for_splitting['League'] == 'premier-league']\n",
    "# finetuning_df = finetuning_df.drop(['League'], axis=1)\n",
    "\n",
    "train_size = 0.70\n",
    "val_size = 0.15\n",
    "test_size = 0.15\n",
    "\n",
    "assert train_size + val_size + test_size == 1.0\n",
    "\n",
    "train_index = int(len(finetuning_df) * train_size)\n",
    "val_index = train_index + int(len(finetuning_df) * val_size)\n",
    "df_train = finetuning_df[0:train_index]\n",
    "df_valid = finetuning_df[train_index:val_index]\n",
    "df_test = finetuning_df[val_index:]\n",
    "\n",
    "target_columns = ['HC_Pinnacle', 'DC_Pinnacle', 'AC_Pinnacle']\n",
    "\n",
    "X_finetuning, y_finetuning = finetuning_df[all_columns].copy(), finetuning_df[target_columns].copy()\n",
    "X_finetuning_train, y_finetuning_train = df_train[all_columns].copy(), df_train[target_columns].copy()\n",
    "X_finetuning_valid, y_finetuning_valid = df_valid[all_columns].copy(), df_valid[target_columns].copy()\n",
    "X_finetuning_test, y_finetuning_test = df_test[all_columns].copy(), df_test[target_columns].copy()"
   ]
  },
  {
   "cell_type": "code",
   "execution_count": null,
   "metadata": {
    "pycharm": {
     "name": "#%%\n"
    }
   },
   "outputs": [],
   "source": [
    "# print(X_train.shape), print(y_train.shape)\n",
    "# print(X_valid.shape), print(y_valid.shape)"
   ]
  },
  {
   "cell_type": "code",
   "execution_count": null,
   "metadata": {
    "pycharm": {
     "name": "#%%\n"
    }
   },
   "outputs": [],
   "source": [
    "print(X_finetuning_train.shape), print(y_finetuning_train.shape)\n",
    "print(X_finetuning_valid.shape), print(y_finetuning_valid.shape)\n",
    "print(X_finetuning_test.shape), print(y_finetuning_test.shape)"
   ]
  },
  {
   "cell_type": "markdown",
   "source": [
    "# Calculate elo\n",
    "Get initial elo from training"
   ],
   "metadata": {
    "collapsed": false,
    "pycharm": {
     "name": "#%% md\n"
    }
   }
  },
  {
   "cell_type": "code",
   "execution_count": null,
   "outputs": [],
   "source": [
    "from elo_calculator import EloCalculator\n",
    "\n",
    "teams_all = set(data_df[\"A_team\"]).union(data_df[\"H_team\"])\n",
    "teams_elo = {k: 1500 for k in teams_all}\n",
    "\n",
    "elo = EloCalculator()\n",
    "for row in X_finetuning_train.itertuples():\n",
    "    elo.update(row.H_team, row.A_team, row.FTHG, row.FTAG, teams_elo)"
   ],
   "metadata": {
    "collapsed": false,
    "pycharm": {
     "name": "#%%\n"
    }
   }
  },
  {
   "cell_type": "markdown",
   "source": [
    "Add elo to games"
   ],
   "metadata": {
    "collapsed": false,
    "pycharm": {
     "name": "#%% md\n"
    }
   }
  },
  {
   "cell_type": "code",
   "execution_count": null,
   "outputs": [],
   "source": [
    "def update_elo(df_update, teams):\n",
    "    for idx, row in df_update.iterrows():\n",
    "        df_update.loc[idx, 'H_elo'] = teams[row.H_team]\n",
    "        df_update.loc[idx, 'A_elo'] = teams[row.A_team]\n",
    "        elo.update(row.H_team, row.A_team, row.FTHG, row.FTAG, teams)\n",
    "\n",
    "\n",
    "update_elo(X_finetuning_train, teams_elo)\n",
    "update_elo(X_finetuning_valid, teams_elo)\n",
    "update_elo(X_finetuning_test, teams_elo)"
   ],
   "metadata": {
    "collapsed": false,
    "pycharm": {
     "name": "#%%\n"
    }
   }
  },
  {
   "cell_type": "code",
   "execution_count": null,
   "outputs": [],
   "source": [
    "X_finetuning_train.drop(drop_later_columns, axis=1, inplace=True)\n",
    "X_finetuning_valid.drop(drop_later_columns, axis=1, inplace=True)\n",
    "X_finetuning_test.drop(drop_later_columns, axis=1, inplace=True)"
   ],
   "metadata": {
    "collapsed": false,
    "pycharm": {
     "name": "#%%\n"
    }
   }
  },
  {
   "cell_type": "code",
   "execution_count": null,
   "outputs": [],
   "source": [
    "X_finetuning_test"
   ],
   "metadata": {
    "collapsed": false,
    "pycharm": {
     "name": "#%%\n"
    }
   }
  },
  {
   "cell_type": "markdown",
   "metadata": {
    "pycharm": {
     "name": "#%% md\n"
    }
   },
   "source": [
    "## Plotting distribution of the newly created features\n",
    "\n",
    "Let's plot some values to see their distribution..."
   ]
  },
  {
   "cell_type": "code",
   "execution_count": null,
   "metadata": {
    "pycharm": {
     "name": "#%%\n"
    }
   },
   "outputs": [],
   "source": [
    "print(X.columns)"
   ]
  },
  {
   "cell_type": "code",
   "execution_count": null,
   "metadata": {
    "pycharm": {
     "name": "#%%\n"
    }
   },
   "outputs": [],
   "source": [
    "X[['H_MMR', 'A_MMR']].hist(bins=50)\n",
    "plt.show()"
   ]
  },
  {
   "cell_type": "code",
   "execution_count": null,
   "metadata": {
    "pycharm": {
     "name": "#%%\n"
    }
   },
   "outputs": [],
   "source": [
    "X[['H_LastOdds', 'A_LastOdds']].hist(bins=50)\n",
    "plt.show()"
   ]
  },
  {
   "cell_type": "code",
   "execution_count": null,
   "metadata": {
    "pycharm": {
     "name": "#%%\n"
    }
   },
   "outputs": [],
   "source": [
    "X[['H_LastFTG', 'A_LastFTG']].hist(bins=50)\n",
    "plt.show()"
   ]
  },
  {
   "cell_type": "code",
   "execution_count": null,
   "metadata": {
    "pycharm": {
     "name": "#%%\n"
    }
   },
   "outputs": [],
   "source": [
    "X[['H_5Points', 'A_5Points', 'H_10Points', 'A_10Points', 'H_15Points', 'A_15Points']].hist(bins=50)\n",
    "plt.show()"
   ]
  },
  {
   "cell_type": "code",
   "execution_count": null,
   "metadata": {
    "pycharm": {
     "name": "#%%\n"
    }
   },
   "outputs": [],
   "source": [
    "X[['H_3EVs', 'A_3EVs', 'H_5EVs', 'A_5EVs', 'H_9EVs', 'A_9EVs']].hist(bins=50)\n",
    "plt.show()"
   ]
  },
  {
   "cell_type": "code",
   "execution_count": null,
   "metadata": {
    "pycharm": {
     "name": "#%%\n"
    }
   },
   "outputs": [],
   "source": [
    "X[['H_1shock', 'A_1shock', 'H_3shock', 'A_3shock', 'H_5shock', 'A_5shock']].hist(bins=50)\n",
    "plt.show()"
   ]
  },
  {
   "cell_type": "code",
   "execution_count": null,
   "metadata": {
    "pycharm": {
     "name": "#%%\n"
    }
   },
   "outputs": [],
   "source": [
    "X[['H_winstreak', 'A_winstreak']].hist(bins=50)\n",
    "plt.show()"
   ]
  },
  {
   "cell_type": "markdown",
   "metadata": {
    "pycharm": {
     "name": "#%% md\n"
    }
   },
   "source": [
    "## Scaling\n",
    "\n",
    "We need to scale all these features, time to deploy MinMaxScaler!"
   ]
  },
  {
   "cell_type": "code",
   "execution_count": null,
   "outputs": [],
   "source": [
    "from sklearn.preprocessing import MaxAbsScaler\n",
    "\n",
    "finetuning_scaler = MaxAbsScaler()\n",
    "\n",
    "print(finetuning_scaler.fit(X_finetuning_train[columns]))\n",
    "X_finetuning_train_scale = X_finetuning_train.copy()\n",
    "X_finetuning_train_scale[columns] = finetuning_scaler.transform(X_finetuning_train[columns])\n",
    "\n",
    "X_finetuning_val_scale = X_finetuning_valid.copy()\n",
    "X_finetuning_val_scale[columns] = finetuning_scaler.transform(X_finetuning_valid[columns])\n",
    "\n",
    "X_finetuning_test_scale = X_finetuning_test.copy()\n",
    "X_finetuning_test_scale[columns] = finetuning_scaler.transform(X_finetuning_test[columns])\n",
    "\n",
    "X_finetuning_train_scale"
   ],
   "metadata": {
    "collapsed": false,
    "pycharm": {
     "name": "#%%\n"
    }
   }
  },
  {
   "cell_type": "code",
   "execution_count": null,
   "metadata": {
    "pycharm": {
     "name": "#%%\n"
    }
   },
   "outputs": [],
   "source": [
    "# from sklearn.preprocessing import MinMaxScaler\n",
    "#\n",
    "# training_scaler = MinMaxScaler()\n",
    "#\n",
    "# print(training_scaler.fit(X_train[columns]))\n",
    "# X_train_scale = X_train.copy()\n",
    "# X_train_scale[columns] = training_scaler.transform(X_train[columns])\n",
    "#\n",
    "# X_val_scale = X_valid.copy()\n",
    "# X_val_scale[columns] = training_scaler.transform(X_valid[columns])\n",
    "#\n",
    "# finetuning_scaler = MinMaxScaler()\n",
    "#\n",
    "# print(finetuning_scaler.fit(X_finetuning_train[columns]))\n",
    "# X_finetuning_train_scale = X_finetuning_train.copy()\n",
    "# X_finetuning_train_scale[columns] = finetuning_scaler.transform(X_finetuning_train[columns])\n",
    "#\n",
    "# X_finetuning_val_scale = X_finetuning_valid.copy()\n",
    "# X_finetuning_val_scale[columns] = finetuning_scaler.transform(X_finetuning_valid[columns])\n",
    "#\n",
    "# X_finetuning_test_scale = X_finetuning_test.copy()\n",
    "# X_finetuning_test_scale[columns] = finetuning_scaler.transform(X_finetuning_test[columns])\n",
    "#\n",
    "# X_finetuning_train_scale"
   ]
  },
  {
   "cell_type": "code",
   "execution_count": null,
   "metadata": {
    "pycharm": {
     "name": "#%%\n"
    }
   },
   "outputs": [],
   "source": [
    "# from sklearn.preprocessing import MaxAbsScaler\n",
    "#\n",
    "# training_scaler = MaxAbsScaler()\n",
    "#\n",
    "# print(training_scaler.fit(X_train[columns]))\n",
    "# X_train_scale = X_train.copy()\n",
    "# X_train_scale[columns] = training_scaler.transform(X_train[columns])\n",
    "#\n",
    "# X_val_scale = X_valid.copy()\n",
    "# X_val_scale[columns] = training_scaler.transform(X_valid[columns])\n",
    "#\n",
    "# finetuning_scaler = MaxAbsScaler()\n",
    "#\n",
    "# print(finetuning_scaler.fit(X_finetuning_train[columns]))\n",
    "# X_finetuning_train_scale = X_finetuning_train.copy()\n",
    "# X_finetuning_train_scale[columns] = finetuning_scaler.transform(X_finetuning_train[columns])\n",
    "#\n",
    "# X_finetuning_val_scale = X_finetuning_valid.copy()\n",
    "# X_finetuning_val_scale[columns] = finetuning_scaler.transform(X_finetuning_valid[columns])\n",
    "#\n",
    "# X_finetuning_test_scale = X_finetuning_test.copy()\n",
    "# X_finetuning_test_scale[columns] = finetuning_scaler.transform(X_finetuning_test[columns])\n",
    "#\n",
    "# X_finetuning_train_scale"
   ]
  },
  {
   "cell_type": "code",
   "execution_count": null,
   "metadata": {
    "pycharm": {
     "name": "#%%\n"
    }
   },
   "outputs": [],
   "source": [
    "# X_train_scale"
   ]
  },
  {
   "attachments": {},
   "cell_type": "markdown",
   "metadata": {
    "pycharm": {
     "name": "#%% md\n"
    }
   },
   "source": [
    "## Modelling\n",
    "\n",
    "**Input layer**: The number of neurons in the input layer is calculated as follows:  \n",
    "```Number of features in the training set + 1```  \n",
    "\n",
    "In this case, as there were 29 features in the training set to begin with, 30 input neurons are defined accordingly.  \n",
    "\n",
    "**Hidden layer**: One hidden layer is defined, as a single layer is suitable when working with most datasets. The number of neurons in the hidden layer is determined as follows:  \n",
    "```Training Data Samples/Factor * (Input Neurons + Output Neurons)```  \n",
    "\n",
    "A factor of 1 is set in this case, the purpose of the factor being to prevent overfitting. A factor can take a value between 1 and 10. With 30 neurons in the input layer, 3 neuron in the output layer and 38,250 observations in the training set, the hidden layer is assigned 1200 neurons.  \n",
    "\n",
    "**Output layer**: As this is the result layer, the output layer takes a value of 3.\n"
   ]
  },
  {
   "cell_type": "code",
   "execution_count": 150,
   "metadata": {
    "pycharm": {
     "name": "#%%\n"
    }
   },
   "outputs": [
    {
     "name": "stdout",
     "output_type": "stream",
     "text": [
      "Model: \"sequential_10\"\n",
      "_________________________________________________________________\n",
      "Layer (type)                 Output Shape              Param #   \n",
      "=================================================================\n",
      "dense_48 (Dense)             (None, 30)                900       \n",
      "_________________________________________________________________\n",
      "dense_49 (Dense)             (None, 800)               24800     \n",
      "_________________________________________________________________\n",
      "module_wrapper_27 (ModuleWra (None, 800)               0         \n",
      "_________________________________________________________________\n",
      "dense_50 (Dense)             (None, 800)               640800    \n",
      "_________________________________________________________________\n",
      "module_wrapper_28 (ModuleWra (None, 800)               0         \n",
      "_________________________________________________________________\n",
      "dense_51 (Dense)             (None, 800)               640800    \n",
      "_________________________________________________________________\n",
      "module_wrapper_29 (ModuleWra (None, 800)               0         \n",
      "_________________________________________________________________\n",
      "dense_52 (Dense)             (None, 3)                 2403      \n",
      "=================================================================\n",
      "Total params: 1,309,703\n",
      "Trainable params: 1,309,703\n",
      "Non-trainable params: 0\n",
      "_________________________________________________________________\n"
     ]
    }
   ],
   "source": [
    "import tensorflow\n",
    "\n",
    "tensorflow.random.set_seed(1)\n",
    "from tensorflow.python.keras.layers import Dense\n",
    "from tensorflow.keras.layers import Dropout\n",
    "from tensorflow.python.keras.models import Sequential\n",
    "from tensorflow.python.keras.wrappers.scikit_learn import KerasRegressor\n",
    "\n",
    "model = Sequential()\n",
    "model.add(Dense(29 + 1, input_dim=29, kernel_initializer='normal', activation='relu'))\n",
    "# model.add(Dense(1200, activation='relu'))\n",
    "# model.add(Dropout(0.2))\n",
    "model.add(Dense(800, activation='relu'))\n",
    "model.add(Dropout(0.2))\n",
    "model.add(Dense(800, activation='relu'))\n",
    "model.add(Dropout(0.2))\n",
    "model.add(Dense(800, activation='relu'))\n",
    "model.add(Dropout(0.2))\n",
    "model.add(Dense(3, activation='linear'))\n",
    "model.summary()"
   ]
  },
  {
   "cell_type": "code",
   "execution_count": 151,
   "outputs": [
    {
     "name": "stdout",
     "output_type": "stream",
     "text": [
      "Epoch 1/50\n",
      "86/86 [==============================] - 5s 35ms/step - loss: 0.0087 - mse: 0.0087 - mae: 0.0626 - val_loss: 0.0021 - val_mse: 0.0021 - val_mae: 0.0348\n",
      "Epoch 2/50\n",
      "86/86 [==============================] - 2s 28ms/step - loss: 0.0020 - mse: 0.0020 - mae: 0.0342 - val_loss: 0.0020 - val_mse: 0.0020 - val_mae: 0.0333\n",
      "Epoch 3/50\n",
      "86/86 [==============================] - 2s 26ms/step - loss: 0.0017 - mse: 0.0017 - mae: 0.0313 - val_loss: 0.0019 - val_mse: 0.0019 - val_mae: 0.0328\n",
      "Epoch 4/50\n",
      "86/86 [==============================] - 2s 26ms/step - loss: 0.0016 - mse: 0.0016 - mae: 0.0298 - val_loss: 0.0019 - val_mse: 0.0019 - val_mae: 0.0326\n",
      "Epoch 5/50\n",
      "86/86 [==============================] - 2s 25ms/step - loss: 0.0015 - mse: 0.0015 - mae: 0.0290 - val_loss: 0.0019 - val_mse: 0.0019 - val_mae: 0.0322\n",
      "Epoch 6/50\n",
      "86/86 [==============================] - 2s 28ms/step - loss: 0.0014 - mse: 0.0014 - mae: 0.0283 - val_loss: 0.0018 - val_mse: 0.0018 - val_mae: 0.0320\n",
      "Epoch 7/50\n",
      "86/86 [==============================] - 2s 27ms/step - loss: 0.0014 - mse: 0.0014 - mae: 0.0280 - val_loss: 0.0018 - val_mse: 0.0018 - val_mae: 0.0312\n",
      "Epoch 8/50\n",
      "86/86 [==============================] - 2s 27ms/step - loss: 0.0014 - mse: 0.0014 - mae: 0.0274 - val_loss: 0.0018 - val_mse: 0.0018 - val_mae: 0.0313\n",
      "Epoch 9/50\n",
      "86/86 [==============================] - 2s 26ms/step - loss: 0.0013 - mse: 0.0013 - mae: 0.0271 - val_loss: 0.0019 - val_mse: 0.0019 - val_mae: 0.0322\n",
      "Epoch 10/50\n",
      "86/86 [==============================] - 2s 27ms/step - loss: 0.0013 - mse: 0.0013 - mae: 0.0266 - val_loss: 0.0019 - val_mse: 0.0019 - val_mae: 0.0322\n",
      "Epoch 11/50\n",
      "86/86 [==============================] - 2s 26ms/step - loss: 0.0013 - mse: 0.0013 - mae: 0.0264 - val_loss: 0.0018 - val_mse: 0.0018 - val_mae: 0.0310\n",
      "Epoch 12/50\n",
      "86/86 [==============================] - 2s 26ms/step - loss: 0.0012 - mse: 0.0012 - mae: 0.0260 - val_loss: 0.0019 - val_mse: 0.0019 - val_mae: 0.0323\n",
      "Epoch 13/50\n",
      "86/86 [==============================] - 2s 26ms/step - loss: 0.0013 - mse: 0.0013 - mae: 0.0262 - val_loss: 0.0017 - val_mse: 0.0017 - val_mae: 0.0304\n",
      "Epoch 14/50\n",
      "86/86 [==============================] - 2s 26ms/step - loss: 0.0012 - mse: 0.0012 - mae: 0.0255 - val_loss: 0.0017 - val_mse: 0.0017 - val_mae: 0.0306\n",
      "Epoch 15/50\n",
      "86/86 [==============================] - 2s 26ms/step - loss: 0.0012 - mse: 0.0012 - mae: 0.0252 - val_loss: 0.0021 - val_mse: 0.0021 - val_mae: 0.0341\n",
      "Epoch 16/50\n",
      "86/86 [==============================] - 2s 26ms/step - loss: 0.0012 - mse: 0.0012 - mae: 0.0250 - val_loss: 0.0018 - val_mse: 0.0018 - val_mae: 0.0303\n",
      "Epoch 17/50\n",
      "86/86 [==============================] - 2s 25ms/step - loss: 0.0012 - mse: 0.0012 - mae: 0.0251 - val_loss: 0.0016 - val_mse: 0.0016 - val_mae: 0.0297\n",
      "Epoch 18/50\n",
      "86/86 [==============================] - 2s 25ms/step - loss: 0.0012 - mse: 0.0012 - mae: 0.0251 - val_loss: 0.0016 - val_mse: 0.0016 - val_mae: 0.0295\n",
      "Epoch 19/50\n",
      "86/86 [==============================] - 2s 26ms/step - loss: 0.0011 - mse: 0.0011 - mae: 0.0245 - val_loss: 0.0016 - val_mse: 0.0016 - val_mae: 0.0291\n",
      "Epoch 20/50\n",
      "86/86 [==============================] - 2s 25ms/step - loss: 0.0011 - mse: 0.0011 - mae: 0.0244 - val_loss: 0.0016 - val_mse: 0.0016 - val_mae: 0.0295\n",
      "Epoch 21/50\n",
      "86/86 [==============================] - 2s 26ms/step - loss: 0.0011 - mse: 0.0011 - mae: 0.0241 - val_loss: 0.0016 - val_mse: 0.0016 - val_mae: 0.0288\n",
      "Epoch 22/50\n",
      "86/86 [==============================] - 2s 25ms/step - loss: 0.0011 - mse: 0.0011 - mae: 0.0243 - val_loss: 0.0016 - val_mse: 0.0016 - val_mae: 0.0297\n",
      "Epoch 23/50\n",
      "86/86 [==============================] - 2s 25ms/step - loss: 0.0011 - mse: 0.0011 - mae: 0.0243 - val_loss: 0.0016 - val_mse: 0.0016 - val_mae: 0.0294\n",
      "Epoch 24/50\n",
      "86/86 [==============================] - 2s 26ms/step - loss: 0.0011 - mse: 0.0011 - mae: 0.0240 - val_loss: 0.0016 - val_mse: 0.0016 - val_mae: 0.0296\n",
      "Epoch 25/50\n",
      "86/86 [==============================] - 2s 25ms/step - loss: 0.0011 - mse: 0.0011 - mae: 0.0241 - val_loss: 0.0017 - val_mse: 0.0017 - val_mae: 0.0297\n",
      "Epoch 26/50\n",
      "86/86 [==============================] - 2s 27ms/step - loss: 0.0011 - mse: 0.0011 - mae: 0.0238 - val_loss: 0.0016 - val_mse: 0.0016 - val_mae: 0.0289\n",
      "Epoch 27/50\n",
      "86/86 [==============================] - 2s 25ms/step - loss: 0.0011 - mse: 0.0011 - mae: 0.0237 - val_loss: 0.0016 - val_mse: 0.0016 - val_mae: 0.0293\n",
      "Epoch 28/50\n",
      "86/86 [==============================] - 2s 26ms/step - loss: 0.0011 - mse: 0.0011 - mae: 0.0237 - val_loss: 0.0017 - val_mse: 0.0017 - val_mae: 0.0301\n",
      "Epoch 29/50\n",
      "86/86 [==============================] - 2s 26ms/step - loss: 0.0011 - mse: 0.0011 - mae: 0.0236 - val_loss: 0.0016 - val_mse: 0.0016 - val_mae: 0.0287\n",
      "Epoch 30/50\n",
      "86/86 [==============================] - 2s 27ms/step - loss: 0.0011 - mse: 0.0011 - mae: 0.0236 - val_loss: 0.0017 - val_mse: 0.0017 - val_mae: 0.0297\n",
      "Epoch 31/50\n",
      "86/86 [==============================] - 2s 26ms/step - loss: 0.0011 - mse: 0.0011 - mae: 0.0234 - val_loss: 0.0015 - val_mse: 0.0015 - val_mae: 0.0283\n",
      "Epoch 32/50\n",
      "86/86 [==============================] - 2s 25ms/step - loss: 0.0011 - mse: 0.0011 - mae: 0.0233 - val_loss: 0.0016 - val_mse: 0.0016 - val_mae: 0.0292\n",
      "Epoch 33/50\n",
      "86/86 [==============================] - 2s 25ms/step - loss: 0.0011 - mse: 0.0011 - mae: 0.0235 - val_loss: 0.0017 - val_mse: 0.0017 - val_mae: 0.0299\n",
      "Epoch 34/50\n",
      "86/86 [==============================] - 2s 26ms/step - loss: 0.0011 - mse: 0.0011 - mae: 0.0232 - val_loss: 0.0016 - val_mse: 0.0016 - val_mae: 0.0287\n",
      "Epoch 35/50\n",
      "86/86 [==============================] - 2s 25ms/step - loss: 0.0010 - mse: 0.0010 - mae: 0.0230 - val_loss: 0.0017 - val_mse: 0.0017 - val_mae: 0.0297\n",
      "Epoch 36/50\n",
      "86/86 [==============================] - 2s 26ms/step - loss: 0.0011 - mse: 0.0011 - mae: 0.0231 - val_loss: 0.0016 - val_mse: 0.0016 - val_mae: 0.0285\n",
      "Epoch 37/50\n",
      "86/86 [==============================] - 2s 25ms/step - loss: 0.0011 - mse: 0.0011 - mae: 0.0232 - val_loss: 0.0018 - val_mse: 0.0018 - val_mae: 0.0308\n",
      "Epoch 38/50\n",
      "86/86 [==============================] - 2s 25ms/step - loss: 0.0011 - mse: 0.0011 - mae: 0.0232 - val_loss: 0.0017 - val_mse: 0.0017 - val_mae: 0.0297\n",
      "Epoch 39/50\n",
      "86/86 [==============================] - 2s 25ms/step - loss: 0.0011 - mse: 0.0011 - mae: 0.0231 - val_loss: 0.0016 - val_mse: 0.0016 - val_mae: 0.0284\n",
      "Epoch 40/50\n",
      "86/86 [==============================] - 2s 26ms/step - loss: 0.0011 - mse: 0.0011 - mae: 0.0230 - val_loss: 0.0017 - val_mse: 0.0017 - val_mae: 0.0294\n",
      "Epoch 41/50\n",
      "86/86 [==============================] - 2s 25ms/step - loss: 0.0011 - mse: 0.0011 - mae: 0.0232 - val_loss: 0.0017 - val_mse: 0.0017 - val_mae: 0.0299\n",
      "Epoch 42/50\n",
      "86/86 [==============================] - 2s 26ms/step - loss: 0.0011 - mse: 0.0011 - mae: 0.0231 - val_loss: 0.0016 - val_mse: 0.0016 - val_mae: 0.0286\n",
      "Epoch 43/50\n",
      "86/86 [==============================] - 2s 26ms/step - loss: 0.0010 - mse: 0.0010 - mae: 0.0228 - val_loss: 0.0016 - val_mse: 0.0016 - val_mae: 0.0289\n",
      "Epoch 44/50\n",
      "86/86 [==============================] - 2s 25ms/step - loss: 0.0010 - mse: 0.0010 - mae: 0.0230 - val_loss: 0.0016 - val_mse: 0.0016 - val_mae: 0.0285\n",
      "Epoch 45/50\n",
      "86/86 [==============================] - 2s 25ms/step - loss: 0.0010 - mse: 0.0010 - mae: 0.0226 - val_loss: 0.0016 - val_mse: 0.0016 - val_mae: 0.0285\n",
      "Epoch 46/50\n",
      "86/86 [==============================] - 2s 25ms/step - loss: 0.0010 - mse: 0.0010 - mae: 0.0228 - val_loss: 0.0017 - val_mse: 0.0017 - val_mae: 0.0295\n",
      "Epoch 47/50\n",
      "86/86 [==============================] - 2s 25ms/step - loss: 0.0010 - mse: 0.0010 - mae: 0.0228 - val_loss: 0.0015 - val_mse: 0.0015 - val_mae: 0.0282\n",
      "Epoch 48/50\n",
      "86/86 [==============================] - 2s 25ms/step - loss: 0.0010 - mse: 0.0010 - mae: 0.0228 - val_loss: 0.0016 - val_mse: 0.0016 - val_mae: 0.0288\n",
      "Epoch 49/50\n",
      "86/86 [==============================] - 2s 25ms/step - loss: 0.0010 - mse: 0.0010 - mae: 0.0227 - val_loss: 0.0016 - val_mse: 0.0016 - val_mae: 0.0284\n",
      "Epoch 50/50\n",
      "86/86 [==============================] - 2s 25ms/step - loss: 0.0010 - mse: 0.0010 - mae: 0.0229 - val_loss: 0.0016 - val_mse: 0.0016 - val_mae: 0.0287\n"
     ]
    }
   ],
   "source": [
    "model.compile(loss='mse', optimizer='adam', metrics=['mse', 'mae'])\n",
    "history = model.fit(X_finetuning_train_scale, y_finetuning_train, epochs=50, batch_size=400, verbose=1,\n",
    "                    validation_data=(X_finetuning_val_scale, y_finetuning_valid))"
   ],
   "metadata": {
    "collapsed": false,
    "pycharm": {
     "name": "#%%\n"
    }
   }
  },
  {
   "cell_type": "code",
   "execution_count": null,
   "metadata": {
    "pycharm": {
     "name": "#%%\n"
    }
   },
   "outputs": [],
   "source": [
    "# model.compile(loss='mse', optimizer='adam', metrics=['mse', 'mae'])\n",
    "# history = model.fit(X_train_scale, y_train, epochs=50, batch_size=400, verbose=1,\n",
    "#                     validation_data=(X_val_scale, y_valid))\n",
    "# predictions = model.predict(X_val_scale)"
   ]
  },
  {
   "cell_type": "code",
   "execution_count": null,
   "metadata": {
    "pycharm": {
     "name": "#%%\n"
    }
   },
   "outputs": [],
   "source": [
    "# print(history.history.keys())\n",
    "# # \"Loss\"\n",
    "# plt.plot(history.history['loss'])\n",
    "# plt.plot(history.history['val_loss'])\n",
    "# plt.title('model loss')\n",
    "# plt.ylabel('loss')\n",
    "# plt.xlabel('epoch')\n",
    "# plt.legend(['train', 'validation'], loc='upper right')\n",
    "# plt.show()\n",
    "#\n",
    "# from sklearn.metrics import mean_squared_error\n",
    "#\n",
    "# print('MSE between Preds  & True: ', mean_squared_error(predictions, y_valid))\n",
    "# print('MSE between Open  & Close: ',\n",
    "#       mean_squared_error(X_valid[['HO_Pinnacle', 'DO_Pinnacle', 'AO_Pinnacle']], y_valid))"
   ]
  },
  {
   "cell_type": "code",
   "execution_count": null,
   "metadata": {
    "pycharm": {
     "name": "#%%\n"
    }
   },
   "outputs": [],
   "source": [
    "# history = model.fit(X_finetuning_train_scale, y_finetuning_train, epochs=50, batch_size=200, verbose=1,\n",
    "#                     validation_data=(X_finetuning_val_scale, y_finetuning_valid))"
   ]
  },
  {
   "cell_type": "code",
   "execution_count": 152,
   "outputs": [],
   "source": [
    "predictions = model.predict(X_finetuning_test_scale)"
   ],
   "metadata": {
    "collapsed": false,
    "pycharm": {
     "name": "#%%\n"
    }
   }
  },
  {
   "cell_type": "code",
   "execution_count": 153,
   "metadata": {
    "pycharm": {
     "name": "#%%\n"
    }
   },
   "outputs": [
    {
     "name": "stdout",
     "output_type": "stream",
     "text": [
      "dict_keys(['loss', 'mse', 'mae', 'val_loss', 'val_mse', 'val_mae'])\n"
     ]
    },
    {
     "data": {
      "text/plain": "<Figure size 640x480 with 1 Axes>",
      "image/png": "[encoded data removed]"
     },
     "metadata": {},
     "output_type": "display_data"
    },
    {
     "name": "stdout",
     "output_type": "stream",
     "text": [
      "MSE between Preds  & True:  0.0018053271231331873\n",
      "MSE between Open  & Close:  0.0020582171707751533\n"
     ]
    }
   ],
   "source": [
    "print(history.history.keys())\n",
    "# \"Loss\"\n",
    "plt.plot(history.history['loss'])\n",
    "plt.plot(history.history['val_loss'])\n",
    "plt.title('model loss')\n",
    "plt.ylabel('loss')\n",
    "plt.xlabel('epoch')\n",
    "plt.legend(['train', 'validation'], loc='upper right')\n",
    "plt.show()\n",
    "\n",
    "from sklearn.metrics import mean_squared_error\n",
    "\n",
    "print('MSE between Preds  & True: ', mean_squared_error(predictions, y_finetuning_test))\n",
    "print('MSE between Open  & Close: ',\n",
    "      mean_squared_error(X_finetuning_test_scale[['HO_Pinnacle', 'DO_Pinnacle', 'AO_Pinnacle']], y_finetuning_test))"
   ]
  },
  {
   "cell_type": "code",
   "execution_count": 154,
   "metadata": {
    "pycharm": {
     "name": "#%%\n"
    }
   },
   "outputs": [
    {
     "name": "stdout",
     "output_type": "stream",
     "text": [
      "dict_keys(['loss', 'mse', 'mae', 'val_loss', 'val_mse', 'val_mae'])\n"
     ]
    },
    {
     "data": {
      "text/plain": "<Figure size 640x480 with 1 Axes>",
      "image/png": "[encoded data removed]"
     },
     "metadata": {},
     "output_type": "display_data"
    }
   ],
   "source": [
    "print(history.history.keys())\n",
    "# \"Loss\"\n",
    "plt.plot(history.history['loss'])\n",
    "plt.plot(history.history['val_loss'])\n",
    "plt.title('model loss')\n",
    "plt.ylabel('loss')\n",
    "plt.xlabel('epoch')\n",
    "plt.legend(['train', 'validation'], loc='upper right')\n",
    "plt.show()"
   ]
  },
  {
   "cell_type": "markdown",
   "metadata": {
    "pycharm": {
     "name": "#%% md\n"
    }
   },
   "source": [
    "## Backtesting"
   ]
  },
  {
   "cell_type": "code",
   "execution_count": 162,
   "outputs": [
    {
     "data": {
      "text/plain": "{'roi': 37.83000000000001,\n 'bet_count': 147,\n 'bet_winning': 72,\n 'bet_loosing': 75,\n 'win_percentage': 0.4897959183673469}"
     },
     "execution_count": 162,
     "metadata": {},
     "output_type": "execute_result"
    }
   ],
   "source": [
    "\n",
    "from collections import namedtuple\n",
    "\n",
    "\n",
    "class Games:\n",
    "    def __init__(self, home, draw, away):\n",
    "        self.home = home\n",
    "        self.draw = draw\n",
    "        self.away = away\n",
    "\n",
    "    def get_normalized(self):\n",
    "        total = self.home + self.draw + self.away\n",
    "        return Games(self.home / total, self.draw / total, self.away / total)\n",
    "\n",
    "    def get_odds(self):\n",
    "        return Games(1 / self.home, 1 / self.draw, 1 / self.away)\n",
    "\n",
    "\n",
    "def buy_function(diff_h, diff_d, diff_a, margin=0):\n",
    "    max = np.argmax([diff_h, diff_d, diff_a])\n",
    "    res = [False, False, False]\n",
    "    if [diff_h, diff_d, diff_a][max] > margin:\n",
    "        res[max] = True\n",
    "    return res\n",
    "\n",
    "\n",
    "def generate_buy_signals(given_percentage, predicted_percentage, margin=0):\n",
    "    diff_h = predicted_percentage.home - given_percentage.home\n",
    "    diff_d = predicted_percentage.draw - given_percentage.draw\n",
    "    diff_a = predicted_percentage.away - given_percentage.away\n",
    "    buy = [buy_function(*v, margin) for v in zip(diff_h, diff_d, diff_a)]\n",
    "    return Games(*[np.array(k) for k in zip(*buy)])\n",
    "\n",
    "\n",
    "def evaluate_buy_signals(home_goals, away_goals, odds, buy_sig):\n",
    "    h_outcome = home_goals > away_goals\n",
    "    d_outcome = home_goals == away_goals\n",
    "    a_outcome = home_goals < away_goals\n",
    "\n",
    "    h_win = ((h_outcome & buy_sig.home) * odds.home).sum()\n",
    "    h_spent = buy_sig.home.sum()\n",
    "    d_win = ((d_outcome & buy_sig.draw) * odds.draw).sum()\n",
    "    d_spent = buy_sig.draw.sum()\n",
    "    a_win = ((a_outcome & buy_sig.away) * odds.away).sum()\n",
    "    a_spent = buy_sig.away.sum()\n",
    "\n",
    "    total_spent = h_spent + d_spent + a_spent\n",
    "    winning_bets = ((h_outcome & buy_sig.home).sum()\n",
    "                    + (d_outcome & buy_sig.draw).sum()\n",
    "                    + (a_outcome & buy_sig.away).sum())\n",
    "\n",
    "    metrics = {\n",
    "        \"roi\": (h_win + d_win + a_win - total_spent),\n",
    "        \"bet_count\": total_spent,\n",
    "        \"bet_winning\": winning_bets,\n",
    "        \"bet_loosing\": total_spent - winning_bets,\n",
    "        \"win_percentage\": winning_bets / total_spent\n",
    "    }\n",
    "\n",
    "    return metrics\n",
    "\n",
    "open_percentage = Games(df_test[\"HO_Pinnacle\"].array,\n",
    "                        df_test[\"DO_Pinnacle\"].array,\n",
    "                        df_test[\"AO_Pinnacle\"].array)\n",
    "\n",
    "predictions = model.predict(X_finetuning_test_scale)\n",
    "predicted_odds = Games(*predictions.T)\n",
    "buy_sig = generate_buy_signals(open_percentage, predicted_odds, 0.05)\n",
    "evaluate_buy_signals(df_test[\"FTHG\"].array, df_test[\"FTAG\"].array, open_percentage.get_odds(), buy_sig)"
   ],
   "metadata": {
    "collapsed": false,
    "pycharm": {
     "name": "#%%\n"
    }
   }
  },
  {
   "cell_type": "code",
   "execution_count": 160,
   "outputs": [
    {
     "data": {
      "text/plain": "(Timestamp('2021-03-21 00:00:00'), Timestamp('2022-11-22 00:00:00'))"
     },
     "execution_count": 160,
     "metadata": {},
     "output_type": "execute_result"
    }
   ],
   "source": [
    "min(df_test[\"Date\"]), max(df_test[\"Date\"])"
   ],
   "metadata": {
    "collapsed": false,
    "pycharm": {
     "name": "#%%\n"
    }
   }
  },
  {
   "cell_type": "markdown",
   "source": [
    "# Proof of concept\n",
    "lets say we always predict the close correctly (we use the actual close)"
   ],
   "metadata": {
    "collapsed": false,
    "pycharm": {
     "name": "#%% md\n"
    }
   }
  },
  {
   "cell_type": "code",
   "execution_count": 157,
   "outputs": [
    {
     "data": {
      "text/plain": "{'roi': 3210.719999999994,\n 'bet_count': 47593,\n 'bet_winning': 18832,\n 'bet_loosing': 28761,\n 'win_percentage': 0.3956884415775429}"
     },
     "execution_count": 157,
     "metadata": {},
     "output_type": "execute_result"
    }
   ],
   "source": [
    "open_percentage = Games(data_df[\"HO_Pinnacle\"].array,\n",
    "                        data_df[\"DO_Pinnacle\"].array,\n",
    "                        data_df[\"AO_Pinnacle\"].array)\n",
    "\n",
    "close_percentage = Games(data_df[\"HC_Pinnacle\"].array,\n",
    "                         data_df[\"DC_Pinnacle\"].array,\n",
    "                         data_df[\"AC_Pinnacle\"].array)\n",
    "buy_sig = generate_buy_signals(open_percentage, close_percentage)\n",
    "\n",
    "evaluate_buy_signals(data_df[\"FTHG\"].array, data_df[\"FTAG\"].array, open_percentage.get_odds(), buy_sig)"
   ],
   "metadata": {
    "collapsed": false,
    "pycharm": {
     "name": "#%%\n"
    }
   }
  },
  {
   "cell_type": "code",
   "execution_count": 158,
   "outputs": [
    {
     "data": {
      "text/plain": "<Figure size 640x480 with 1 Axes>",
      "image/png": "[encoded data removed]"
     },
     "metadata": {},
     "output_type": "display_data"
    },
    {
     "data": {
      "text/plain": "<Figure size 640x480 with 1 Axes>",
      "image/png": "[encoded data removed]"
     },
     "metadata": {},
     "output_type": "display_data"
    },
    {
     "data": {
      "text/plain": "<Figure size 640x480 with 1 Axes>",
      "image/png": "[encoded data removed]"
     },
     "metadata": {},
     "output_type": "display_data"
    }
   ],
   "source": [
    "(data_df[\"HO_Pinnacle\"] - data_df[\"HC_Pinnacle\"]).hist()\n",
    "plt.show()\n",
    "(data_df[\"DO_Pinnacle\"] - data_df[\"DC_Pinnacle\"]).hist()\n",
    "plt.show()\n",
    "(data_df[\"AO_Pinnacle\"] - data_df[\"AC_Pinnacle\"]).hist()\n",
    "plt.show()"
   ],
   "metadata": {
    "collapsed": false,
    "pycharm": {
     "name": "#%%\n"
    }
   }
  },
  {
   "cell_type": "markdown",
   "source": [
    "## Betting heatmap"
   ],
   "metadata": {
    "collapsed": false,
    "pycharm": {
     "name": "#%% md\n"
    }
   }
  },
  {
   "cell_type": "code",
   "execution_count": null,
   "outputs": [],
   "source": [
    "data_df = data_df_copy.copy()\n",
    "# data_df = data_df[data_df[\"Date\"] > pd.Timestamp(year=2019, month=1, day=1)]\n",
    "data_df = data_df[pd.Timestamp(year=2021, month=1, day=1) < data_df[\"Date\"]]\n",
    "len(data_df)"
   ],
   "metadata": {
    "collapsed": false,
    "pycharm": {
     "name": "#%%\n"
    }
   }
  },
  {
   "cell_type": "code",
   "execution_count": 161,
   "outputs": [
    {
     "name": "stdout",
     "output_type": "stream",
     "text": [
      "........"
     ]
    },
    {
     "data": {
      "text/plain": "<Figure size 1400x1400 with 2 Axes>",
      "image/png": "[encoded data removed]"
     },
     "metadata": {},
     "output_type": "display_data"
    }
   ],
   "source": [
    "\n",
    "\n",
    "bet_names = [\"bet-at-home\", \"bet365\", \"Betsson\", \"bwin\", \"Pinnacle\", \"Unibet\", \"WilliamHill\", \"ComeOn\"]\n",
    "prefix = \"O\"\n",
    "\n",
    "bet_odds = [Games(\n",
    "    data_df[f\"H{prefix}_{name}\"],\n",
    "    data_df[f\"D{prefix}_{name}\"],\n",
    "    data_df[f\"A{prefix}_{name}\"]) for name in bet_names]\n",
    "\n",
    "\n",
    "def betting_heatmap(home_goals, away_goals, bet_odds, margin=0):\n",
    "    res = np.zeros((len(bet_names), len(bet_names)))\n",
    "    for i, betting_site in enumerate(bet_odds):\n",
    "        for q, truth in enumerate(bet_odds):\n",
    "            buy_sig = generate_buy_signals(betting_site, truth.get_normalized(), margin)\n",
    "            res[i][q] = round(evaluate_buy_signals(home_goals, away_goals, betting_site.get_odds(), buy_sig)['roi'], 2)\n",
    "        print(\".\", end=\"\")\n",
    "\n",
    "    plt.figure(figsize=(14, 14))\n",
    "\n",
    "    vcenter = 0\n",
    "    vmin, vmax = np.amin(res), np.amax(res)\n",
    "\n",
    "    normalize = matplotlib.colors.TwoSlopeNorm(vcenter=vcenter, vmin=vmin, vmax=vmax)\n",
    "    colormap = matplotlib.cm.RdBu\n",
    "\n",
    "    ax = sns.heatmap(res, annot=True, xticklabels=bet_names, yticklabels=bet_names, fmt='g', cmap=colormap,\n",
    "                     norm=normalize)\n",
    "\n",
    "\n",
    "betting_heatmap(data_df[\"FTHG\"].array, data_df[\"FTAG\"].array, bet_odds, 0.03)"
   ],
   "metadata": {
    "collapsed": false,
    "pycharm": {
     "name": "#%%\n"
    }
   }
  },
  {
   "cell_type": "code",
   "execution_count": null,
   "outputs": [],
   "source": [
    "b365 = Games(\n",
    "    data_df[f\"H{prefix}_bet365\"],\n",
    "    data_df[f\"D{prefix}_bet365\"],\n",
    "    data_df[f\"A{prefix}_bet365\"])\n",
    "pinnacle = Games(\n",
    "    data_df[f\"H{prefix}_Pinnacle\"],\n",
    "    data_df[f\"D{prefix}_Pinnacle\"],\n",
    "    data_df[f\"A{prefix}_Pinnacle\"])\n",
    "signals = generate_buy_signals(b365, pinnacle.get_normalized())\n",
    "evaluate_buy_signals(data_df[\"FTHG\"].array, data_df[\"FTAG\"].array, b365.get_odds(), signals)"
   ],
   "metadata": {
    "collapsed": false,
    "pycharm": {
     "name": "#%%\n"
    }
   }
  },
  {
   "cell_type": "code",
   "execution_count": null,
   "outputs": [],
   "source": [],
   "metadata": {
    "collapsed": false,
    "pycharm": {
     "name": "#%%\n"
    }
   }
  }
 ],
 "metadata": {
  "kernelspec": {
   "display_name": "Python 3.8.0 64-bit",
   "language": "python",
   "name": "python3"
  },
  "language_info": {
   "codemirror_mode": {
    "name": "ipython",
    "version": 3
   },
   "file_extension": ".py",
   "mimetype": "text/x-python",
   "name": "python",
   "nbconvert_exporter": "python",
   "pygments_lexer": "ipython3",
   "version": "3.8.0"
  },
  "orig_nbformat": 4,
  "vscode": {
   "interpreter": {
    "hash": "6b75d418c9c326d7aaeaf58c1d55517f17bf57fa9a587eb451d9ce82208dc144"
   }
  }
 },
 "nbformat": 4,
 "nbformat_minor": 2
}