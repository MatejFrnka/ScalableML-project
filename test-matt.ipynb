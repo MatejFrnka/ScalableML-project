{
 "cells": [
  {
   "cell_type": "code",
   "execution_count": 6,
   "outputs": [],
   "source": [
    "import matplotlib\n",
    "from utils.OddsData import *\n",
    "from utils.Features import *\n",
    "import numpy as np\n",
    "import seaborn as sns\n",
    "import pandas as pd\n",
    "import matplotlib.pyplot as plt\n"
   ],
   "metadata": {
    "collapsed": false,
    "pycharm": {
     "name": "#%%\n"
    }
   }
  },
  {
   "cell_type": "markdown",
   "metadata": {
    "pycharm": {
     "name": "#%% md\n"
    }
   },
   "source": [
    "## Read Data"
   ]
  },
  {
   "cell_type": "code",
   "execution_count": 7,
   "metadata": {
    "pycharm": {
     "name": "#%%\n"
    }
   },
   "outputs": [
    {
     "data": {
      "text/plain": "               FTHG          FTAG         HT1HG         HT1AG         HT2HG  \\\ncount  48820.000000  48820.000000  48820.000000  48820.000000  48820.000000   \nmean       1.492565      1.214072      0.662106      0.535027      0.830459   \nstd        1.266787      1.139861      0.823940      0.738695      0.922016   \nmin        0.000000      0.000000      0.000000      0.000000      0.000000   \n25%        1.000000      0.000000      0.000000      0.000000      0.000000   \n50%        1.000000      1.000000      0.000000      0.000000      1.000000   \n75%        2.000000      2.000000      1.000000      1.000000      1.000000   \nmax       12.000000     10.000000      7.000000      6.000000      7.000000   \n\n              HT2AG  HO_bet-at-home  DO_bet-at-home  AO_bet-at-home  \\\ncount  48820.000000    48820.000000    48820.000000    48820.000000   \nmean       0.679045        0.469979        0.291537        0.337521   \nstd        0.838844        0.134186        0.036485        0.121420   \nmin        0.000000        0.050761        0.073692        0.027108   \n25%        0.000000        0.384615        0.280112        0.255102   \n50%        0.000000        0.460829        0.298507        0.327869   \n75%        1.000000        0.555556        0.310559        0.403226   \nmax        6.000000        0.943396        0.800000        0.952381   \n\n       HC_bet-at-home  ...  AO_WilliamHill  HC_WilliamHill  DC_WilliamHill  \\\ncount    48820.000000  ...    48820.000000    48820.000000    48820.000000   \nmean         0.465270  ...        0.332549        0.457722        0.286977   \nstd          0.144934  ...        0.122100        0.143684        0.036371   \nmin          0.045455  ...        0.019608        0.034483        0.047619   \n25%          0.367647  ...        0.250000        0.363636        0.277778   \n50%          0.456621  ...        0.322581        0.444444        0.294118   \n75%          0.555556  ...        0.400000        0.546448        0.312500   \nmax          0.970874  ...        0.961538        0.980392        0.617284   \n\n       AC_WilliamHill     HO_ComeOn     DO_ComeOn     AO_ComeOn     HC_ComeOn  \\\ncount    48820.000000  48820.000000  48820.000000  48820.000000  48820.000000   \nmean         0.330371      0.467460      0.286059      0.333086      0.458857   \nstd          0.129799      0.135978      0.034107      0.122906      0.147768   \nmin          0.024390      0.041806      0.071429      0.025157      0.038462   \n25%          0.238095      0.384615      0.275482      0.250000      0.357143   \n50%          0.322581      0.458716      0.294118      0.322581      0.452489   \n75%          0.400000      0.546448      0.304878      0.400000      0.550209   \nmax          0.961538      0.980392      0.458716      0.925926      0.970874   \n\n          DC_ComeOn     AC_ComeOn  \ncount  48820.000000  48820.000000  \nmean       0.282277      0.328757  \nstd        0.038729      0.132782  \nmin        0.048780      0.025381  \n25%        0.266667      0.238095  \n50%        0.289855      0.317460  \n75%        0.307692      0.401606  \nmax        0.598802      0.952381  \n\n[8 rows x 54 columns]",
      "text/html": "<div>\n<style scoped>\n    .dataframe tbody tr th:only-of-type {\n        vertical-align: middle;\n    }\n\n    .dataframe tbody tr th {\n        vertical-align: top;\n    }\n\n    .dataframe thead th {\n        text-align: right;\n    }\n</style>\n<table border=\"1\" class=\"dataframe\">\n  <thead>\n    <tr style=\"text-align: right;\">\n      <th></th>\n      <th>FTHG</th>\n      <th>FTAG</th>\n      <th>HT1HG</th>\n      <th>HT1AG</th>\n      <th>HT2HG</th>\n      <th>HT2AG</th>\n      <th>HO_bet-at-home</th>\n      <th>DO_bet-at-home</th>\n      <th>AO_bet-at-home</th>\n      <th>HC_bet-at-home</th>\n      <th>...</th>\n      <th>AO_WilliamHill</th>\n      <th>HC_WilliamHill</th>\n      <th>DC_WilliamHill</th>\n      <th>AC_WilliamHill</th>\n      <th>HO_ComeOn</th>\n      <th>DO_ComeOn</th>\n      <th>AO_ComeOn</th>\n      <th>HC_ComeOn</th>\n      <th>DC_ComeOn</th>\n      <th>AC_ComeOn</th>\n    </tr>\n  </thead>\n  <tbody>\n    <tr>\n      <th>count</th>\n      <td>48820.000000</td>\n      <td>48820.000000</td>\n      <td>48820.000000</td>\n      <td>48820.000000</td>\n      <td>48820.000000</td>\n      <td>48820.000000</td>\n      <td>48820.000000</td>\n      <td>48820.000000</td>\n      <td>48820.000000</td>\n      <td>48820.000000</td>\n      <td>...</td>\n      <td>48820.000000</td>\n      <td>48820.000000</td>\n      <td>48820.000000</td>\n      <td>48820.000000</td>\n      <td>48820.000000</td>\n      <td>48820.000000</td>\n      <td>48820.000000</td>\n      <td>48820.000000</td>\n      <td>48820.000000</td>\n      <td>48820.000000</td>\n    </tr>\n    <tr>\n      <th>mean</th>\n      <td>1.492565</td>\n      <td>1.214072</td>\n      <td>0.662106</td>\n      <td>0.535027</td>\n      <td>0.830459</td>\n      <td>0.679045</td>\n      <td>0.469979</td>\n      <td>0.291537</td>\n      <td>0.337521</td>\n      <td>0.465270</td>\n      <td>...</td>\n      <td>0.332549</td>\n      <td>0.457722</td>\n      <td>0.286977</td>\n      <td>0.330371</td>\n      <td>0.467460</td>\n      <td>0.286059</td>\n      <td>0.333086</td>\n      <td>0.458857</td>\n      <td>0.282277</td>\n      <td>0.328757</td>\n    </tr>\n    <tr>\n      <th>std</th>\n      <td>1.266787</td>\n      <td>1.139861</td>\n      <td>0.823940</td>\n      <td>0.738695</td>\n      <td>0.922016</td>\n      <td>0.838844</td>\n      <td>0.134186</td>\n      <td>0.036485</td>\n      <td>0.121420</td>\n      <td>0.144934</td>\n      <td>...</td>\n      <td>0.122100</td>\n      <td>0.143684</td>\n      <td>0.036371</td>\n      <td>0.129799</td>\n      <td>0.135978</td>\n      <td>0.034107</td>\n      <td>0.122906</td>\n      <td>0.147768</td>\n      <td>0.038729</td>\n      <td>0.132782</td>\n    </tr>\n    <tr>\n      <th>min</th>\n      <td>0.000000</td>\n      <td>0.000000</td>\n      <td>0.000000</td>\n      <td>0.000000</td>\n      <td>0.000000</td>\n      <td>0.000000</td>\n      <td>0.050761</td>\n      <td>0.073692</td>\n      <td>0.027108</td>\n      <td>0.045455</td>\n      <td>...</td>\n      <td>0.019608</td>\n      <td>0.034483</td>\n      <td>0.047619</td>\n      <td>0.024390</td>\n      <td>0.041806</td>\n      <td>0.071429</td>\n      <td>0.025157</td>\n      <td>0.038462</td>\n      <td>0.048780</td>\n      <td>0.025381</td>\n    </tr>\n    <tr>\n      <th>25%</th>\n      <td>1.000000</td>\n      <td>0.000000</td>\n      <td>0.000000</td>\n      <td>0.000000</td>\n      <td>0.000000</td>\n      <td>0.000000</td>\n      <td>0.384615</td>\n      <td>0.280112</td>\n      <td>0.255102</td>\n      <td>0.367647</td>\n      <td>...</td>\n      <td>0.250000</td>\n      <td>0.363636</td>\n      <td>0.277778</td>\n      <td>0.238095</td>\n      <td>0.384615</td>\n      <td>0.275482</td>\n      <td>0.250000</td>\n      <td>0.357143</td>\n      <td>0.266667</td>\n      <td>0.238095</td>\n    </tr>\n    <tr>\n      <th>50%</th>\n      <td>1.000000</td>\n      <td>1.000000</td>\n      <td>0.000000</td>\n      <td>0.000000</td>\n      <td>1.000000</td>\n      <td>0.000000</td>\n      <td>0.460829</td>\n      <td>0.298507</td>\n      <td>0.327869</td>\n      <td>0.456621</td>\n      <td>...</td>\n      <td>0.322581</td>\n      <td>0.444444</td>\n      <td>0.294118</td>\n      <td>0.322581</td>\n      <td>0.458716</td>\n      <td>0.294118</td>\n      <td>0.322581</td>\n      <td>0.452489</td>\n      <td>0.289855</td>\n      <td>0.317460</td>\n    </tr>\n    <tr>\n      <th>75%</th>\n      <td>2.000000</td>\n      <td>2.000000</td>\n      <td>1.000000</td>\n      <td>1.000000</td>\n      <td>1.000000</td>\n      <td>1.000000</td>\n      <td>0.555556</td>\n      <td>0.310559</td>\n      <td>0.403226</td>\n      <td>0.555556</td>\n      <td>...</td>\n      <td>0.400000</td>\n      <td>0.546448</td>\n      <td>0.312500</td>\n      <td>0.400000</td>\n      <td>0.546448</td>\n      <td>0.304878</td>\n      <td>0.400000</td>\n      <td>0.550209</td>\n      <td>0.307692</td>\n      <td>0.401606</td>\n    </tr>\n    <tr>\n      <th>max</th>\n      <td>12.000000</td>\n      <td>10.000000</td>\n      <td>7.000000</td>\n      <td>6.000000</td>\n      <td>7.000000</td>\n      <td>6.000000</td>\n      <td>0.943396</td>\n      <td>0.800000</td>\n      <td>0.952381</td>\n      <td>0.970874</td>\n      <td>...</td>\n      <td>0.961538</td>\n      <td>0.980392</td>\n      <td>0.617284</td>\n      <td>0.961538</td>\n      <td>0.980392</td>\n      <td>0.458716</td>\n      <td>0.925926</td>\n      <td>0.970874</td>\n      <td>0.598802</td>\n      <td>0.952381</td>\n    </tr>\n  </tbody>\n</table>\n<p>8 rows × 54 columns</p>\n</div>"
     },
     "execution_count": 7,
     "metadata": {},
     "output_type": "execute_result"
    }
   ],
   "source": [
    "data_df = read_odds(countries='all')\n",
    "data_df = remove_nan_vals(data_df)\n",
    "# data_df = drop_bookies(data_df)\n",
    "# data_df = drop_date_time(data_df)\n",
    "data_df[\"Date\"] = pd.to_datetime(data_df[\"Date\"])\n",
    "data_df = transform_odds_to_probs(data_df)\n",
    "data_df = drop_duplicates(data_df)\n",
    "# data_df = data_df.drop(['Country'], axis=1)\n",
    "# data_df.drop_duplicates(inplace=True)\n",
    "data_df.describe()"
   ]
  },
  {
   "cell_type": "markdown",
   "metadata": {
    "pycharm": {
     "name": "#%% md\n"
    }
   },
   "source": [
    "## Add features"
   ]
  },
  {
   "cell_type": "code",
   "execution_count": 8,
   "metadata": {
    "pycharm": {
     "name": "#%%\n"
    }
   },
   "outputs": [
    {
     "name": "stdout",
     "output_type": "stream",
     "text": [
      "Adding Last Close\n",
      "Adding Last FTR\n",
      "Adding MMR\n",
      "Adding Points\n",
      "Adding Realized EV\n",
      "Adding Shock\n",
      "Adding Winstreak\n"
     ]
    },
    {
     "data": {
      "text/plain": "       Country           League            H_team           A_team       Date  \\\n0      germany           3-liga   AlemanniaAachen  PreussenMunster 2012-09-25   \n1      germany           3-liga  ArminiaBielefeld       Chemnitzer 2012-09-25   \n2      germany     2-bundesliga    EnergieCottbus        Paderborn 2012-09-25   \n3      germany     2-bundesliga            FCKoln     FSVFrankfurt 2012-09-25   \n4      england  national-league      CambridgeUtd    Kidderminster 2012-09-25   \n...        ...              ...               ...              ...        ...   \n48815  england       league-two           Walsall          Crawley 2022-11-19   \n48816  england  national-league          YorkCity       Wealdstone 2022-11-19   \n48817  england       league-one            Burton         Plymouth 2022-11-19   \n48818  england       league-one     BristolRovers     Peterborough 2022-11-19   \n48819  england       league-two           Crawley       Gillingham 2022-11-22   \n\n           Time  FTHG  FTAG  HT1HG  HT1AG  ...    H_9EVs    A_9EVs  H_1shock  \\\n0      18:00:00     1     2      0      0  ...  0.000000  0.000000  0.000000   \n1      18:00:00     0     0      0      0  ...  0.000000  0.000000  0.000000   \n2      16:30:00     2     1      0      0  ...  0.000000  0.000000  0.000000   \n3      16:30:00     2     1      0      0  ...  0.000000  0.000000  0.000000   \n4      19:45:00     1     3      0      0  ...  0.000000  0.000000  0.000000   \n...         ...   ...   ...    ...    ...  ...       ...       ...       ...   \n48815  15:00:00     2     1      1      1  ... -1.805081 -3.566225  0.288184   \n48816  15:00:00     1     2      1      0  ... -3.457133 -4.652999 -0.481162   \n48817  15:00:00     2     2      1      0  ... -3.739979  1.758084  0.355872   \n48818  15:00:00     1     0      0      0  ... -3.126201  1.576642 -0.500000   \n48819  19:45:00     0     0      0      0  ... -3.594510 -5.540918 -0.237693   \n\n       A_1shock  H_3shock  A_3shock  H_5shock  A_5shock  H_winstreak  \\\n0      0.000000  0.000000  0.000000  0.000000  0.000000            0   \n1      0.000000  0.000000  0.000000  0.000000  0.000000            0   \n2      0.000000  0.000000  0.000000  0.000000  0.000000            0   \n3      0.000000  0.000000  0.000000  0.000000  0.000000            0   \n4      0.000000  0.000000  0.000000  0.000000  0.000000            0   \n...         ...       ...       ...       ...       ...          ...   \n48815  0.695122  1.762884  1.197562  2.083843  3.004507            2   \n48816  0.150830 -1.400217 -0.232407 -2.014425 -1.977025           -3   \n48817 -0.383142  0.671257  0.365279  0.632352  1.780395           -2   \n48818 -0.669260 -0.463553 -0.035727  1.842694 -0.569305           -1   \n48819 -0.918919  0.651227 -2.664439  2.117735 -3.848979           -1   \n\n       A_winstreak  \n0                0  \n1                0  \n2                0  \n3                0  \n4                0  \n...            ...  \n48815            3  \n48816            1  \n48817           11  \n48818           -1  \n48819           -4  \n\n[48820 rows x 86 columns]",
      "text/html": "<div>\n<style scoped>\n    .dataframe tbody tr th:only-of-type {\n        vertical-align: middle;\n    }\n\n    .dataframe tbody tr th {\n        vertical-align: top;\n    }\n\n    .dataframe thead th {\n        text-align: right;\n    }\n</style>\n<table border=\"1\" class=\"dataframe\">\n  <thead>\n    <tr style=\"text-align: right;\">\n      <th></th>\n      <th>Country</th>\n      <th>League</th>\n      <th>H_team</th>\n      <th>A_team</th>\n      <th>Date</th>\n      <th>Time</th>\n      <th>FTHG</th>\n      <th>FTAG</th>\n      <th>HT1HG</th>\n      <th>HT1AG</th>\n      <th>...</th>\n      <th>H_9EVs</th>\n      <th>A_9EVs</th>\n      <th>H_1shock</th>\n      <th>A_1shock</th>\n      <th>H_3shock</th>\n      <th>A_3shock</th>\n      <th>H_5shock</th>\n      <th>A_5shock</th>\n      <th>H_winstreak</th>\n      <th>A_winstreak</th>\n    </tr>\n  </thead>\n  <tbody>\n    <tr>\n      <th>0</th>\n      <td>germany</td>\n      <td>3-liga</td>\n      <td>AlemanniaAachen</td>\n      <td>PreussenMunster</td>\n      <td>2012-09-25</td>\n      <td>18:00:00</td>\n      <td>1</td>\n      <td>2</td>\n      <td>0</td>\n      <td>0</td>\n      <td>...</td>\n      <td>0.000000</td>\n      <td>0.000000</td>\n      <td>0.000000</td>\n      <td>0.000000</td>\n      <td>0.000000</td>\n      <td>0.000000</td>\n      <td>0.000000</td>\n      <td>0.000000</td>\n      <td>0</td>\n      <td>0</td>\n    </tr>\n    <tr>\n      <th>1</th>\n      <td>germany</td>\n      <td>3-liga</td>\n      <td>ArminiaBielefeld</td>\n      <td>Chemnitzer</td>\n      <td>2012-09-25</td>\n      <td>18:00:00</td>\n      <td>0</td>\n      <td>0</td>\n      <td>0</td>\n      <td>0</td>\n      <td>...</td>\n      <td>0.000000</td>\n      <td>0.000000</td>\n      <td>0.000000</td>\n      <td>0.000000</td>\n      <td>0.000000</td>\n      <td>0.000000</td>\n      <td>0.000000</td>\n      <td>0.000000</td>\n      <td>0</td>\n      <td>0</td>\n    </tr>\n    <tr>\n      <th>2</th>\n      <td>germany</td>\n      <td>2-bundesliga</td>\n      <td>EnergieCottbus</td>\n      <td>Paderborn</td>\n      <td>2012-09-25</td>\n      <td>16:30:00</td>\n      <td>2</td>\n      <td>1</td>\n      <td>0</td>\n      <td>0</td>\n      <td>...</td>\n      <td>0.000000</td>\n      <td>0.000000</td>\n      <td>0.000000</td>\n      <td>0.000000</td>\n      <td>0.000000</td>\n      <td>0.000000</td>\n      <td>0.000000</td>\n      <td>0.000000</td>\n      <td>0</td>\n      <td>0</td>\n    </tr>\n    <tr>\n      <th>3</th>\n      <td>germany</td>\n      <td>2-bundesliga</td>\n      <td>FCKoln</td>\n      <td>FSVFrankfurt</td>\n      <td>2012-09-25</td>\n      <td>16:30:00</td>\n      <td>2</td>\n      <td>1</td>\n      <td>0</td>\n      <td>0</td>\n      <td>...</td>\n      <td>0.000000</td>\n      <td>0.000000</td>\n      <td>0.000000</td>\n      <td>0.000000</td>\n      <td>0.000000</td>\n      <td>0.000000</td>\n      <td>0.000000</td>\n      <td>0.000000</td>\n      <td>0</td>\n      <td>0</td>\n    </tr>\n    <tr>\n      <th>4</th>\n      <td>england</td>\n      <td>national-league</td>\n      <td>CambridgeUtd</td>\n      <td>Kidderminster</td>\n      <td>2012-09-25</td>\n      <td>19:45:00</td>\n      <td>1</td>\n      <td>3</td>\n      <td>0</td>\n      <td>0</td>\n      <td>...</td>\n      <td>0.000000</td>\n      <td>0.000000</td>\n      <td>0.000000</td>\n      <td>0.000000</td>\n      <td>0.000000</td>\n      <td>0.000000</td>\n      <td>0.000000</td>\n      <td>0.000000</td>\n      <td>0</td>\n      <td>0</td>\n    </tr>\n    <tr>\n      <th>...</th>\n      <td>...</td>\n      <td>...</td>\n      <td>...</td>\n      <td>...</td>\n      <td>...</td>\n      <td>...</td>\n      <td>...</td>\n      <td>...</td>\n      <td>...</td>\n      <td>...</td>\n      <td>...</td>\n      <td>...</td>\n      <td>...</td>\n      <td>...</td>\n      <td>...</td>\n      <td>...</td>\n      <td>...</td>\n      <td>...</td>\n      <td>...</td>\n      <td>...</td>\n      <td>...</td>\n    </tr>\n    <tr>\n      <th>48815</th>\n      <td>england</td>\n      <td>league-two</td>\n      <td>Walsall</td>\n      <td>Crawley</td>\n      <td>2022-11-19</td>\n      <td>15:00:00</td>\n      <td>2</td>\n      <td>1</td>\n      <td>1</td>\n      <td>1</td>\n      <td>...</td>\n      <td>-1.805081</td>\n      <td>-3.566225</td>\n      <td>0.288184</td>\n      <td>0.695122</td>\n      <td>1.762884</td>\n      <td>1.197562</td>\n      <td>2.083843</td>\n      <td>3.004507</td>\n      <td>2</td>\n      <td>3</td>\n    </tr>\n    <tr>\n      <th>48816</th>\n      <td>england</td>\n      <td>national-league</td>\n      <td>YorkCity</td>\n      <td>Wealdstone</td>\n      <td>2022-11-19</td>\n      <td>15:00:00</td>\n      <td>1</td>\n      <td>2</td>\n      <td>1</td>\n      <td>0</td>\n      <td>...</td>\n      <td>-3.457133</td>\n      <td>-4.652999</td>\n      <td>-0.481162</td>\n      <td>0.150830</td>\n      <td>-1.400217</td>\n      <td>-0.232407</td>\n      <td>-2.014425</td>\n      <td>-1.977025</td>\n      <td>-3</td>\n      <td>1</td>\n    </tr>\n    <tr>\n      <th>48817</th>\n      <td>england</td>\n      <td>league-one</td>\n      <td>Burton</td>\n      <td>Plymouth</td>\n      <td>2022-11-19</td>\n      <td>15:00:00</td>\n      <td>2</td>\n      <td>2</td>\n      <td>1</td>\n      <td>0</td>\n      <td>...</td>\n      <td>-3.739979</td>\n      <td>1.758084</td>\n      <td>0.355872</td>\n      <td>-0.383142</td>\n      <td>0.671257</td>\n      <td>0.365279</td>\n      <td>0.632352</td>\n      <td>1.780395</td>\n      <td>-2</td>\n      <td>11</td>\n    </tr>\n    <tr>\n      <th>48818</th>\n      <td>england</td>\n      <td>league-one</td>\n      <td>BristolRovers</td>\n      <td>Peterborough</td>\n      <td>2022-11-19</td>\n      <td>15:00:00</td>\n      <td>1</td>\n      <td>0</td>\n      <td>0</td>\n      <td>0</td>\n      <td>...</td>\n      <td>-3.126201</td>\n      <td>1.576642</td>\n      <td>-0.500000</td>\n      <td>-0.669260</td>\n      <td>-0.463553</td>\n      <td>-0.035727</td>\n      <td>1.842694</td>\n      <td>-0.569305</td>\n      <td>-1</td>\n      <td>-1</td>\n    </tr>\n    <tr>\n      <th>48819</th>\n      <td>england</td>\n      <td>league-two</td>\n      <td>Crawley</td>\n      <td>Gillingham</td>\n      <td>2022-11-22</td>\n      <td>19:45:00</td>\n      <td>0</td>\n      <td>0</td>\n      <td>0</td>\n      <td>0</td>\n      <td>...</td>\n      <td>-3.594510</td>\n      <td>-5.540918</td>\n      <td>-0.237693</td>\n      <td>-0.918919</td>\n      <td>0.651227</td>\n      <td>-2.664439</td>\n      <td>2.117735</td>\n      <td>-3.848979</td>\n      <td>-1</td>\n      <td>-4</td>\n    </tr>\n  </tbody>\n</table>\n<p>48820 rows × 86 columns</p>\n</div>"
     },
     "execution_count": 8,
     "metadata": {},
     "output_type": "execute_result"
    }
   ],
   "source": [
    "print('Adding Last Close')\n",
    "data_df = calculate_last_close_feature(data_df)\n",
    "\n",
    "print('Adding Last FTR')\n",
    "data_df = calculate_last_ftr_feature(data_df)\n",
    "\n",
    "print('Adding MMR')\n",
    "data_df = calculate_mmr_feature(data_df)\n",
    "\n",
    "print('Adding Points')\n",
    "data_df = calculate_points_feature(data_df, num_matches=5)\n",
    "data_df = calculate_points_feature(data_df, num_matches=10)\n",
    "data_df = calculate_points_feature(data_df, num_matches=15)\n",
    "\n",
    "print('Adding Realized EV')\n",
    "data_df = calculate_realized_ev_feature(data_df, num_matches=3)\n",
    "data_df = calculate_realized_ev_feature(data_df, num_matches=5)\n",
    "data_df = calculate_realized_ev_feature(data_df, num_matches=9)\n",
    "\n",
    "print('Adding Shock')\n",
    "data_df = calculate_shock_feature(data_df, num_matches=1)\n",
    "data_df = calculate_shock_feature(data_df, num_matches=3)\n",
    "data_df = calculate_shock_feature(data_df, num_matches=5)\n",
    "\n",
    "print('Adding Winstreak')\n",
    "data_df = calculate_win_streak_feature(data_df)\n",
    "\n",
    "data_df"
   ]
  },
  {
   "cell_type": "code",
   "execution_count": 55,
   "outputs": [
    {
     "data": {
      "text/plain": "0.2604260548955346"
     },
     "execution_count": 55,
     "metadata": {},
     "output_type": "execute_result"
    }
   ],
   "source": [
    "draw_cnt = len(data_df[data_df[\"FTHG\"] == data_df[\"FTAG\"]])\n",
    "draw_cnt / len(data_df)"
   ],
   "metadata": {
    "collapsed": false,
    "pycharm": {
     "name": "#%%\n"
    }
   }
  },
  {
   "cell_type": "markdown",
   "source": [
    "## Drop Results columns"
   ],
   "metadata": {
    "collapsed": false,
    "pycharm": {
     "name": "#%% md\n"
    }
   }
  },
  {
   "cell_type": "code",
   "execution_count": 9,
   "outputs": [],
   "source": [
    "data_df_copy = data_df.copy()"
   ],
   "metadata": {
    "collapsed": false,
    "pycharm": {
     "name": "#%%\n"
    }
   }
  },
  {
   "cell_type": "code",
   "execution_count": 10,
   "outputs": [],
   "source": [
    "data_df = data_df_copy.copy()"
   ],
   "metadata": {
    "collapsed": false,
    "pycharm": {
     "name": "#%%\n"
    }
   }
  },
  {
   "cell_type": "code",
   "execution_count": 11,
   "outputs": [],
   "source": [
    "# import math\n",
    "#\n",
    "#\n",
    "# def normalize_date(str_val):\n",
    "#     if type(str_val) != str and math.isnan(str_val):\n",
    "#         return None\n",
    "#     vals = str_val.split(\"/\")\n",
    "#     assert len(vals) == 3\n",
    "#     year = vals[-1]\n",
    "#     if len(year) == 2:\n",
    "#         if int(year) < 70:\n",
    "#             year = \"20\" + year\n",
    "#         else:\n",
    "#             year = \"19\" + year\n",
    "#     return f\"{vals[0]}/{vals[1]}/{year}\"\n",
    "#\n",
    "#\n",
    "# #1.3333\n",
    "# mmr_england_df = pd.read_csv(\"raw_data/englandm.csv\")\n",
    "# mmr_germany_df = pd.read_csv(\"raw_data/germanym.csv\")\n",
    "# mmr_sweden_df = pd.read_csv(\"raw_data/sweden.csv\")\n",
    "# mmr_italy_df = pd.read_csv(\"raw_data/italym.csv\")\n",
    "# print(\"Additional data loaded\")\n",
    "# mmr_england_df.Date = mmr_england_df.Date.apply(normalize_date)\n",
    "# mmr_england_df.Date = pd.to_datetime(mmr_england_df.Date, format=\"%d/%m/%Y\")\n",
    "# mmr_germany_df.Date = mmr_germany_df.Date.apply(normalize_date)\n",
    "# mmr_germany_df.Date = pd.to_datetime(mmr_germany_df.Date, format=\"%d/%m/%Y\")\n",
    "# mmr_italy_df.Date = mmr_italy_df.Date.apply(normalize_date)\n",
    "# mmr_italy_df.Date = pd.to_datetime(mmr_italy_df.Date, format=\"%d/%m/%Y\")\n",
    "# mmr_sweden_df.Date = mmr_sweden_df.Date.apply(normalize_date)\n",
    "# # mmr_sweden_df.Date = pd.to_datetime(mmr_sweden_df.Date, format=\"%d/%m/%Y\")"
   ],
   "metadata": {
    "collapsed": false,
    "pycharm": {
     "name": "#%%\n"
    }
   }
  },
  {
   "cell_type": "code",
   "execution_count": 12,
   "outputs": [],
   "source": [
    "# main_teams = set(data_df[\"H_team\"]).union(data_df[\"A_team\"])\n",
    "# filt = lambda x: [i for i in x if not i.startswith(\"Unnamed:\")]\n",
    "# england_c = filt(mmr_england_df.columns)\n",
    "# germany_c = filt(mmr_germany_df.columns)\n",
    "# sweden_c = filt(mmr_sweden_df.columns)\n",
    "# italy_c = filt(mmr_italy_df.columns)\n",
    "# res = np.concatenate([\n",
    "#     mmr_england_df[[\"HomeTeam\", \"AwayTeam\", \"Date\", \"FTHG\", \"FTAG\"]].values,\n",
    "#     mmr_germany_df[[\"HomeTeam\", \"AwayTeam\", \"Date\", \"FTHG\", \"FTAG\"]].values,\n",
    "#     mmr_italy_df[[\"HomeTeam\", \"AwayTeam\", \"Date\", \"FTHG\", \"FTAG\"]].values,\n",
    "#     mmr_sweden_df[[\"Home\", \"Away\", \"Date\", \"HG\", \"AG\"]].values,\n",
    "# ])\n",
    "# mmr_df = pd.DataFrame(data=res, columns=[\"Home\", \"Away\", \"Date\", \"FTHG\", \"FTAG\"])\n",
    "# mmr_teams = set(mmr_df[\"Home\"]).union(set(mmr_df[\"Away\"]))\n",
    "# mmr_teams = set([x.lower() for x in mmr_teams if type(x) is str])\n",
    "# england_teams = set(mmr_england_df[\"HomeTeam\"]).union(set(mmr_england_df[\"AwayTeam\"]))\n",
    "# england_teams = set([x.lower() for x in england_teams if type(x) is str])\n",
    "# data_teams = set(data_df[\"H_team\"]).union(set(data_df[\"A_team\"]))\n",
    "# data_teams = set([x.lower() for x in data_teams if type(x) is str])\n",
    "#\n",
    "# k = data_df[data_df[\"Country\"] == \"england\"]\n",
    "# leagues = [\"league-one\", \"championship\", \"premier-league\", \"league-two\"]\n",
    "#\n",
    "# k = k[k[\"League\"].isin(leagues)]\n",
    "# k_teams = set(k[\"H_team\"]).union(set(k[\"A_team\"]))\n",
    "# k_teams = set([x.lower().replace(\" \", \"\") for x in k_teams if type(x) is str])\n",
    "# k_teams ^ england_teams"
   ],
   "metadata": {
    "collapsed": false,
    "pycharm": {
     "name": "#%%\n"
    }
   }
  },
  {
   "cell_type": "code",
   "execution_count": 12,
   "outputs": [],
   "source": [],
   "metadata": {
    "collapsed": false,
    "pycharm": {
     "name": "#%%\n"
    }
   }
  },
  {
   "cell_type": "code",
   "execution_count": 13,
   "outputs": [],
   "source": [
    "# data_df = data_df.drop(['FTHG', 'FTAG', 'HT1HG', 'HT1AG', 'HT2HG', 'HT2AG'], axis=1)\n",
    "# data_df"
   ],
   "metadata": {
    "collapsed": false,
    "pycharm": {
     "name": "#%%\n"
    }
   }
  },
  {
   "cell_type": "code",
   "execution_count": 14,
   "outputs": [],
   "source": [
    "# data_df.loc[data_df['League'] == 'premier-league'].reset_index(drop=True)\n",
    "#premier_league_df"
   ],
   "metadata": {
    "collapsed": false,
    "pycharm": {
     "name": "#%%\n"
    }
   }
  },
  {
   "cell_type": "code",
   "execution_count": 15,
   "outputs": [],
   "source": [
    "#data_df = data_df.loc[data_df['League'] != 'premier-league'].reset_index(drop=True)\n",
    "#data_df"
   ],
   "metadata": {
    "collapsed": false,
    "pycharm": {
     "name": "#%%\n"
    }
   }
  },
  {
   "cell_type": "markdown",
   "source": [
    "## Let's try and drop teams\n",
    "\n",
    "`Idea`: Maybe MMR is a good proxy for team!\n",
    "\n",
    "Let's also drop the country for good measure..."
   ],
   "metadata": {
    "collapsed": false,
    "pycharm": {
     "name": "#%% md\n"
    }
   }
  },
  {
   "cell_type": "code",
   "execution_count": 16,
   "outputs": [],
   "source": [
    "# data_without_teams_df = data_df.drop(['H_team', 'A_team', 'Country'], axis=1)\n",
    "data_without_teams_df = data_df"
   ],
   "metadata": {
    "collapsed": false,
    "pycharm": {
     "name": "#%%\n"
    }
   }
  },
  {
   "cell_type": "markdown",
   "source": [
    "## Let's one-hot encode league\n",
    "\n",
    "The NN can't handle categorical features and league gives context to the MMR"
   ],
   "metadata": {
    "collapsed": false,
    "pycharm": {
     "name": "#%% md\n"
    }
   }
  },
  {
   "cell_type": "code",
   "execution_count": 17,
   "outputs": [],
   "source": [
    "# from sklearn.preprocessing import OneHotEncoder\n",
    "\n",
    "# #creating instance of one-hot-encoder\n",
    "# encoder = OneHotEncoder()\n",
    "\n",
    "# #perform one-hot encoding on 'League' column\n",
    "# encoder_df = pd.DataFrame(encoder.fit_transform(data_without_teams_df[['League']]).toarray())\n",
    "# # encoder_df\n",
    "\n",
    "# # #merge one-hot encoded columns back with original DataFrame\n",
    "# data_without_teams_df = data_without_teams_df.join(encoder_df)\n",
    "\n",
    "# data_without_teams_df = data_without_teams_df.drop(['League'], axis=1)\n",
    "# data_without_teams_df"
   ],
   "metadata": {
    "collapsed": false,
    "pycharm": {
     "name": "#%%\n"
    }
   }
  },
  {
   "cell_type": "code",
   "execution_count": 18,
   "outputs": [
    {
     "data": {
      "text/plain": "       Country           League            H_team           A_team       Date  \\\n0      germany           3-liga   AlemanniaAachen  PreussenMunster 2012-09-25   \n1      germany           3-liga  ArminiaBielefeld       Chemnitzer 2012-09-25   \n2      germany     2-bundesliga    EnergieCottbus        Paderborn 2012-09-25   \n3      germany     2-bundesliga            FCKoln     FSVFrankfurt 2012-09-25   \n4      england  national-league      CambridgeUtd    Kidderminster 2012-09-25   \n...        ...              ...               ...              ...        ...   \n48815  england       league-two           Walsall          Crawley 2022-11-19   \n48816  england  national-league          YorkCity       Wealdstone 2022-11-19   \n48817  england       league-one            Burton         Plymouth 2022-11-19   \n48818  england       league-one     BristolRovers     Peterborough 2022-11-19   \n48819  england       league-two           Crawley       Gillingham 2022-11-22   \n\n           Time  FTHG  FTAG  HT1HG  HT1AG  ...    H_9EVs    A_9EVs  H_1shock  \\\n0      18:00:00     1     2      0      0  ...  0.000000  0.000000  0.000000   \n1      18:00:00     0     0      0      0  ...  0.000000  0.000000  0.000000   \n2      16:30:00     2     1      0      0  ...  0.000000  0.000000  0.000000   \n3      16:30:00     2     1      0      0  ...  0.000000  0.000000  0.000000   \n4      19:45:00     1     3      0      0  ...  0.000000  0.000000  0.000000   \n...         ...   ...   ...    ...    ...  ...       ...       ...       ...   \n48815  15:00:00     2     1      1      1  ... -1.805081 -3.566225  0.288184   \n48816  15:00:00     1     2      1      0  ... -3.457133 -4.652999 -0.481162   \n48817  15:00:00     2     2      1      0  ... -3.739979  1.758084  0.355872   \n48818  15:00:00     1     0      0      0  ... -3.126201  1.576642 -0.500000   \n48819  19:45:00     0     0      0      0  ... -3.594510 -5.540918 -0.237693   \n\n       A_1shock  H_3shock  A_3shock  H_5shock  A_5shock  H_winstreak  \\\n0      0.000000  0.000000  0.000000  0.000000  0.000000            0   \n1      0.000000  0.000000  0.000000  0.000000  0.000000            0   \n2      0.000000  0.000000  0.000000  0.000000  0.000000            0   \n3      0.000000  0.000000  0.000000  0.000000  0.000000            0   \n4      0.000000  0.000000  0.000000  0.000000  0.000000            0   \n...         ...       ...       ...       ...       ...          ...   \n48815  0.695122  1.762884  1.197562  2.083843  3.004507            2   \n48816  0.150830 -1.400217 -0.232407 -2.014425 -1.977025           -3   \n48817 -0.383142  0.671257  0.365279  0.632352  1.780395           -2   \n48818 -0.669260 -0.463553 -0.035727  1.842694 -0.569305           -1   \n48819 -0.918919  0.651227 -2.664439  2.117735 -3.848979           -1   \n\n       A_winstreak  \n0                0  \n1                0  \n2                0  \n3                0  \n4                0  \n...            ...  \n48815            3  \n48816            1  \n48817           11  \n48818           -1  \n48819           -4  \n\n[48820 rows x 86 columns]",
      "text/html": "<div>\n<style scoped>\n    .dataframe tbody tr th:only-of-type {\n        vertical-align: middle;\n    }\n\n    .dataframe tbody tr th {\n        vertical-align: top;\n    }\n\n    .dataframe thead th {\n        text-align: right;\n    }\n</style>\n<table border=\"1\" class=\"dataframe\">\n  <thead>\n    <tr style=\"text-align: right;\">\n      <th></th>\n      <th>Country</th>\n      <th>League</th>\n      <th>H_team</th>\n      <th>A_team</th>\n      <th>Date</th>\n      <th>Time</th>\n      <th>FTHG</th>\n      <th>FTAG</th>\n      <th>HT1HG</th>\n      <th>HT1AG</th>\n      <th>...</th>\n      <th>H_9EVs</th>\n      <th>A_9EVs</th>\n      <th>H_1shock</th>\n      <th>A_1shock</th>\n      <th>H_3shock</th>\n      <th>A_3shock</th>\n      <th>H_5shock</th>\n      <th>A_5shock</th>\n      <th>H_winstreak</th>\n      <th>A_winstreak</th>\n    </tr>\n  </thead>\n  <tbody>\n    <tr>\n      <th>0</th>\n      <td>germany</td>\n      <td>3-liga</td>\n      <td>AlemanniaAachen</td>\n      <td>PreussenMunster</td>\n      <td>2012-09-25</td>\n      <td>18:00:00</td>\n      <td>1</td>\n      <td>2</td>\n      <td>0</td>\n      <td>0</td>\n      <td>...</td>\n      <td>0.000000</td>\n      <td>0.000000</td>\n      <td>0.000000</td>\n      <td>0.000000</td>\n      <td>0.000000</td>\n      <td>0.000000</td>\n      <td>0.000000</td>\n      <td>0.000000</td>\n      <td>0</td>\n      <td>0</td>\n    </tr>\n    <tr>\n      <th>1</th>\n      <td>germany</td>\n      <td>3-liga</td>\n      <td>ArminiaBielefeld</td>\n      <td>Chemnitzer</td>\n      <td>2012-09-25</td>\n      <td>18:00:00</td>\n      <td>0</td>\n      <td>0</td>\n      <td>0</td>\n      <td>0</td>\n      <td>...</td>\n      <td>0.000000</td>\n      <td>0.000000</td>\n      <td>0.000000</td>\n      <td>0.000000</td>\n      <td>0.000000</td>\n      <td>0.000000</td>\n      <td>0.000000</td>\n      <td>0.000000</td>\n      <td>0</td>\n      <td>0</td>\n    </tr>\n    <tr>\n      <th>2</th>\n      <td>germany</td>\n      <td>2-bundesliga</td>\n      <td>EnergieCottbus</td>\n      <td>Paderborn</td>\n      <td>2012-09-25</td>\n      <td>16:30:00</td>\n      <td>2</td>\n      <td>1</td>\n      <td>0</td>\n      <td>0</td>\n      <td>...</td>\n      <td>0.000000</td>\n      <td>0.000000</td>\n      <td>0.000000</td>\n      <td>0.000000</td>\n      <td>0.000000</td>\n      <td>0.000000</td>\n      <td>0.000000</td>\n      <td>0.000000</td>\n      <td>0</td>\n      <td>0</td>\n    </tr>\n    <tr>\n      <th>3</th>\n      <td>germany</td>\n      <td>2-bundesliga</td>\n      <td>FCKoln</td>\n      <td>FSVFrankfurt</td>\n      <td>2012-09-25</td>\n      <td>16:30:00</td>\n      <td>2</td>\n      <td>1</td>\n      <td>0</td>\n      <td>0</td>\n      <td>...</td>\n      <td>0.000000</td>\n      <td>0.000000</td>\n      <td>0.000000</td>\n      <td>0.000000</td>\n      <td>0.000000</td>\n      <td>0.000000</td>\n      <td>0.000000</td>\n      <td>0.000000</td>\n      <td>0</td>\n      <td>0</td>\n    </tr>\n    <tr>\n      <th>4</th>\n      <td>england</td>\n      <td>national-league</td>\n      <td>CambridgeUtd</td>\n      <td>Kidderminster</td>\n      <td>2012-09-25</td>\n      <td>19:45:00</td>\n      <td>1</td>\n      <td>3</td>\n      <td>0</td>\n      <td>0</td>\n      <td>...</td>\n      <td>0.000000</td>\n      <td>0.000000</td>\n      <td>0.000000</td>\n      <td>0.000000</td>\n      <td>0.000000</td>\n      <td>0.000000</td>\n      <td>0.000000</td>\n      <td>0.000000</td>\n      <td>0</td>\n      <td>0</td>\n    </tr>\n    <tr>\n      <th>...</th>\n      <td>...</td>\n      <td>...</td>\n      <td>...</td>\n      <td>...</td>\n      <td>...</td>\n      <td>...</td>\n      <td>...</td>\n      <td>...</td>\n      <td>...</td>\n      <td>...</td>\n      <td>...</td>\n      <td>...</td>\n      <td>...</td>\n      <td>...</td>\n      <td>...</td>\n      <td>...</td>\n      <td>...</td>\n      <td>...</td>\n      <td>...</td>\n      <td>...</td>\n      <td>...</td>\n    </tr>\n    <tr>\n      <th>48815</th>\n      <td>england</td>\n      <td>league-two</td>\n      <td>Walsall</td>\n      <td>Crawley</td>\n      <td>2022-11-19</td>\n      <td>15:00:00</td>\n      <td>2</td>\n      <td>1</td>\n      <td>1</td>\n      <td>1</td>\n      <td>...</td>\n      <td>-1.805081</td>\n      <td>-3.566225</td>\n      <td>0.288184</td>\n      <td>0.695122</td>\n      <td>1.762884</td>\n      <td>1.197562</td>\n      <td>2.083843</td>\n      <td>3.004507</td>\n      <td>2</td>\n      <td>3</td>\n    </tr>\n    <tr>\n      <th>48816</th>\n      <td>england</td>\n      <td>national-league</td>\n      <td>YorkCity</td>\n      <td>Wealdstone</td>\n      <td>2022-11-19</td>\n      <td>15:00:00</td>\n      <td>1</td>\n      <td>2</td>\n      <td>1</td>\n      <td>0</td>\n      <td>...</td>\n      <td>-3.457133</td>\n      <td>-4.652999</td>\n      <td>-0.481162</td>\n      <td>0.150830</td>\n      <td>-1.400217</td>\n      <td>-0.232407</td>\n      <td>-2.014425</td>\n      <td>-1.977025</td>\n      <td>-3</td>\n      <td>1</td>\n    </tr>\n    <tr>\n      <th>48817</th>\n      <td>england</td>\n      <td>league-one</td>\n      <td>Burton</td>\n      <td>Plymouth</td>\n      <td>2022-11-19</td>\n      <td>15:00:00</td>\n      <td>2</td>\n      <td>2</td>\n      <td>1</td>\n      <td>0</td>\n      <td>...</td>\n      <td>-3.739979</td>\n      <td>1.758084</td>\n      <td>0.355872</td>\n      <td>-0.383142</td>\n      <td>0.671257</td>\n      <td>0.365279</td>\n      <td>0.632352</td>\n      <td>1.780395</td>\n      <td>-2</td>\n      <td>11</td>\n    </tr>\n    <tr>\n      <th>48818</th>\n      <td>england</td>\n      <td>league-one</td>\n      <td>BristolRovers</td>\n      <td>Peterborough</td>\n      <td>2022-11-19</td>\n      <td>15:00:00</td>\n      <td>1</td>\n      <td>0</td>\n      <td>0</td>\n      <td>0</td>\n      <td>...</td>\n      <td>-3.126201</td>\n      <td>1.576642</td>\n      <td>-0.500000</td>\n      <td>-0.669260</td>\n      <td>-0.463553</td>\n      <td>-0.035727</td>\n      <td>1.842694</td>\n      <td>-0.569305</td>\n      <td>-1</td>\n      <td>-1</td>\n    </tr>\n    <tr>\n      <th>48819</th>\n      <td>england</td>\n      <td>league-two</td>\n      <td>Crawley</td>\n      <td>Gillingham</td>\n      <td>2022-11-22</td>\n      <td>19:45:00</td>\n      <td>0</td>\n      <td>0</td>\n      <td>0</td>\n      <td>0</td>\n      <td>...</td>\n      <td>-3.594510</td>\n      <td>-5.540918</td>\n      <td>-0.237693</td>\n      <td>-0.918919</td>\n      <td>0.651227</td>\n      <td>-2.664439</td>\n      <td>2.117735</td>\n      <td>-3.848979</td>\n      <td>-1</td>\n      <td>-4</td>\n    </tr>\n  </tbody>\n</table>\n<p>48820 rows × 86 columns</p>\n</div>"
     },
     "execution_count": 18,
     "metadata": {},
     "output_type": "execute_result"
    }
   ],
   "source": [
    "data_without_teams_df"
   ],
   "metadata": {
    "collapsed": false,
    "pycharm": {
     "name": "#%%\n"
    }
   }
  },
  {
   "cell_type": "markdown",
   "source": [
    "## Split the Data: Train, Val, Test"
   ],
   "metadata": {
    "collapsed": false,
    "pycharm": {
     "name": "#%% md\n"
    }
   }
  },
  {
   "cell_type": "code",
   "execution_count": 19,
   "outputs": [],
   "source": [
    "columns = ['H_LastFTG', 'A_LastFTG', 'H_MMR', 'A_MMR', 'H_5Points', 'A_5Points', 'H_10Points', 'A_10Points',\n",
    "           'H_15Points', 'A_15Points', 'H_3EVs',\n",
    "           'A_3EVs', 'H_5EVs', 'A_5EVs', 'H_9EVs', 'A_9EVs', 'H_1shock',\n",
    "           'A_1shock', 'H_3shock', 'A_3shock', 'H_5shock', 'A_5shock',\n",
    "           'H_winstreak', 'A_winstreak']\n",
    "all_columns = ['AO_Pinnacle', 'A_LastOdds', 'DO_Pinnacle', 'HO_Pinnacle', 'H_LastOdds', *columns]\n",
    "#\n",
    "# fg_columns = all_columns.copy()\n",
    "# fg_columns.remove(\"H_elo\")\n",
    "# fg_columns.remove(\"A_elo\")\n",
    "# fg_columns.append(\"Date\")"
   ],
   "metadata": {
    "collapsed": false,
    "pycharm": {
     "name": "#%%\n"
    }
   }
  },
  {
   "cell_type": "code",
   "execution_count": 407,
   "outputs": [],
   "source": [
    "# columns = ['H_LastFTG', 'A_LastFTG', 'H_elo', 'A_elo', 'H_winstreak', 'A_winstreak', 'H_1shock',\n",
    "#            'A_1shock', 'H_3shock', 'A_3shock', 'H_5shock', 'A_5shock', ]\n",
    "# drop_later_columns = ['H_team', 'A_team', 'FTHG', 'FTAG']\n",
    "# all_columns = ['AO_Pinnacle', 'A_LastOdds', 'DO_Pinnacle', 'HO_Pinnacle', 'H_LastOdds', *columns, *drop_later_columns]"
   ],
   "metadata": {
    "collapsed": false,
    "pycharm": {
     "name": "#%%\n"
    }
   }
  },
  {
   "cell_type": "code",
   "execution_count": 21,
   "metadata": {
    "pycharm": {
     "name": "#%%\n"
    }
   },
   "outputs": [],
   "source": [
    "data_for_splitting = data_without_teams_df.copy()\n",
    "data_for_splitting[\"H_elo\"] = -1\n",
    "data_for_splitting[\"A_elo\"] = -1\n",
    "# training_df = data_for_splitting\n",
    "# # training_df = data_for_splitting.loc[data_for_splitting['League'] != 'premier-league']\n",
    "# # training_df = training_df.drop(['League'], axis=1)\n",
    "#\n",
    "# train_size = 0.85\n",
    "# val_size = 0.15\n",
    "#\n",
    "# assert train_size + val_size == 1.0\n",
    "#\n",
    "# train_index = int(len(training_df) * train_size)\n",
    "# df_train = training_df[0:train_index]\n",
    "# df_valid = training_df[train_index:]\n",
    "#\n",
    "# target_columns = ['HC_Pinnacle', 'DC_Pinnacle', 'AC_Pinnacle']\n",
    "#\n",
    "# X, y = training_df[all_columns], training_df[target_columns]\n",
    "# X_train, y_train = df_train[all_columns].copy(), df_train[target_columns].copy()\n",
    "# X_valid, y_valid = df_valid[all_columns].copy(), df_valid[target_columns].copy()"
   ]
  },
  {
   "cell_type": "code",
   "execution_count": 22,
   "outputs": [
    {
     "data": {
      "text/plain": "       AO_Pinnacle  A_LastOdds  DO_Pinnacle  HO_Pinnacle  H_LastOdds  \\\n0         0.411523    0.411523     0.297619     0.326797    0.324675   \n1         0.292398    0.284091     0.292398     0.450450    0.446429   \n2         0.274725    0.274725     0.278552     0.476190    0.452489   \n3         0.253807    0.223214     0.285714     0.490196    0.540541   \n4         0.285714    0.316456     0.280899     0.462963    0.436681   \n...            ...         ...          ...          ...         ...   \n48815     0.220264    0.495050     0.285714     0.529101    0.241546   \n48816     0.232558    0.254453     0.255102     0.558659    0.502513   \n48817     0.409836    0.452489     0.274725     0.375940    0.297619   \n48818     0.456621    0.584795     0.262467     0.314465    0.203666   \n48819     0.296736    0.342466     0.325733     0.409836    0.393701   \n\n       H_LastFTG  A_LastFTG      H_MMR      A_MMR  H_5Points  ...    H_9EVs  \\\n0              0          0  26.300000  25.000000          0  ...  0.000000   \n1              0          0  26.300000  25.000000          0  ...  0.000000   \n2              0          0  26.300000  25.000000          0  ...  0.000000   \n3              0          0  26.300000  25.000000          0  ...  0.000000   \n4              0          0  26.300000  25.000000          0  ...  0.000000   \n...          ...        ...        ...        ...        ...  ...       ...   \n48815          0          1  25.078460  23.682778          8  ... -1.805081   \n48816          0          0  25.307873  24.230512          2  ... -3.457133   \n48817          0          0  25.045571  26.721217          5  ... -3.739979   \n48818          0          0  26.061703  25.060124          6  ... -3.126201   \n48819          1          2  24.900488  23.530373          8  ... -3.594510   \n\n         A_9EVs  H_1shock  A_1shock  H_3shock  A_3shock  H_5shock  A_5shock  \\\n0      0.000000  0.000000  0.000000  0.000000  0.000000  0.000000  0.000000   \n1      0.000000  0.000000  0.000000  0.000000  0.000000  0.000000  0.000000   \n2      0.000000  0.000000  0.000000  0.000000  0.000000  0.000000  0.000000   \n3      0.000000  0.000000  0.000000  0.000000  0.000000  0.000000  0.000000   \n4      0.000000  0.000000  0.000000  0.000000  0.000000  0.000000  0.000000   \n...         ...       ...       ...       ...       ...       ...       ...   \n48815 -3.566225  0.288184  0.695122  1.762884  1.197562  2.083843  3.004507   \n48816 -4.652999 -0.481162  0.150830 -1.400217 -0.232407 -2.014425 -1.977025   \n48817  1.758084  0.355872 -0.383142  0.671257  0.365279  0.632352  1.780395   \n48818  1.576642 -0.500000 -0.669260 -0.463553 -0.035727  1.842694 -0.569305   \n48819 -5.540918 -0.237693 -0.918919  0.651227 -2.664439  2.117735 -3.848979   \n\n       H_winstreak  A_winstreak  \n0                0            0  \n1                0            0  \n2                0            0  \n3                0            0  \n4                0            0  \n...            ...          ...  \n48815            2            3  \n48816           -3            1  \n48817           -2           11  \n48818           -1           -1  \n48819           -1           -4  \n\n[48820 rows x 29 columns]",
      "text/html": "<div>\n<style scoped>\n    .dataframe tbody tr th:only-of-type {\n        vertical-align: middle;\n    }\n\n    .dataframe tbody tr th {\n        vertical-align: top;\n    }\n\n    .dataframe thead th {\n        text-align: right;\n    }\n</style>\n<table border=\"1\" class=\"dataframe\">\n  <thead>\n    <tr style=\"text-align: right;\">\n      <th></th>\n      <th>AO_Pinnacle</th>\n      <th>A_LastOdds</th>\n      <th>DO_Pinnacle</th>\n      <th>HO_Pinnacle</th>\n      <th>H_LastOdds</th>\n      <th>H_LastFTG</th>\n      <th>A_LastFTG</th>\n      <th>H_MMR</th>\n      <th>A_MMR</th>\n      <th>H_5Points</th>\n      <th>...</th>\n      <th>H_9EVs</th>\n      <th>A_9EVs</th>\n      <th>H_1shock</th>\n      <th>A_1shock</th>\n      <th>H_3shock</th>\n      <th>A_3shock</th>\n      <th>H_5shock</th>\n      <th>A_5shock</th>\n      <th>H_winstreak</th>\n      <th>A_winstreak</th>\n    </tr>\n  </thead>\n  <tbody>\n    <tr>\n      <th>0</th>\n      <td>0.411523</td>\n      <td>0.411523</td>\n      <td>0.297619</td>\n      <td>0.326797</td>\n      <td>0.324675</td>\n      <td>0</td>\n      <td>0</td>\n      <td>26.300000</td>\n      <td>25.000000</td>\n      <td>0</td>\n      <td>...</td>\n      <td>0.000000</td>\n      <td>0.000000</td>\n      <td>0.000000</td>\n      <td>0.000000</td>\n      <td>0.000000</td>\n      <td>0.000000</td>\n      <td>0.000000</td>\n      <td>0.000000</td>\n      <td>0</td>\n      <td>0</td>\n    </tr>\n    <tr>\n      <th>1</th>\n      <td>0.292398</td>\n      <td>0.284091</td>\n      <td>0.292398</td>\n      <td>0.450450</td>\n      <td>0.446429</td>\n      <td>0</td>\n      <td>0</td>\n      <td>26.300000</td>\n      <td>25.000000</td>\n      <td>0</td>\n      <td>...</td>\n      <td>0.000000</td>\n      <td>0.000000</td>\n      <td>0.000000</td>\n      <td>0.000000</td>\n      <td>0.000000</td>\n      <td>0.000000</td>\n      <td>0.000000</td>\n      <td>0.000000</td>\n      <td>0</td>\n      <td>0</td>\n    </tr>\n    <tr>\n      <th>2</th>\n      <td>0.274725</td>\n      <td>0.274725</td>\n      <td>0.278552</td>\n      <td>0.476190</td>\n      <td>0.452489</td>\n      <td>0</td>\n      <td>0</td>\n      <td>26.300000</td>\n      <td>25.000000</td>\n      <td>0</td>\n      <td>...</td>\n      <td>0.000000</td>\n      <td>0.000000</td>\n      <td>0.000000</td>\n      <td>0.000000</td>\n      <td>0.000000</td>\n      <td>0.000000</td>\n      <td>0.000000</td>\n      <td>0.000000</td>\n      <td>0</td>\n      <td>0</td>\n    </tr>\n    <tr>\n      <th>3</th>\n      <td>0.253807</td>\n      <td>0.223214</td>\n      <td>0.285714</td>\n      <td>0.490196</td>\n      <td>0.540541</td>\n      <td>0</td>\n      <td>0</td>\n      <td>26.300000</td>\n      <td>25.000000</td>\n      <td>0</td>\n      <td>...</td>\n      <td>0.000000</td>\n      <td>0.000000</td>\n      <td>0.000000</td>\n      <td>0.000000</td>\n      <td>0.000000</td>\n      <td>0.000000</td>\n      <td>0.000000</td>\n      <td>0.000000</td>\n      <td>0</td>\n      <td>0</td>\n    </tr>\n    <tr>\n      <th>4</th>\n      <td>0.285714</td>\n      <td>0.316456</td>\n      <td>0.280899</td>\n      <td>0.462963</td>\n      <td>0.436681</td>\n      <td>0</td>\n      <td>0</td>\n      <td>26.300000</td>\n      <td>25.000000</td>\n      <td>0</td>\n      <td>...</td>\n      <td>0.000000</td>\n      <td>0.000000</td>\n      <td>0.000000</td>\n      <td>0.000000</td>\n      <td>0.000000</td>\n      <td>0.000000</td>\n      <td>0.000000</td>\n      <td>0.000000</td>\n      <td>0</td>\n      <td>0</td>\n    </tr>\n    <tr>\n      <th>...</th>\n      <td>...</td>\n      <td>...</td>\n      <td>...</td>\n      <td>...</td>\n      <td>...</td>\n      <td>...</td>\n      <td>...</td>\n      <td>...</td>\n      <td>...</td>\n      <td>...</td>\n      <td>...</td>\n      <td>...</td>\n      <td>...</td>\n      <td>...</td>\n      <td>...</td>\n      <td>...</td>\n      <td>...</td>\n      <td>...</td>\n      <td>...</td>\n      <td>...</td>\n      <td>...</td>\n    </tr>\n    <tr>\n      <th>48815</th>\n      <td>0.220264</td>\n      <td>0.495050</td>\n      <td>0.285714</td>\n      <td>0.529101</td>\n      <td>0.241546</td>\n      <td>0</td>\n      <td>1</td>\n      <td>25.078460</td>\n      <td>23.682778</td>\n      <td>8</td>\n      <td>...</td>\n      <td>-1.805081</td>\n      <td>-3.566225</td>\n      <td>0.288184</td>\n      <td>0.695122</td>\n      <td>1.762884</td>\n      <td>1.197562</td>\n      <td>2.083843</td>\n      <td>3.004507</td>\n      <td>2</td>\n      <td>3</td>\n    </tr>\n    <tr>\n      <th>48816</th>\n      <td>0.232558</td>\n      <td>0.254453</td>\n      <td>0.255102</td>\n      <td>0.558659</td>\n      <td>0.502513</td>\n      <td>0</td>\n      <td>0</td>\n      <td>25.307873</td>\n      <td>24.230512</td>\n      <td>2</td>\n      <td>...</td>\n      <td>-3.457133</td>\n      <td>-4.652999</td>\n      <td>-0.481162</td>\n      <td>0.150830</td>\n      <td>-1.400217</td>\n      <td>-0.232407</td>\n      <td>-2.014425</td>\n      <td>-1.977025</td>\n      <td>-3</td>\n      <td>1</td>\n    </tr>\n    <tr>\n      <th>48817</th>\n      <td>0.409836</td>\n      <td>0.452489</td>\n      <td>0.274725</td>\n      <td>0.375940</td>\n      <td>0.297619</td>\n      <td>0</td>\n      <td>0</td>\n      <td>25.045571</td>\n      <td>26.721217</td>\n      <td>5</td>\n      <td>...</td>\n      <td>-3.739979</td>\n      <td>1.758084</td>\n      <td>0.355872</td>\n      <td>-0.383142</td>\n      <td>0.671257</td>\n      <td>0.365279</td>\n      <td>0.632352</td>\n      <td>1.780395</td>\n      <td>-2</td>\n      <td>11</td>\n    </tr>\n    <tr>\n      <th>48818</th>\n      <td>0.456621</td>\n      <td>0.584795</td>\n      <td>0.262467</td>\n      <td>0.314465</td>\n      <td>0.203666</td>\n      <td>0</td>\n      <td>0</td>\n      <td>26.061703</td>\n      <td>25.060124</td>\n      <td>6</td>\n      <td>...</td>\n      <td>-3.126201</td>\n      <td>1.576642</td>\n      <td>-0.500000</td>\n      <td>-0.669260</td>\n      <td>-0.463553</td>\n      <td>-0.035727</td>\n      <td>1.842694</td>\n      <td>-0.569305</td>\n      <td>-1</td>\n      <td>-1</td>\n    </tr>\n    <tr>\n      <th>48819</th>\n      <td>0.296736</td>\n      <td>0.342466</td>\n      <td>0.325733</td>\n      <td>0.409836</td>\n      <td>0.393701</td>\n      <td>1</td>\n      <td>2</td>\n      <td>24.900488</td>\n      <td>23.530373</td>\n      <td>8</td>\n      <td>...</td>\n      <td>-3.594510</td>\n      <td>-5.540918</td>\n      <td>-0.237693</td>\n      <td>-0.918919</td>\n      <td>0.651227</td>\n      <td>-2.664439</td>\n      <td>2.117735</td>\n      <td>-3.848979</td>\n      <td>-1</td>\n      <td>-4</td>\n    </tr>\n  </tbody>\n</table>\n<p>48820 rows × 29 columns</p>\n</div>"
     },
     "execution_count": 22,
     "metadata": {},
     "output_type": "execute_result"
    }
   ],
   "source": [
    "data_for_splitting[all_columns]"
   ],
   "metadata": {
    "collapsed": false,
    "pycharm": {
     "name": "#%%\n"
    }
   }
  },
  {
   "cell_type": "code",
   "execution_count": 40,
   "outputs": [
    {
     "ename": "ImportError",
     "evalue": "cannot import name 'contextfilter' from 'jinja2' (C:\\Users\\matfr\\miniconda3\\envs\\serverless-ml\\lib\\site-packages\\jinja2\\__init__.py)",
     "output_type": "error",
     "traceback": [
      "\u001B[1;31m---------------------------------------------------------------------------\u001B[0m",
      "\u001B[1;31mImportError\u001B[0m                               Traceback (most recent call last)",
      "Cell \u001B[1;32mIn [40], line 1\u001B[0m\n\u001B[1;32m----> 1\u001B[0m \u001B[38;5;28;01mimport\u001B[39;00m \u001B[38;5;21;01mhopsworks\u001B[39;00m\n\u001B[0;32m      3\u001B[0m project \u001B[38;5;241m=\u001B[39m hopsworks\u001B[38;5;241m.\u001B[39mlogin()\n\u001B[0;32m      4\u001B[0m fs \u001B[38;5;241m=\u001B[39m project\u001B[38;5;241m.\u001B[39mget_feature_store()\n",
      "File \u001B[1;32m~\\miniconda3\\envs\\serverless-ml\\lib\\site-packages\\hopsworks\\__init__.py:31\u001B[0m\n\u001B[0;32m     28\u001B[0m warnings\u001B[38;5;241m.\u001B[39mfilterwarnings(action\u001B[38;5;241m=\u001B[39m\u001B[38;5;124m\"\u001B[39m\u001B[38;5;124mignore\u001B[39m\u001B[38;5;124m\"\u001B[39m, category\u001B[38;5;241m=\u001B[39m\u001B[38;5;167;01mUserWarning\u001B[39;00m, module\u001B[38;5;241m=\u001B[39m\u001B[38;5;124mr\u001B[39m\u001B[38;5;124m\"\u001B[39m\u001B[38;5;124m.*psycopg2\u001B[39m\u001B[38;5;124m\"\u001B[39m)\n\u001B[0;32m     30\u001B[0m \u001B[38;5;28;01mimport\u001B[39;00m \u001B[38;5;21;01mhsml\u001B[39;00m  \u001B[38;5;66;03m# noqa: F401, E402\u001B[39;00m\n\u001B[1;32m---> 31\u001B[0m \u001B[38;5;28;01mimport\u001B[39;00m \u001B[38;5;21;01mhsfs\u001B[39;00m  \u001B[38;5;66;03m# noqa: F401, E402\u001B[39;00m\n\u001B[0;32m     33\u001B[0m connection \u001B[38;5;241m=\u001B[39m Connection\u001B[38;5;241m.\u001B[39mconnection\n\u001B[0;32m     35\u001B[0m _saas_connection \u001B[38;5;241m=\u001B[39m Connection\u001B[38;5;241m.\u001B[39mconnection\n",
      "File \u001B[1;32m~\\miniconda3\\envs\\serverless-ml\\lib\\site-packages\\hsfs\\__init__.py:20\u001B[0m\n\u001B[0;32m     17\u001B[0m \u001B[38;5;28;01mimport\u001B[39;00m \u001B[38;5;21;01mwarnings\u001B[39;00m\n\u001B[0;32m     19\u001B[0m \u001B[38;5;28;01mfrom\u001B[39;00m \u001B[38;5;21;01mhsfs\u001B[39;00m \u001B[38;5;28;01mimport\u001B[39;00m util\n\u001B[1;32m---> 20\u001B[0m \u001B[38;5;28;01mfrom\u001B[39;00m \u001B[38;5;21;01mhsfs\u001B[39;00m\u001B[38;5;21;01m.\u001B[39;00m\u001B[38;5;21;01mconnection\u001B[39;00m \u001B[38;5;28;01mimport\u001B[39;00m Connection\n\u001B[0;32m     22\u001B[0m connection \u001B[38;5;241m=\u001B[39m Connection\u001B[38;5;241m.\u001B[39mconnection\n\u001B[0;32m     23\u001B[0m setup_databricks \u001B[38;5;241m=\u001B[39m Connection\u001B[38;5;241m.\u001B[39msetup_databricks\n",
      "File \u001B[1;32m~\\miniconda3\\envs\\serverless-ml\\lib\\site-packages\\hsfs\\connection.py:23\u001B[0m\n\u001B[0;32m     20\u001B[0m \u001B[38;5;28;01mfrom\u001B[39;00m \u001B[38;5;21;01mrequests\u001B[39;00m\u001B[38;5;21;01m.\u001B[39;00m\u001B[38;5;21;01mexceptions\u001B[39;00m \u001B[38;5;28;01mimport\u001B[39;00m \u001B[38;5;167;01mConnectionError\u001B[39;00m\n\u001B[0;32m     22\u001B[0m \u001B[38;5;28;01mfrom\u001B[39;00m \u001B[38;5;21;01mhsfs\u001B[39;00m\u001B[38;5;21;01m.\u001B[39;00m\u001B[38;5;21;01mdecorators\u001B[39;00m \u001B[38;5;28;01mimport\u001B[39;00m connected, not_connected\n\u001B[1;32m---> 23\u001B[0m \u001B[38;5;28;01mfrom\u001B[39;00m \u001B[38;5;21;01mhsfs\u001B[39;00m \u001B[38;5;28;01mimport\u001B[39;00m engine, client, util\n\u001B[0;32m     24\u001B[0m \u001B[38;5;28;01mfrom\u001B[39;00m \u001B[38;5;21;01mhsfs\u001B[39;00m\u001B[38;5;21;01m.\u001B[39;00m\u001B[38;5;21;01mcore\u001B[39;00m \u001B[38;5;28;01mimport\u001B[39;00m feature_store_api, project_api, hosts_api, services_api\n\u001B[0;32m     26\u001B[0m AWS_DEFAULT_REGION \u001B[38;5;241m=\u001B[39m \u001B[38;5;124m\"\u001B[39m\u001B[38;5;124mdefault\u001B[39m\u001B[38;5;124m\"\u001B[39m\n",
      "File \u001B[1;32m~\\miniconda3\\envs\\serverless-ml\\lib\\site-packages\\hsfs\\engine\\__init__.py:17\u001B[0m\n\u001B[0;32m      1\u001B[0m \u001B[38;5;66;03m#\u001B[39;00m\n\u001B[0;32m      2\u001B[0m \u001B[38;5;66;03m#   Copyright 2020 Logical Clocks AB\u001B[39;00m\n\u001B[0;32m      3\u001B[0m \u001B[38;5;66;03m#\u001B[39;00m\n\u001B[1;32m   (...)\u001B[0m\n\u001B[0;32m     14\u001B[0m \u001B[38;5;66;03m#   limitations under the License.\u001B[39;00m\n\u001B[0;32m     15\u001B[0m \u001B[38;5;66;03m#\u001B[39;00m\n\u001B[1;32m---> 17\u001B[0m \u001B[38;5;28;01mfrom\u001B[39;00m \u001B[38;5;21;01mhsfs\u001B[39;00m\u001B[38;5;21;01m.\u001B[39;00m\u001B[38;5;21;01mengine\u001B[39;00m \u001B[38;5;28;01mimport\u001B[39;00m spark\n\u001B[0;32m     18\u001B[0m \u001B[38;5;28;01mfrom\u001B[39;00m \u001B[38;5;21;01mhsfs\u001B[39;00m\u001B[38;5;21;01m.\u001B[39;00m\u001B[38;5;21;01mclient\u001B[39;00m \u001B[38;5;28;01mimport\u001B[39;00m exceptions\n\u001B[0;32m     20\u001B[0m _engine \u001B[38;5;241m=\u001B[39m \u001B[38;5;28;01mNone\u001B[39;00m\n",
      "File \u001B[1;32m~\\miniconda3\\envs\\serverless-ml\\lib\\site-packages\\hsfs\\engine\\spark.py:54\u001B[0m\n\u001B[0;32m     51\u001B[0m \u001B[38;5;28;01mexcept\u001B[39;00m \u001B[38;5;167;01mImportError\u001B[39;00m:\n\u001B[0;32m     52\u001B[0m     \u001B[38;5;28;01mpass\u001B[39;00m\n\u001B[1;32m---> 54\u001B[0m \u001B[38;5;28;01mfrom\u001B[39;00m \u001B[38;5;21;01mhsfs\u001B[39;00m \u001B[38;5;28;01mimport\u001B[39;00m feature, training_dataset_feature, client, util\n\u001B[0;32m     55\u001B[0m \u001B[38;5;28;01mfrom\u001B[39;00m \u001B[38;5;21;01mhsfs\u001B[39;00m\u001B[38;5;21;01m.\u001B[39;00m\u001B[38;5;21;01mstorage_connector\u001B[39;00m \u001B[38;5;28;01mimport\u001B[39;00m StorageConnector\n\u001B[0;32m     56\u001B[0m \u001B[38;5;28;01mfrom\u001B[39;00m \u001B[38;5;21;01mhsfs\u001B[39;00m\u001B[38;5;21;01m.\u001B[39;00m\u001B[38;5;21;01mclient\u001B[39;00m\u001B[38;5;21;01m.\u001B[39;00m\u001B[38;5;21;01mexceptions\u001B[39;00m \u001B[38;5;28;01mimport\u001B[39;00m FeatureStoreException\n",
      "File \u001B[1;32m~\\miniconda3\\envs\\serverless-ml\\lib\\site-packages\\hsfs\\training_dataset_feature.py:19\u001B[0m\n\u001B[0;32m      1\u001B[0m \u001B[38;5;66;03m#\u001B[39;00m\n\u001B[0;32m      2\u001B[0m \u001B[38;5;66;03m#   Copyright 2020 Logical Clocks AB\u001B[39;00m\n\u001B[0;32m      3\u001B[0m \u001B[38;5;66;03m#\u001B[39;00m\n\u001B[1;32m   (...)\u001B[0m\n\u001B[0;32m     14\u001B[0m \u001B[38;5;66;03m#   limitations under the License.\u001B[39;00m\n\u001B[0;32m     15\u001B[0m \u001B[38;5;66;03m#\u001B[39;00m\n\u001B[0;32m     17\u001B[0m \u001B[38;5;28;01mimport\u001B[39;00m \u001B[38;5;21;01mhumps\u001B[39;00m\n\u001B[1;32m---> 19\u001B[0m \u001B[38;5;28;01mimport\u001B[39;00m \u001B[38;5;21;01mhsfs\u001B[39;00m\u001B[38;5;21;01m.\u001B[39;00m\u001B[38;5;21;01mfeature_group\u001B[39;00m \u001B[38;5;28;01mas\u001B[39;00m \u001B[38;5;21;01mfeature_group\u001B[39;00m\n\u001B[0;32m     20\u001B[0m \u001B[38;5;28;01mfrom\u001B[39;00m \u001B[38;5;21;01mhsfs\u001B[39;00m\u001B[38;5;21;01m.\u001B[39;00m\u001B[38;5;21;01mfeature\u001B[39;00m \u001B[38;5;28;01mimport\u001B[39;00m Feature\n\u001B[0;32m     21\u001B[0m \u001B[38;5;28;01mfrom\u001B[39;00m \u001B[38;5;21;01mhsfs\u001B[39;00m\u001B[38;5;21;01m.\u001B[39;00m\u001B[38;5;21;01mtransformation_function\u001B[39;00m \u001B[38;5;28;01mimport\u001B[39;00m TransformationFunction\n",
      "File \u001B[1;32m~\\miniconda3\\envs\\serverless-ml\\lib\\site-packages\\hsfs\\feature_group.py:23\u001B[0m\n\u001B[0;32m     21\u001B[0m \u001B[38;5;28;01mimport\u001B[39;00m \u001B[38;5;21;01mpandas\u001B[39;00m \u001B[38;5;28;01mas\u001B[39;00m \u001B[38;5;21;01mpd\u001B[39;00m\n\u001B[0;32m     22\u001B[0m \u001B[38;5;28;01mimport\u001B[39;00m \u001B[38;5;21;01mnumpy\u001B[39;00m \u001B[38;5;28;01mas\u001B[39;00m \u001B[38;5;21;01mnp\u001B[39;00m\n\u001B[1;32m---> 23\u001B[0m \u001B[38;5;28;01mimport\u001B[39;00m \u001B[38;5;21;01mgreat_expectations\u001B[39;00m \u001B[38;5;28;01mas\u001B[39;00m \u001B[38;5;21;01mge\u001B[39;00m\n\u001B[0;32m     24\u001B[0m \u001B[38;5;28;01mimport\u001B[39;00m \u001B[38;5;21;01mavro\u001B[39;00m\u001B[38;5;21;01m.\u001B[39;00m\u001B[38;5;21;01mschema\u001B[39;00m\n\u001B[0;32m     25\u001B[0m \u001B[38;5;28;01mfrom\u001B[39;00m \u001B[38;5;21;01mtyping\u001B[39;00m \u001B[38;5;28;01mimport\u001B[39;00m Optional, Union, Any, Dict, List, TypeVar\n",
      "File \u001B[1;32m~\\miniconda3\\envs\\serverless-ml\\lib\\site-packages\\great_expectations\\__init__.py:7\u001B[0m\n\u001B[0;32m      4\u001B[0m __version__ \u001B[38;5;241m=\u001B[39m get_versions()[\u001B[38;5;124m\"\u001B[39m\u001B[38;5;124mversion\u001B[39m\u001B[38;5;124m\"\u001B[39m]  \u001B[38;5;66;03m# isort:skip\u001B[39;00m\n\u001B[0;32m      5\u001B[0m \u001B[38;5;28;01mdel\u001B[39;00m get_versions  \u001B[38;5;66;03m# isort:skip\u001B[39;00m\n\u001B[1;32m----> 7\u001B[0m \u001B[38;5;28;01mfrom\u001B[39;00m \u001B[38;5;21;01mgreat_expectations\u001B[39;00m\u001B[38;5;21;01m.\u001B[39;00m\u001B[38;5;21;01mdata_context\u001B[39;00m \u001B[38;5;28;01mimport\u001B[39;00m DataContext\n\u001B[0;32m      9\u001B[0m \u001B[38;5;28;01mfrom\u001B[39;00m \u001B[38;5;21;01m.\u001B[39;00m\u001B[38;5;21;01mutil\u001B[39;00m \u001B[38;5;28;01mimport\u001B[39;00m (\n\u001B[0;32m     10\u001B[0m     from_pandas,\n\u001B[0;32m     11\u001B[0m     get_context,\n\u001B[1;32m   (...)\u001B[0m\n\u001B[0;32m     20\u001B[0m     validate,\n\u001B[0;32m     21\u001B[0m )\n\u001B[0;32m     23\u001B[0m \u001B[38;5;66;03m# from great_expectations.expectations.core import *\u001B[39;00m\n\u001B[0;32m     24\u001B[0m \u001B[38;5;66;03m# from great_expectations.expectations.metrics import *\u001B[39;00m\n",
      "File \u001B[1;32m~\\miniconda3\\envs\\serverless-ml\\lib\\site-packages\\great_expectations\\data_context\\__init__.py:1\u001B[0m\n\u001B[1;32m----> 1\u001B[0m \u001B[38;5;28;01mfrom\u001B[39;00m \u001B[38;5;21;01m.\u001B[39;00m\u001B[38;5;21;01mdata_context\u001B[39;00m \u001B[38;5;28;01mimport\u001B[39;00m BaseDataContext, DataContext, ExplorerDataContext\n",
      "File \u001B[1;32m~\\miniconda3\\envs\\serverless-ml\\lib\\site-packages\\great_expectations\\data_context\\data_context.py:115\u001B[0m\n\u001B[0;32m    113\u001B[0m \u001B[38;5;28;01mfrom\u001B[39;00m \u001B[38;5;21;01mgreat_expectations\u001B[39;00m\u001B[38;5;21;01m.\u001B[39;00m\u001B[38;5;21;01mmarshmallow__shade\u001B[39;00m \u001B[38;5;28;01mimport\u001B[39;00m ValidationError\n\u001B[0;32m    114\u001B[0m \u001B[38;5;28;01mfrom\u001B[39;00m \u001B[38;5;21;01mgreat_expectations\u001B[39;00m\u001B[38;5;21;01m.\u001B[39;00m\u001B[38;5;21;01mprofile\u001B[39;00m\u001B[38;5;21;01m.\u001B[39;00m\u001B[38;5;21;01mbasic_dataset_profiler\u001B[39;00m \u001B[38;5;28;01mimport\u001B[39;00m BasicDatasetProfiler\n\u001B[1;32m--> 115\u001B[0m \u001B[38;5;28;01mfrom\u001B[39;00m \u001B[38;5;21;01mgreat_expectations\u001B[39;00m\u001B[38;5;21;01m.\u001B[39;00m\u001B[38;5;21;01mrender\u001B[39;00m\u001B[38;5;21;01m.\u001B[39;00m\u001B[38;5;21;01mrenderer\u001B[39;00m\u001B[38;5;21;01m.\u001B[39;00m\u001B[38;5;21;01msite_builder\u001B[39;00m \u001B[38;5;28;01mimport\u001B[39;00m SiteBuilder\n\u001B[0;32m    116\u001B[0m \u001B[38;5;28;01mfrom\u001B[39;00m \u001B[38;5;21;01mgreat_expectations\u001B[39;00m\u001B[38;5;21;01m.\u001B[39;00m\u001B[38;5;21;01mrule_based_profiler\u001B[39;00m \u001B[38;5;28;01mimport\u001B[39;00m RuleBasedProfiler\n\u001B[0;32m    117\u001B[0m \u001B[38;5;28;01mfrom\u001B[39;00m \u001B[38;5;21;01mgreat_expectations\u001B[39;00m\u001B[38;5;21;01m.\u001B[39;00m\u001B[38;5;21;01mrule_based_profiler\u001B[39;00m\u001B[38;5;21;01m.\u001B[39;00m\u001B[38;5;21;01mconfig\u001B[39;00m \u001B[38;5;28;01mimport\u001B[39;00m RuleBasedProfilerConfig\n",
      "File \u001B[1;32m~\\miniconda3\\envs\\serverless-ml\\lib\\site-packages\\great_expectations\\render\\__init__.py:1\u001B[0m\n\u001B[1;32m----> 1\u001B[0m \u001B[38;5;28;01mfrom\u001B[39;00m \u001B[38;5;21;01m.\u001B[39;00m\u001B[38;5;21;01mview\u001B[39;00m \u001B[38;5;28;01mimport\u001B[39;00m DefaultJinjaPageView\n",
      "File \u001B[1;32m~\\miniconda3\\envs\\serverless-ml\\lib\\site-packages\\great_expectations\\render\\view\\__init__.py:1\u001B[0m\n\u001B[1;32m----> 1\u001B[0m \u001B[38;5;28;01mfrom\u001B[39;00m \u001B[38;5;21;01m.\u001B[39;00m\u001B[38;5;21;01mview\u001B[39;00m \u001B[38;5;28;01mimport\u001B[39;00m (\n\u001B[0;32m      2\u001B[0m     DefaultJinjaComponentView,\n\u001B[0;32m      3\u001B[0m     DefaultJinjaIndexPageView,\n\u001B[0;32m      4\u001B[0m     DefaultJinjaPageView,\n\u001B[0;32m      5\u001B[0m     DefaultJinjaSectionView,\n\u001B[0;32m      6\u001B[0m     DefaultMarkdownPageView,\n\u001B[0;32m      7\u001B[0m )\n",
      "File \u001B[1;32m~\\miniconda3\\envs\\serverless-ml\\lib\\site-packages\\great_expectations\\render\\view\\view.py:9\u001B[0m\n\u001B[0;32m      6\u001B[0m \u001B[38;5;28;01mfrom\u001B[39;00m \u001B[38;5;21;01muuid\u001B[39;00m \u001B[38;5;28;01mimport\u001B[39;00m uuid4\n\u001B[0;32m      8\u001B[0m \u001B[38;5;28;01mimport\u001B[39;00m \u001B[38;5;21;01mmistune\u001B[39;00m\n\u001B[1;32m----> 9\u001B[0m \u001B[38;5;28;01mfrom\u001B[39;00m \u001B[38;5;21;01mjinja2\u001B[39;00m \u001B[38;5;28;01mimport\u001B[39;00m (\n\u001B[0;32m     10\u001B[0m     ChoiceLoader,\n\u001B[0;32m     11\u001B[0m     Environment,\n\u001B[0;32m     12\u001B[0m     FileSystemLoader,\n\u001B[0;32m     13\u001B[0m     PackageLoader,\n\u001B[0;32m     14\u001B[0m     contextfilter,\n\u001B[0;32m     15\u001B[0m     select_autoescape,\n\u001B[0;32m     16\u001B[0m )\n\u001B[0;32m     18\u001B[0m \u001B[38;5;28;01mfrom\u001B[39;00m \u001B[38;5;21;01mgreat_expectations\u001B[39;00m \u001B[38;5;28;01mimport\u001B[39;00m __version__ \u001B[38;5;28;01mas\u001B[39;00m ge_version\n\u001B[0;32m     19\u001B[0m \u001B[38;5;28;01mfrom\u001B[39;00m \u001B[38;5;21;01mgreat_expectations\u001B[39;00m\u001B[38;5;21;01m.\u001B[39;00m\u001B[38;5;21;01mrender\u001B[39;00m\u001B[38;5;21;01m.\u001B[39;00m\u001B[38;5;21;01mtypes\u001B[39;00m \u001B[38;5;28;01mimport\u001B[39;00m (\n\u001B[0;32m     20\u001B[0m     RenderedComponentContent,\n\u001B[0;32m     21\u001B[0m     RenderedContent,\n\u001B[0;32m     22\u001B[0m     RenderedDocumentContent,\n\u001B[0;32m     23\u001B[0m )\n",
      "\u001B[1;31mImportError\u001B[0m: cannot import name 'contextfilter' from 'jinja2' (C:\\Users\\matfr\\miniconda3\\envs\\serverless-ml\\lib\\site-packages\\jinja2\\__init__.py)"
     ]
    }
   ],
   "source": [
    "import hopsworks\n",
    "\n",
    "project = hopsworks.login()\n",
    "fs = project.get_feature_store()\n",
    "fg_football = fs.get_or_create_feature_group(\n",
    "    name=\"fg_football\",\n",
    "    version=1,\n",
    "    primary_key=[],\n",
    "    description=\"Processed titanic survivors dataset\")"
   ],
   "metadata": {
    "collapsed": false,
    "pycharm": {
     "name": "#%%\n"
    }
   }
  },
  {
   "cell_type": "code",
   "execution_count": 23,
   "metadata": {
    "pycharm": {
     "name": "#%%\n"
    }
   },
   "outputs": [],
   "source": [
    "finetuning_df = data_for_splitting  #.loc[data_for_splitting['League'] == 'premier-league']\n",
    "# finetuning_df = finetuning_df.drop(['League'], axis=1)\n",
    "\n",
    "throwaway_size = 0.2\n",
    "train_size = 0.5\n",
    "val_size = 0.15\n",
    "test_size = 0.15\n",
    "\n",
    "assert throwaway_size + train_size + val_size + test_size == 1.0\n",
    "\n",
    "throwaway_index = int(len(finetuning_df) * throwaway_size)\n",
    "train_index = throwaway_index + int(len(finetuning_df) * train_size)\n",
    "val_index = train_index + int(len(finetuning_df) * val_size)\n",
    "df_train = finetuning_df[throwaway_index:train_index]\n",
    "df_valid = finetuning_df[train_index:val_index]\n",
    "df_test = finetuning_df[val_index:]\n",
    "\n",
    "target_columns = ['HC_Pinnacle', 'DC_Pinnacle', 'AC_Pinnacle']\n",
    "\n",
    "X_finetuning, y_finetuning = finetuning_df[all_columns].copy(), finetuning_df[target_columns].copy()\n",
    "X_finetuning_train, y_finetuning_train = df_train[all_columns].copy(), df_train[target_columns].copy()\n",
    "X_finetuning_valid, y_finetuning_valid = df_valid[all_columns].copy(), df_valid[target_columns].copy()\n",
    "X_finetuning_test, y_finetuning_test = df_test[all_columns].copy(), df_test[target_columns].copy()"
   ]
  },
  {
   "cell_type": "code",
   "execution_count": 48,
   "outputs": [],
   "source": [
    "finetuning_df.to_csv(\"data_tst.csv\")"
   ],
   "metadata": {
    "collapsed": false,
    "pycharm": {
     "name": "#%%\n"
    }
   }
  },
  {
   "cell_type": "code",
   "execution_count": 24,
   "metadata": {
    "pycharm": {
     "name": "#%%\n"
    }
   },
   "outputs": [],
   "source": [
    "# print(X_train.shape), print(y_train.shape)\n",
    "# print(X_valid.shape), print(y_valid.shape)"
   ]
  },
  {
   "cell_type": "code",
   "execution_count": 25,
   "metadata": {
    "pycharm": {
     "name": "#%%\n"
    }
   },
   "outputs": [
    {
     "name": "stdout",
     "output_type": "stream",
     "text": [
      "(24410, 29)\n",
      "(24410, 3)\n",
      "(7323, 29)\n",
      "(7323, 3)\n",
      "(7323, 29)\n",
      "(7323, 3)\n"
     ]
    },
    {
     "data": {
      "text/plain": "(None, None)"
     },
     "execution_count": 25,
     "metadata": {},
     "output_type": "execute_result"
    }
   ],
   "source": [
    "print(X_finetuning_train.shape), print(y_finetuning_train.shape)\n",
    "print(X_finetuning_valid.shape), print(y_finetuning_valid.shape)\n",
    "print(X_finetuning_test.shape), print(y_finetuning_test.shape)"
   ]
  },
  {
   "cell_type": "markdown",
   "source": [
    "# Calculate elo\n",
    "Get initial elo from training"
   ],
   "metadata": {
    "collapsed": false,
    "pycharm": {
     "name": "#%% md\n"
    }
   }
  },
  {
   "cell_type": "code",
   "execution_count": 26,
   "outputs": [
    {
     "ename": "AttributeError",
     "evalue": "'Pandas' object has no attribute 'H_team'",
     "output_type": "error",
     "traceback": [
      "\u001B[1;31m---------------------------------------------------------------------------\u001B[0m",
      "\u001B[1;31mAttributeError\u001B[0m                            Traceback (most recent call last)",
      "Cell \u001B[1;32mIn [26], line 8\u001B[0m\n\u001B[0;32m      6\u001B[0m elo \u001B[38;5;241m=\u001B[39m EloCalculator()\n\u001B[0;32m      7\u001B[0m \u001B[38;5;28;01mfor\u001B[39;00m row \u001B[38;5;129;01min\u001B[39;00m X_finetuning_train\u001B[38;5;241m.\u001B[39mitertuples():\n\u001B[1;32m----> 8\u001B[0m     elo\u001B[38;5;241m.\u001B[39mupdate(\u001B[43mrow\u001B[49m\u001B[38;5;241;43m.\u001B[39;49m\u001B[43mH_team\u001B[49m, row\u001B[38;5;241m.\u001B[39mA_team, row\u001B[38;5;241m.\u001B[39mFTHG, row\u001B[38;5;241m.\u001B[39mFTAG, teams_elo)\n",
      "\u001B[1;31mAttributeError\u001B[0m: 'Pandas' object has no attribute 'H_team'"
     ]
    }
   ],
   "source": [
    "from elo_calculator import EloCalculator\n",
    "\n",
    "teams_all = set(data_df[\"A_team\"]).union(data_df[\"H_team\"])\n",
    "teams_elo = {k: 1500 for k in teams_all}\n",
    "\n",
    "elo = EloCalculator()\n",
    "for row in X_finetuning_train.itertuples():\n",
    "    elo.update(row.H_team, row.A_team, row.FTHG, row.FTAG, teams_elo)"
   ],
   "metadata": {
    "collapsed": false,
    "pycharm": {
     "name": "#%%\n"
    }
   }
  },
  {
   "cell_type": "markdown",
   "source": [
    "Add elo to games"
   ],
   "metadata": {
    "collapsed": false,
    "pycharm": {
     "name": "#%% md\n"
    }
   }
  },
  {
   "cell_type": "code",
   "execution_count": 446,
   "outputs": [],
   "source": [
    "def update_elo(df_update, teams):\n",
    "    for idx, row in df_update.iterrows():\n",
    "        df_update.loc[idx, 'H_elo'] = teams[row.H_team]\n",
    "        df_update.loc[idx, 'A_elo'] = teams[row.A_team]\n",
    "        elo.update(row.H_team, row.A_team, row.FTHG, row.FTAG, teams)\n",
    "\n",
    "\n",
    "update_elo(X_finetuning_train, teams_elo)\n",
    "update_elo(X_finetuning_valid, teams_elo)\n",
    "update_elo(X_finetuning_test, teams_elo)"
   ],
   "metadata": {
    "collapsed": false,
    "pycharm": {
     "name": "#%%\n"
    }
   }
  },
  {
   "cell_type": "code",
   "execution_count": 494,
   "outputs": [],
   "source": [
    "X_finetuning_train.drop(drop_later_columns, axis=1, inplace=True)\n",
    "X_finetuning_valid.drop(drop_later_columns, axis=1, inplace=True)\n",
    "X_finetuning_test.drop(drop_later_columns, axis=1, inplace=True)"
   ],
   "metadata": {
    "collapsed": false,
    "pycharm": {
     "name": "#%%\n"
    }
   }
  },
  {
   "cell_type": "code",
   "execution_count": 495,
   "outputs": [
    {
     "data": {
      "text/plain": "       AO_Pinnacle  A_LastOdds  DO_Pinnacle  HO_Pinnacle  H_LastOdds  \\\n41497     0.520833    0.507614     0.285714     0.245700    0.253807   \n41498     0.219780    0.328947     0.246305     0.558659    0.452489   \n41499     0.288184    0.452489     0.336700     0.408163    0.259740   \n41500     0.364964    0.460829     0.347222     0.331126    0.289017   \n41501     0.409836    0.480769     0.303030     0.331126    0.281690   \n...            ...         ...          ...          ...         ...   \n48815     0.220264    0.495050     0.285714     0.529101    0.241546   \n48816     0.232558    0.254453     0.255102     0.558659    0.502513   \n48817     0.409836    0.452489     0.274725     0.375940    0.297619   \n48818     0.456621    0.584795     0.262467     0.314465    0.203666   \n48819     0.296736    0.342466     0.325733     0.409836    0.393701   \n\n       H_LastFTG  A_LastFTG      H_MMR      A_MMR  H_5Points  ...    H_9EVs  \\\n41497          0          0  25.774492  28.493115          4  ... -5.522393   \n41498          1          1  27.316375  25.345596          8  ... -2.009510   \n41499          1          3  26.492729  27.974443          7  ... -4.247074   \n41500          1          3  25.189563  25.916317          7  ... -1.195158   \n41501          0          2  25.509383  26.454395          4  ... -3.440095   \n...          ...        ...        ...        ...        ...  ...       ...   \n48815          0          1  23.769969  23.687368          8  ... -1.805081   \n48816          0          0  24.060664  24.253915          2  ... -3.457133   \n48817          0          0  23.770809  26.678957          5  ... -3.739979   \n48818          0          0  24.783846  25.092602          6  ... -3.126201   \n48819          1          2  23.591409  23.542603          8  ... -3.594510   \n\n         A_9EVs  H_1shock  A_1shock  H_3shock  A_3shock  H_5shock  A_5shock  \\\n41497 -1.557305 -0.684211 -1.429192 -1.341503 -1.935372 -2.108400 -3.214385   \n41498 -2.465100 -1.242424  0.581590 -0.224234 -0.611129  2.151203  0.710569   \n41499 -1.095479  0.250627  0.601594  0.583767  2.107828  0.543543  2.814457   \n41500 -0.248241  0.870396 -0.497487  3.222674 -2.243779  2.006603 -0.929311   \n41501 -3.444208 -2.534799 -1.436620 -2.365545 -0.810956 -4.263286 -0.203457   \n...         ...       ...       ...       ...       ...       ...       ...   \n48815 -3.566225  0.288184  0.695122  1.762884  1.197562  2.083843  3.004507   \n48816 -4.652999 -0.481162  0.150830 -1.400217 -0.232407 -2.014425 -1.977025   \n48817  1.758084  0.355872 -0.383142  0.671257  0.365279  0.632352  1.780395   \n48818  1.576642 -0.500000 -0.669260 -0.463553 -0.035727  1.842694 -0.569305   \n48819 -5.540918 -0.237693 -0.918919  0.651227 -2.664439  2.117735 -3.848979   \n\n       H_winstreak  A_winstreak  \n41497           -1           -1  \n41498           -1            1  \n41499            3            4  \n41500            2           -3  \n41501           -1           -2  \n...            ...          ...  \n48815            2            3  \n48816           -3            1  \n48817           -2           11  \n48818           -1           -1  \n48819           -1           -4  \n\n[7323 rows x 29 columns]",
      "text/html": "<div>\n<style scoped>\n    .dataframe tbody tr th:only-of-type {\n        vertical-align: middle;\n    }\n\n    .dataframe tbody tr th {\n        vertical-align: top;\n    }\n\n    .dataframe thead th {\n        text-align: right;\n    }\n</style>\n<table border=\"1\" class=\"dataframe\">\n  <thead>\n    <tr style=\"text-align: right;\">\n      <th></th>\n      <th>AO_Pinnacle</th>\n      <th>A_LastOdds</th>\n      <th>DO_Pinnacle</th>\n      <th>HO_Pinnacle</th>\n      <th>H_LastOdds</th>\n      <th>H_LastFTG</th>\n      <th>A_LastFTG</th>\n      <th>H_MMR</th>\n      <th>A_MMR</th>\n      <th>H_5Points</th>\n      <th>...</th>\n      <th>H_9EVs</th>\n      <th>A_9EVs</th>\n      <th>H_1shock</th>\n      <th>A_1shock</th>\n      <th>H_3shock</th>\n      <th>A_3shock</th>\n      <th>H_5shock</th>\n      <th>A_5shock</th>\n      <th>H_winstreak</th>\n      <th>A_winstreak</th>\n    </tr>\n  </thead>\n  <tbody>\n    <tr>\n      <th>41497</th>\n      <td>0.520833</td>\n      <td>0.507614</td>\n      <td>0.285714</td>\n      <td>0.245700</td>\n      <td>0.253807</td>\n      <td>0</td>\n      <td>0</td>\n      <td>25.774492</td>\n      <td>28.493115</td>\n      <td>4</td>\n      <td>...</td>\n      <td>-5.522393</td>\n      <td>-1.557305</td>\n      <td>-0.684211</td>\n      <td>-1.429192</td>\n      <td>-1.341503</td>\n      <td>-1.935372</td>\n      <td>-2.108400</td>\n      <td>-3.214385</td>\n      <td>-1</td>\n      <td>-1</td>\n    </tr>\n    <tr>\n      <th>41498</th>\n      <td>0.219780</td>\n      <td>0.328947</td>\n      <td>0.246305</td>\n      <td>0.558659</td>\n      <td>0.452489</td>\n      <td>1</td>\n      <td>1</td>\n      <td>27.316375</td>\n      <td>25.345596</td>\n      <td>8</td>\n      <td>...</td>\n      <td>-2.009510</td>\n      <td>-2.465100</td>\n      <td>-1.242424</td>\n      <td>0.581590</td>\n      <td>-0.224234</td>\n      <td>-0.611129</td>\n      <td>2.151203</td>\n      <td>0.710569</td>\n      <td>-1</td>\n      <td>1</td>\n    </tr>\n    <tr>\n      <th>41499</th>\n      <td>0.288184</td>\n      <td>0.452489</td>\n      <td>0.336700</td>\n      <td>0.408163</td>\n      <td>0.259740</td>\n      <td>1</td>\n      <td>3</td>\n      <td>26.492729</td>\n      <td>27.974443</td>\n      <td>7</td>\n      <td>...</td>\n      <td>-4.247074</td>\n      <td>-1.095479</td>\n      <td>0.250627</td>\n      <td>0.601594</td>\n      <td>0.583767</td>\n      <td>2.107828</td>\n      <td>0.543543</td>\n      <td>2.814457</td>\n      <td>3</td>\n      <td>4</td>\n    </tr>\n    <tr>\n      <th>41500</th>\n      <td>0.364964</td>\n      <td>0.460829</td>\n      <td>0.347222</td>\n      <td>0.331126</td>\n      <td>0.289017</td>\n      <td>1</td>\n      <td>3</td>\n      <td>25.189563</td>\n      <td>25.916317</td>\n      <td>7</td>\n      <td>...</td>\n      <td>-1.195158</td>\n      <td>-0.248241</td>\n      <td>0.870396</td>\n      <td>-0.497487</td>\n      <td>3.222674</td>\n      <td>-2.243779</td>\n      <td>2.006603</td>\n      <td>-0.929311</td>\n      <td>2</td>\n      <td>-3</td>\n    </tr>\n    <tr>\n      <th>41501</th>\n      <td>0.409836</td>\n      <td>0.480769</td>\n      <td>0.303030</td>\n      <td>0.331126</td>\n      <td>0.281690</td>\n      <td>0</td>\n      <td>2</td>\n      <td>25.509383</td>\n      <td>26.454395</td>\n      <td>4</td>\n      <td>...</td>\n      <td>-3.440095</td>\n      <td>-3.444208</td>\n      <td>-2.534799</td>\n      <td>-1.436620</td>\n      <td>-2.365545</td>\n      <td>-0.810956</td>\n      <td>-4.263286</td>\n      <td>-0.203457</td>\n      <td>-1</td>\n      <td>-2</td>\n    </tr>\n    <tr>\n      <th>...</th>\n      <td>...</td>\n      <td>...</td>\n      <td>...</td>\n      <td>...</td>\n      <td>...</td>\n      <td>...</td>\n      <td>...</td>\n      <td>...</td>\n      <td>...</td>\n      <td>...</td>\n      <td>...</td>\n      <td>...</td>\n      <td>...</td>\n      <td>...</td>\n      <td>...</td>\n      <td>...</td>\n      <td>...</td>\n      <td>...</td>\n      <td>...</td>\n      <td>...</td>\n      <td>...</td>\n    </tr>\n    <tr>\n      <th>48815</th>\n      <td>0.220264</td>\n      <td>0.495050</td>\n      <td>0.285714</td>\n      <td>0.529101</td>\n      <td>0.241546</td>\n      <td>0</td>\n      <td>1</td>\n      <td>23.769969</td>\n      <td>23.687368</td>\n      <td>8</td>\n      <td>...</td>\n      <td>-1.805081</td>\n      <td>-3.566225</td>\n      <td>0.288184</td>\n      <td>0.695122</td>\n      <td>1.762884</td>\n      <td>1.197562</td>\n      <td>2.083843</td>\n      <td>3.004507</td>\n      <td>2</td>\n      <td>3</td>\n    </tr>\n    <tr>\n      <th>48816</th>\n      <td>0.232558</td>\n      <td>0.254453</td>\n      <td>0.255102</td>\n      <td>0.558659</td>\n      <td>0.502513</td>\n      <td>0</td>\n      <td>0</td>\n      <td>24.060664</td>\n      <td>24.253915</td>\n      <td>2</td>\n      <td>...</td>\n      <td>-3.457133</td>\n      <td>-4.652999</td>\n      <td>-0.481162</td>\n      <td>0.150830</td>\n      <td>-1.400217</td>\n      <td>-0.232407</td>\n      <td>-2.014425</td>\n      <td>-1.977025</td>\n      <td>-3</td>\n      <td>1</td>\n    </tr>\n    <tr>\n      <th>48817</th>\n      <td>0.409836</td>\n      <td>0.452489</td>\n      <td>0.274725</td>\n      <td>0.375940</td>\n      <td>0.297619</td>\n      <td>0</td>\n      <td>0</td>\n      <td>23.770809</td>\n      <td>26.678957</td>\n      <td>5</td>\n      <td>...</td>\n      <td>-3.739979</td>\n      <td>1.758084</td>\n      <td>0.355872</td>\n      <td>-0.383142</td>\n      <td>0.671257</td>\n      <td>0.365279</td>\n      <td>0.632352</td>\n      <td>1.780395</td>\n      <td>-2</td>\n      <td>11</td>\n    </tr>\n    <tr>\n      <th>48818</th>\n      <td>0.456621</td>\n      <td>0.584795</td>\n      <td>0.262467</td>\n      <td>0.314465</td>\n      <td>0.203666</td>\n      <td>0</td>\n      <td>0</td>\n      <td>24.783846</td>\n      <td>25.092602</td>\n      <td>6</td>\n      <td>...</td>\n      <td>-3.126201</td>\n      <td>1.576642</td>\n      <td>-0.500000</td>\n      <td>-0.669260</td>\n      <td>-0.463553</td>\n      <td>-0.035727</td>\n      <td>1.842694</td>\n      <td>-0.569305</td>\n      <td>-1</td>\n      <td>-1</td>\n    </tr>\n    <tr>\n      <th>48819</th>\n      <td>0.296736</td>\n      <td>0.342466</td>\n      <td>0.325733</td>\n      <td>0.409836</td>\n      <td>0.393701</td>\n      <td>1</td>\n      <td>2</td>\n      <td>23.591409</td>\n      <td>23.542603</td>\n      <td>8</td>\n      <td>...</td>\n      <td>-3.594510</td>\n      <td>-5.540918</td>\n      <td>-0.237693</td>\n      <td>-0.918919</td>\n      <td>0.651227</td>\n      <td>-2.664439</td>\n      <td>2.117735</td>\n      <td>-3.848979</td>\n      <td>-1</td>\n      <td>-4</td>\n    </tr>\n  </tbody>\n</table>\n<p>7323 rows × 29 columns</p>\n</div>"
     },
     "execution_count": 495,
     "metadata": {},
     "output_type": "execute_result"
    }
   ],
   "source": [
    "X_finetuning_test"
   ],
   "metadata": {
    "collapsed": false,
    "pycharm": {
     "name": "#%%\n"
    }
   }
  },
  {
   "cell_type": "markdown",
   "metadata": {
    "pycharm": {
     "name": "#%% md\n"
    }
   },
   "source": [
    "## Plotting distribution of the newly created features\n",
    "\n",
    "Let's plot some values to see their distribution..."
   ]
  },
  {
   "cell_type": "code",
   "execution_count": 41,
   "outputs": [
    {
     "data": {
      "text/plain": "       Country           League            H_team           A_team       Date  \\\n0      germany           3-liga   AlemanniaAachen  PreussenMunster 2012-09-25   \n1      germany           3-liga  ArminiaBielefeld       Chemnitzer 2012-09-25   \n2      germany     2-bundesliga    EnergieCottbus        Paderborn 2012-09-25   \n3      germany     2-bundesliga            FCKoln     FSVFrankfurt 2012-09-25   \n4      england  national-league      CambridgeUtd    Kidderminster 2012-09-25   \n...        ...              ...               ...              ...        ...   \n48815  england       league-two           Walsall          Crawley 2022-11-19   \n48816  england  national-league          YorkCity       Wealdstone 2022-11-19   \n48817  england       league-one            Burton         Plymouth 2022-11-19   \n48818  england       league-one     BristolRovers     Peterborough 2022-11-19   \n48819  england       league-two           Crawley       Gillingham 2022-11-22   \n\n           Time  FTHG  FTAG  HT1HG  HT1AG  ...    H_9EVs    A_9EVs  H_1shock  \\\n0      18:00:00     1     2      0      0  ...  0.000000  0.000000  0.000000   \n1      18:00:00     0     0      0      0  ...  0.000000  0.000000  0.000000   \n2      16:30:00     2     1      0      0  ...  0.000000  0.000000  0.000000   \n3      16:30:00     2     1      0      0  ...  0.000000  0.000000  0.000000   \n4      19:45:00     1     3      0      0  ...  0.000000  0.000000  0.000000   \n...         ...   ...   ...    ...    ...  ...       ...       ...       ...   \n48815  15:00:00     2     1      1      1  ... -1.805081 -3.566225  0.288184   \n48816  15:00:00     1     2      1      0  ... -3.457133 -4.652999 -0.481162   \n48817  15:00:00     2     2      1      0  ... -3.739979  1.758084  0.355872   \n48818  15:00:00     1     0      0      0  ... -3.126201  1.576642 -0.500000   \n48819  19:45:00     0     0      0      0  ... -3.594510 -5.540918 -0.237693   \n\n       A_1shock  H_3shock  A_3shock  H_5shock  A_5shock  H_winstreak  \\\n0      0.000000  0.000000  0.000000  0.000000  0.000000            0   \n1      0.000000  0.000000  0.000000  0.000000  0.000000            0   \n2      0.000000  0.000000  0.000000  0.000000  0.000000            0   \n3      0.000000  0.000000  0.000000  0.000000  0.000000            0   \n4      0.000000  0.000000  0.000000  0.000000  0.000000            0   \n...         ...       ...       ...       ...       ...          ...   \n48815  0.695122  1.762884  1.197562  2.083843  3.004507            2   \n48816  0.150830 -1.400217 -0.232407 -2.014425 -1.977025           -3   \n48817 -0.383142  0.671257  0.365279  0.632352  1.780395           -2   \n48818 -0.669260 -0.463553 -0.035727  1.842694 -0.569305           -1   \n48819 -0.918919  0.651227 -2.664439  2.117735 -3.848979           -1   \n\n       A_winstreak  \n0                0  \n1                0  \n2                0  \n3                0  \n4                0  \n...            ...  \n48815            3  \n48816            1  \n48817           11  \n48818           -1  \n48819           -4  \n\n[48820 rows x 86 columns]",
      "text/html": "<div>\n<style scoped>\n    .dataframe tbody tr th:only-of-type {\n        vertical-align: middle;\n    }\n\n    .dataframe tbody tr th {\n        vertical-align: top;\n    }\n\n    .dataframe thead th {\n        text-align: right;\n    }\n</style>\n<table border=\"1\" class=\"dataframe\">\n  <thead>\n    <tr style=\"text-align: right;\">\n      <th></th>\n      <th>Country</th>\n      <th>League</th>\n      <th>H_team</th>\n      <th>A_team</th>\n      <th>Date</th>\n      <th>Time</th>\n      <th>FTHG</th>\n      <th>FTAG</th>\n      <th>HT1HG</th>\n      <th>HT1AG</th>\n      <th>...</th>\n      <th>H_9EVs</th>\n      <th>A_9EVs</th>\n      <th>H_1shock</th>\n      <th>A_1shock</th>\n      <th>H_3shock</th>\n      <th>A_3shock</th>\n      <th>H_5shock</th>\n      <th>A_5shock</th>\n      <th>H_winstreak</th>\n      <th>A_winstreak</th>\n    </tr>\n  </thead>\n  <tbody>\n    <tr>\n      <th>0</th>\n      <td>germany</td>\n      <td>3-liga</td>\n      <td>AlemanniaAachen</td>\n      <td>PreussenMunster</td>\n      <td>2012-09-25</td>\n      <td>18:00:00</td>\n      <td>1</td>\n      <td>2</td>\n      <td>0</td>\n      <td>0</td>\n      <td>...</td>\n      <td>0.000000</td>\n      <td>0.000000</td>\n      <td>0.000000</td>\n      <td>0.000000</td>\n      <td>0.000000</td>\n      <td>0.000000</td>\n      <td>0.000000</td>\n      <td>0.000000</td>\n      <td>0</td>\n      <td>0</td>\n    </tr>\n    <tr>\n      <th>1</th>\n      <td>germany</td>\n      <td>3-liga</td>\n      <td>ArminiaBielefeld</td>\n      <td>Chemnitzer</td>\n      <td>2012-09-25</td>\n      <td>18:00:00</td>\n      <td>0</td>\n      <td>0</td>\n      <td>0</td>\n      <td>0</td>\n      <td>...</td>\n      <td>0.000000</td>\n      <td>0.000000</td>\n      <td>0.000000</td>\n      <td>0.000000</td>\n      <td>0.000000</td>\n      <td>0.000000</td>\n      <td>0.000000</td>\n      <td>0.000000</td>\n      <td>0</td>\n      <td>0</td>\n    </tr>\n    <tr>\n      <th>2</th>\n      <td>germany</td>\n      <td>2-bundesliga</td>\n      <td>EnergieCottbus</td>\n      <td>Paderborn</td>\n      <td>2012-09-25</td>\n      <td>16:30:00</td>\n      <td>2</td>\n      <td>1</td>\n      <td>0</td>\n      <td>0</td>\n      <td>...</td>\n      <td>0.000000</td>\n      <td>0.000000</td>\n      <td>0.000000</td>\n      <td>0.000000</td>\n      <td>0.000000</td>\n      <td>0.000000</td>\n      <td>0.000000</td>\n      <td>0.000000</td>\n      <td>0</td>\n      <td>0</td>\n    </tr>\n    <tr>\n      <th>3</th>\n      <td>germany</td>\n      <td>2-bundesliga</td>\n      <td>FCKoln</td>\n      <td>FSVFrankfurt</td>\n      <td>2012-09-25</td>\n      <td>16:30:00</td>\n      <td>2</td>\n      <td>1</td>\n      <td>0</td>\n      <td>0</td>\n      <td>...</td>\n      <td>0.000000</td>\n      <td>0.000000</td>\n      <td>0.000000</td>\n      <td>0.000000</td>\n      <td>0.000000</td>\n      <td>0.000000</td>\n      <td>0.000000</td>\n      <td>0.000000</td>\n      <td>0</td>\n      <td>0</td>\n    </tr>\n    <tr>\n      <th>4</th>\n      <td>england</td>\n      <td>national-league</td>\n      <td>CambridgeUtd</td>\n      <td>Kidderminster</td>\n      <td>2012-09-25</td>\n      <td>19:45:00</td>\n      <td>1</td>\n      <td>3</td>\n      <td>0</td>\n      <td>0</td>\n      <td>...</td>\n      <td>0.000000</td>\n      <td>0.000000</td>\n      <td>0.000000</td>\n      <td>0.000000</td>\n      <td>0.000000</td>\n      <td>0.000000</td>\n      <td>0.000000</td>\n      <td>0.000000</td>\n      <td>0</td>\n      <td>0</td>\n    </tr>\n    <tr>\n      <th>...</th>\n      <td>...</td>\n      <td>...</td>\n      <td>...</td>\n      <td>...</td>\n      <td>...</td>\n      <td>...</td>\n      <td>...</td>\n      <td>...</td>\n      <td>...</td>\n      <td>...</td>\n      <td>...</td>\n      <td>...</td>\n      <td>...</td>\n      <td>...</td>\n      <td>...</td>\n      <td>...</td>\n      <td>...</td>\n      <td>...</td>\n      <td>...</td>\n      <td>...</td>\n      <td>...</td>\n    </tr>\n    <tr>\n      <th>48815</th>\n      <td>england</td>\n      <td>league-two</td>\n      <td>Walsall</td>\n      <td>Crawley</td>\n      <td>2022-11-19</td>\n      <td>15:00:00</td>\n      <td>2</td>\n      <td>1</td>\n      <td>1</td>\n      <td>1</td>\n      <td>...</td>\n      <td>-1.805081</td>\n      <td>-3.566225</td>\n      <td>0.288184</td>\n      <td>0.695122</td>\n      <td>1.762884</td>\n      <td>1.197562</td>\n      <td>2.083843</td>\n      <td>3.004507</td>\n      <td>2</td>\n      <td>3</td>\n    </tr>\n    <tr>\n      <th>48816</th>\n      <td>england</td>\n      <td>national-league</td>\n      <td>YorkCity</td>\n      <td>Wealdstone</td>\n      <td>2022-11-19</td>\n      <td>15:00:00</td>\n      <td>1</td>\n      <td>2</td>\n      <td>1</td>\n      <td>0</td>\n      <td>...</td>\n      <td>-3.457133</td>\n      <td>-4.652999</td>\n      <td>-0.481162</td>\n      <td>0.150830</td>\n      <td>-1.400217</td>\n      <td>-0.232407</td>\n      <td>-2.014425</td>\n      <td>-1.977025</td>\n      <td>-3</td>\n      <td>1</td>\n    </tr>\n    <tr>\n      <th>48817</th>\n      <td>england</td>\n      <td>league-one</td>\n      <td>Burton</td>\n      <td>Plymouth</td>\n      <td>2022-11-19</td>\n      <td>15:00:00</td>\n      <td>2</td>\n      <td>2</td>\n      <td>1</td>\n      <td>0</td>\n      <td>...</td>\n      <td>-3.739979</td>\n      <td>1.758084</td>\n      <td>0.355872</td>\n      <td>-0.383142</td>\n      <td>0.671257</td>\n      <td>0.365279</td>\n      <td>0.632352</td>\n      <td>1.780395</td>\n      <td>-2</td>\n      <td>11</td>\n    </tr>\n    <tr>\n      <th>48818</th>\n      <td>england</td>\n      <td>league-one</td>\n      <td>BristolRovers</td>\n      <td>Peterborough</td>\n      <td>2022-11-19</td>\n      <td>15:00:00</td>\n      <td>1</td>\n      <td>0</td>\n      <td>0</td>\n      <td>0</td>\n      <td>...</td>\n      <td>-3.126201</td>\n      <td>1.576642</td>\n      <td>-0.500000</td>\n      <td>-0.669260</td>\n      <td>-0.463553</td>\n      <td>-0.035727</td>\n      <td>1.842694</td>\n      <td>-0.569305</td>\n      <td>-1</td>\n      <td>-1</td>\n    </tr>\n    <tr>\n      <th>48819</th>\n      <td>england</td>\n      <td>league-two</td>\n      <td>Crawley</td>\n      <td>Gillingham</td>\n      <td>2022-11-22</td>\n      <td>19:45:00</td>\n      <td>0</td>\n      <td>0</td>\n      <td>0</td>\n      <td>0</td>\n      <td>...</td>\n      <td>-3.594510</td>\n      <td>-5.540918</td>\n      <td>-0.237693</td>\n      <td>-0.918919</td>\n      <td>0.651227</td>\n      <td>-2.664439</td>\n      <td>2.117735</td>\n      <td>-3.848979</td>\n      <td>-1</td>\n      <td>-4</td>\n    </tr>\n  </tbody>\n</table>\n<p>48820 rows × 86 columns</p>\n</div>"
     },
     "execution_count": 41,
     "metadata": {},
     "output_type": "execute_result"
    }
   ],
   "source": [
    "data_df"
   ],
   "metadata": {
    "collapsed": false,
    "pycharm": {
     "name": "#%%\n"
    }
   }
  },
  {
   "cell_type": "code",
   "execution_count": 449,
   "metadata": {
    "pycharm": {
     "name": "#%%\n"
    }
   },
   "outputs": [],
   "source": [
    "# print(X.columns)"
   ]
  },
  {
   "cell_type": "code",
   "execution_count": 450,
   "metadata": {
    "pycharm": {
     "name": "#%%\n"
    }
   },
   "outputs": [],
   "source": [
    "# X[['H_MMR', 'A_MMR']].hist(bins=50)\n",
    "# plt.show()"
   ]
  },
  {
   "cell_type": "code",
   "execution_count": 451,
   "metadata": {
    "pycharm": {
     "name": "#%%\n"
    }
   },
   "outputs": [],
   "source": [
    "# X[['H_LastOdds', 'A_LastOdds']].hist(bins=50)\n",
    "# plt.show()"
   ]
  },
  {
   "cell_type": "code",
   "execution_count": 452,
   "metadata": {
    "pycharm": {
     "name": "#%%\n"
    }
   },
   "outputs": [],
   "source": [
    "# X[['H_LastFTG', 'A_LastFTG']].hist(bins=50)\n",
    "# plt.show()"
   ]
  },
  {
   "cell_type": "code",
   "execution_count": 453,
   "metadata": {
    "pycharm": {
     "name": "#%%\n"
    }
   },
   "outputs": [],
   "source": [
    "# X[['H_5Points', 'A_5Points', 'H_10Points', 'A_10Points', 'H_15Points', 'A_15Points']].hist(bins=50)\n",
    "# plt.show()"
   ]
  },
  {
   "cell_type": "code",
   "execution_count": 454,
   "metadata": {
    "pycharm": {
     "name": "#%%\n"
    }
   },
   "outputs": [],
   "source": [
    "# X[['H_3EVs', 'A_3EVs', 'H_5EVs', 'A_5EVs', 'H_9EVs', 'A_9EVs']].hist(bins=50)\n",
    "# plt.show()"
   ]
  },
  {
   "cell_type": "code",
   "execution_count": 455,
   "metadata": {
    "pycharm": {
     "name": "#%%\n"
    }
   },
   "outputs": [],
   "source": [
    "# X[['H_1shock', 'A_1shock', 'H_3shock', 'A_3shock', 'H_5shock', 'A_5shock']].hist(bins=50)\n",
    "# plt.show()"
   ]
  },
  {
   "cell_type": "code",
   "execution_count": 456,
   "metadata": {
    "pycharm": {
     "name": "#%%\n"
    }
   },
   "outputs": [],
   "source": [
    "# X[['H_winstreak', 'A_winstreak']].hist(bins=50)\n",
    "# plt.show()"
   ]
  },
  {
   "cell_type": "markdown",
   "metadata": {
    "pycharm": {
     "name": "#%% md\n"
    }
   },
   "source": [
    "## Scaling\n",
    "\n",
    "We need to scale all these features, time to deploy MinMaxScaler!"
   ]
  },
  {
   "cell_type": "code",
   "execution_count": 27,
   "outputs": [
    {
     "name": "stdout",
     "output_type": "stream",
     "text": [
      "MaxAbsScaler()\n"
     ]
    },
    {
     "data": {
      "text/plain": "       AO_Pinnacle  A_LastOdds  DO_Pinnacle  HO_Pinnacle  H_LastOdds  \\\n9764      0.204082    0.383142     0.258398     0.568182    0.346021   \n9765      0.094518    0.160772     0.168067     0.769231    0.613497   \n9766      0.347222    0.319489     0.309598     0.378788    0.404858   \n9767      0.314465    0.323625     0.306748     0.413223    0.398406   \n9768      0.188679    0.223214     0.277778     0.568182    0.537634   \n...            ...         ...          ...          ...         ...   \n34169     0.265957    0.487805     0.276243     0.492611    0.277008   \n34170     0.403226    0.568182     0.290698     0.340136    0.216920   \n34171     0.317460    0.326797     0.302115     0.414938    0.404858   \n34172     0.370370    0.452489     0.292398     0.371747    0.297619   \n34173     0.384615    0.552486     0.303951     0.346021    0.206612   \n\n       H_LastFTG  A_LastFTG     H_MMR     A_MMR  H_5Points  ...    H_9EVs  \\\n9764    0.083333   0.000000  0.678779  0.733596   0.400000  ... -0.240545   \n9765    0.333333   0.111111  0.780405  0.745919   0.400000  ... -0.209392   \n9766    0.000000   0.000000  0.631314  0.688224   0.266667  ... -0.457435   \n9767    0.000000   0.000000  0.650948  0.685606   0.533333  ... -0.268544   \n9768    0.166667   0.111111  0.629378  0.642146   0.800000  ... -0.109833   \n...          ...        ...       ...       ...        ...  ...       ...   \n34169   0.083333   0.222222  0.672411  0.669766   0.666667  ... -0.409187   \n34170   0.083333   0.000000  0.630191  0.676449   0.266667  ... -0.486118   \n34171   0.250000   0.000000  0.655194  0.689083   0.333333  ... -0.259687   \n34172   0.166667   0.000000  0.700892  0.677686   0.466667  ... -0.475930   \n34173   0.083333   0.111111  0.671307  0.721257   0.466667  ... -0.170023   \n\n         A_9EVs  H_1shock  A_1shock  H_3shock  A_3shock  H_5shock  A_5shock  \\\n9764  -0.357218 -0.075442  0.234436 -0.119117  0.133552 -0.194474  0.102961   \n9765  -0.609487 -0.066218 -0.076201 -0.269729 -0.083994 -0.317489 -0.157456   \n9766   0.068880  0.023468  0.041889 -0.063944  0.182999 -0.286440  0.140844   \n9767  -0.279196 -0.058548  0.164795  0.067962  0.171824  0.214673  0.134875   \n9768  -0.253513  0.078587  0.191116  0.363222  0.134145  0.401313 -0.125103   \n...         ...       ...       ...       ...       ...       ...       ...   \n34169 -0.512351 -0.280451 -0.193395  0.234725 -0.305582  0.324085 -0.238887   \n34170 -0.077518  0.039285  0.067861  0.097245 -0.104950 -0.104584 -0.258701   \n34171 -0.034616  0.039489 -0.073256 -0.138389  0.035011 -0.102886  0.188126   \n34172 -0.274557  0.041659 -0.074333  0.018095 -0.216221  0.102266 -0.218962   \n34173 -0.161072 -0.254204  0.072247 -0.233941 -0.087741 -0.155902 -0.009098   \n\n       H_winstreak  A_winstreak  \n9764         -0.04     0.038462  \n9765         -0.04    -0.153846  \n9766         -0.08     0.115385  \n9767          0.08     0.076923  \n9768          0.16     0.076923  \n...            ...          ...  \n34169        -0.04    -0.153846  \n34170        -0.04     0.038462  \n34171        -0.08     0.115385  \n34172         0.04     0.038462  \n34173        -0.08     0.038462  \n\n[24410 rows x 29 columns]",
      "text/html": "<div>\n<style scoped>\n    .dataframe tbody tr th:only-of-type {\n        vertical-align: middle;\n    }\n\n    .dataframe tbody tr th {\n        vertical-align: top;\n    }\n\n    .dataframe thead th {\n        text-align: right;\n    }\n</style>\n<table border=\"1\" class=\"dataframe\">\n  <thead>\n    <tr style=\"text-align: right;\">\n      <th></th>\n      <th>AO_Pinnacle</th>\n      <th>A_LastOdds</th>\n      <th>DO_Pinnacle</th>\n      <th>HO_Pinnacle</th>\n      <th>H_LastOdds</th>\n      <th>H_LastFTG</th>\n      <th>A_LastFTG</th>\n      <th>H_MMR</th>\n      <th>A_MMR</th>\n      <th>H_5Points</th>\n      <th>...</th>\n      <th>H_9EVs</th>\n      <th>A_9EVs</th>\n      <th>H_1shock</th>\n      <th>A_1shock</th>\n      <th>H_3shock</th>\n      <th>A_3shock</th>\n      <th>H_5shock</th>\n      <th>A_5shock</th>\n      <th>H_winstreak</th>\n      <th>A_winstreak</th>\n    </tr>\n  </thead>\n  <tbody>\n    <tr>\n      <th>9764</th>\n      <td>0.204082</td>\n      <td>0.383142</td>\n      <td>0.258398</td>\n      <td>0.568182</td>\n      <td>0.346021</td>\n      <td>0.083333</td>\n      <td>0.000000</td>\n      <td>0.678779</td>\n      <td>0.733596</td>\n      <td>0.400000</td>\n      <td>...</td>\n      <td>-0.240545</td>\n      <td>-0.357218</td>\n      <td>-0.075442</td>\n      <td>0.234436</td>\n      <td>-0.119117</td>\n      <td>0.133552</td>\n      <td>-0.194474</td>\n      <td>0.102961</td>\n      <td>-0.04</td>\n      <td>0.038462</td>\n    </tr>\n    <tr>\n      <th>9765</th>\n      <td>0.094518</td>\n      <td>0.160772</td>\n      <td>0.168067</td>\n      <td>0.769231</td>\n      <td>0.613497</td>\n      <td>0.333333</td>\n      <td>0.111111</td>\n      <td>0.780405</td>\n      <td>0.745919</td>\n      <td>0.400000</td>\n      <td>...</td>\n      <td>-0.209392</td>\n      <td>-0.609487</td>\n      <td>-0.066218</td>\n      <td>-0.076201</td>\n      <td>-0.269729</td>\n      <td>-0.083994</td>\n      <td>-0.317489</td>\n      <td>-0.157456</td>\n      <td>-0.04</td>\n      <td>-0.153846</td>\n    </tr>\n    <tr>\n      <th>9766</th>\n      <td>0.347222</td>\n      <td>0.319489</td>\n      <td>0.309598</td>\n      <td>0.378788</td>\n      <td>0.404858</td>\n      <td>0.000000</td>\n      <td>0.000000</td>\n      <td>0.631314</td>\n      <td>0.688224</td>\n      <td>0.266667</td>\n      <td>...</td>\n      <td>-0.457435</td>\n      <td>0.068880</td>\n      <td>0.023468</td>\n      <td>0.041889</td>\n      <td>-0.063944</td>\n      <td>0.182999</td>\n      <td>-0.286440</td>\n      <td>0.140844</td>\n      <td>-0.08</td>\n      <td>0.115385</td>\n    </tr>\n    <tr>\n      <th>9767</th>\n      <td>0.314465</td>\n      <td>0.323625</td>\n      <td>0.306748</td>\n      <td>0.413223</td>\n      <td>0.398406</td>\n      <td>0.000000</td>\n      <td>0.000000</td>\n      <td>0.650948</td>\n      <td>0.685606</td>\n      <td>0.533333</td>\n      <td>...</td>\n      <td>-0.268544</td>\n      <td>-0.279196</td>\n      <td>-0.058548</td>\n      <td>0.164795</td>\n      <td>0.067962</td>\n      <td>0.171824</td>\n      <td>0.214673</td>\n      <td>0.134875</td>\n      <td>0.08</td>\n      <td>0.076923</td>\n    </tr>\n    <tr>\n      <th>9768</th>\n      <td>0.188679</td>\n      <td>0.223214</td>\n      <td>0.277778</td>\n      <td>0.568182</td>\n      <td>0.537634</td>\n      <td>0.166667</td>\n      <td>0.111111</td>\n      <td>0.629378</td>\n      <td>0.642146</td>\n      <td>0.800000</td>\n      <td>...</td>\n      <td>-0.109833</td>\n      <td>-0.253513</td>\n      <td>0.078587</td>\n      <td>0.191116</td>\n      <td>0.363222</td>\n      <td>0.134145</td>\n      <td>0.401313</td>\n      <td>-0.125103</td>\n      <td>0.16</td>\n      <td>0.076923</td>\n    </tr>\n    <tr>\n      <th>...</th>\n      <td>...</td>\n      <td>...</td>\n      <td>...</td>\n      <td>...</td>\n      <td>...</td>\n      <td>...</td>\n      <td>...</td>\n      <td>...</td>\n      <td>...</td>\n      <td>...</td>\n      <td>...</td>\n      <td>...</td>\n      <td>...</td>\n      <td>...</td>\n      <td>...</td>\n      <td>...</td>\n      <td>...</td>\n      <td>...</td>\n      <td>...</td>\n      <td>...</td>\n      <td>...</td>\n    </tr>\n    <tr>\n      <th>34169</th>\n      <td>0.265957</td>\n      <td>0.487805</td>\n      <td>0.276243</td>\n      <td>0.492611</td>\n      <td>0.277008</td>\n      <td>0.083333</td>\n      <td>0.222222</td>\n      <td>0.672411</td>\n      <td>0.669766</td>\n      <td>0.666667</td>\n      <td>...</td>\n      <td>-0.409187</td>\n      <td>-0.512351</td>\n      <td>-0.280451</td>\n      <td>-0.193395</td>\n      <td>0.234725</td>\n      <td>-0.305582</td>\n      <td>0.324085</td>\n      <td>-0.238887</td>\n      <td>-0.04</td>\n      <td>-0.153846</td>\n    </tr>\n    <tr>\n      <th>34170</th>\n      <td>0.403226</td>\n      <td>0.568182</td>\n      <td>0.290698</td>\n      <td>0.340136</td>\n      <td>0.216920</td>\n      <td>0.083333</td>\n      <td>0.000000</td>\n      <td>0.630191</td>\n      <td>0.676449</td>\n      <td>0.266667</td>\n      <td>...</td>\n      <td>-0.486118</td>\n      <td>-0.077518</td>\n      <td>0.039285</td>\n      <td>0.067861</td>\n      <td>0.097245</td>\n      <td>-0.104950</td>\n      <td>-0.104584</td>\n      <td>-0.258701</td>\n      <td>-0.04</td>\n      <td>0.038462</td>\n    </tr>\n    <tr>\n      <th>34171</th>\n      <td>0.317460</td>\n      <td>0.326797</td>\n      <td>0.302115</td>\n      <td>0.414938</td>\n      <td>0.404858</td>\n      <td>0.250000</td>\n      <td>0.000000</td>\n      <td>0.655194</td>\n      <td>0.689083</td>\n      <td>0.333333</td>\n      <td>...</td>\n      <td>-0.259687</td>\n      <td>-0.034616</td>\n      <td>0.039489</td>\n      <td>-0.073256</td>\n      <td>-0.138389</td>\n      <td>0.035011</td>\n      <td>-0.102886</td>\n      <td>0.188126</td>\n      <td>-0.08</td>\n      <td>0.115385</td>\n    </tr>\n    <tr>\n      <th>34172</th>\n      <td>0.370370</td>\n      <td>0.452489</td>\n      <td>0.292398</td>\n      <td>0.371747</td>\n      <td>0.297619</td>\n      <td>0.166667</td>\n      <td>0.000000</td>\n      <td>0.700892</td>\n      <td>0.677686</td>\n      <td>0.466667</td>\n      <td>...</td>\n      <td>-0.475930</td>\n      <td>-0.274557</td>\n      <td>0.041659</td>\n      <td>-0.074333</td>\n      <td>0.018095</td>\n      <td>-0.216221</td>\n      <td>0.102266</td>\n      <td>-0.218962</td>\n      <td>0.04</td>\n      <td>0.038462</td>\n    </tr>\n    <tr>\n      <th>34173</th>\n      <td>0.384615</td>\n      <td>0.552486</td>\n      <td>0.303951</td>\n      <td>0.346021</td>\n      <td>0.206612</td>\n      <td>0.083333</td>\n      <td>0.111111</td>\n      <td>0.671307</td>\n      <td>0.721257</td>\n      <td>0.466667</td>\n      <td>...</td>\n      <td>-0.170023</td>\n      <td>-0.161072</td>\n      <td>-0.254204</td>\n      <td>0.072247</td>\n      <td>-0.233941</td>\n      <td>-0.087741</td>\n      <td>-0.155902</td>\n      <td>-0.009098</td>\n      <td>-0.08</td>\n      <td>0.038462</td>\n    </tr>\n  </tbody>\n</table>\n<p>24410 rows × 29 columns</p>\n</div>"
     },
     "execution_count": 27,
     "metadata": {},
     "output_type": "execute_result"
    }
   ],
   "source": [
    "from sklearn.preprocessing import MaxAbsScaler\n",
    "\n",
    "finetuning_scaler = MaxAbsScaler()\n",
    "\n",
    "print(finetuning_scaler.fit(X_finetuning_train[columns]))\n",
    "X_finetuning_train_scale = X_finetuning_train.copy()\n",
    "X_finetuning_train_scale[columns] = finetuning_scaler.transform(X_finetuning_train[columns])\n",
    "\n",
    "X_finetuning_val_scale = X_finetuning_valid.copy()\n",
    "X_finetuning_val_scale[columns] = finetuning_scaler.transform(X_finetuning_valid[columns])\n",
    "\n",
    "X_finetuning_test_scale = X_finetuning_test.copy()\n",
    "X_finetuning_test_scale[columns] = finetuning_scaler.transform(X_finetuning_test[columns])\n",
    "\n",
    "X_finetuning_train_scale"
   ],
   "metadata": {
    "collapsed": false,
    "pycharm": {
     "name": "#%%\n"
    }
   }
  },
  {
   "cell_type": "code",
   "execution_count": 27,
   "outputs": [],
   "source": [],
   "metadata": {
    "collapsed": false,
    "pycharm": {
     "name": "#%%\n"
    }
   }
  },
  {
   "cell_type": "code",
   "execution_count": 28,
   "metadata": {
    "pycharm": {
     "name": "#%%\n"
    }
   },
   "outputs": [],
   "source": [
    "# from sklearn.preprocessing import MinMaxScaler\n",
    "#\n",
    "# training_scaler = MinMaxScaler()\n",
    "#\n",
    "# print(training_scaler.fit(X_train[columns]))\n",
    "# X_train_scale = X_train.copy()\n",
    "# X_train_scale[columns] = training_scaler.transform(X_train[columns])\n",
    "#\n",
    "# X_val_scale = X_valid.copy()\n",
    "# X_val_scale[columns] = training_scaler.transform(X_valid[columns])\n",
    "#\n",
    "# finetuning_scaler = MinMaxScaler()\n",
    "#\n",
    "# print(finetuning_scaler.fit(X_finetuning_train[columns]))\n",
    "# X_finetuning_train_scale = X_finetuning_train.copy()\n",
    "# X_finetuning_train_scale[columns] = finetuning_scaler.transform(X_finetuning_train[columns])\n",
    "#\n",
    "# X_finetuning_val_scale = X_finetuning_valid.copy()\n",
    "# X_finetuning_val_scale[columns] = finetuning_scaler.transform(X_finetuning_valid[columns])\n",
    "#\n",
    "# X_finetuning_test_scale = X_finetuning_test.copy()\n",
    "# X_finetuning_test_scale[columns] = finetuning_scaler.transform(X_finetuning_test[columns])\n",
    "#\n",
    "# X_finetuning_train_scale"
   ]
  },
  {
   "cell_type": "code",
   "execution_count": 29,
   "metadata": {
    "pycharm": {
     "name": "#%%\n"
    }
   },
   "outputs": [],
   "source": [
    "# from sklearn.preprocessing import MaxAbsScaler\n",
    "#\n",
    "# training_scaler = MaxAbsScaler()\n",
    "#\n",
    "# print(training_scaler.fit(X_train[columns]))\n",
    "# X_train_scale = X_train.copy()\n",
    "# X_train_scale[columns] = training_scaler.transform(X_train[columns])\n",
    "#\n",
    "# X_val_scale = X_valid.copy()\n",
    "# X_val_scale[columns] = training_scaler.transform(X_valid[columns])\n",
    "#\n",
    "# finetuning_scaler = MaxAbsScaler()\n",
    "#\n",
    "# print(finetuning_scaler.fit(X_finetuning_train[columns]))\n",
    "# X_finetuning_train_scale = X_finetuning_train.copy()\n",
    "# X_finetuning_train_scale[columns] = finetuning_scaler.transform(X_finetuning_train[columns])\n",
    "#\n",
    "# X_finetuning_val_scale = X_finetuning_valid.copy()\n",
    "# X_finetuning_val_scale[columns] = finetuning_scaler.transform(X_finetuning_valid[columns])\n",
    "#\n",
    "# X_finetuning_test_scale = X_finetuning_test.copy()\n",
    "# X_finetuning_test_scale[columns] = finetuning_scaler.transform(X_finetuning_test[columns])\n",
    "#\n",
    "# X_finetuning_train_scale"
   ]
  },
  {
   "cell_type": "code",
   "execution_count": 30,
   "metadata": {
    "pycharm": {
     "name": "#%%\n"
    }
   },
   "outputs": [],
   "source": [
    "# X_train_scale"
   ]
  },
  {
   "attachments": {},
   "cell_type": "markdown",
   "metadata": {
    "pycharm": {
     "name": "#%% md\n"
    }
   },
   "source": [
    "## Modelling\n",
    "\n",
    "**Input layer**: The number of neurons in the input layer is calculated as follows:  \n",
    "```Number of features in the training set + 1```  \n",
    "\n",
    "In this case, as there were 29 features in the training set to begin with, 30 input neurons are defined accordingly.  \n",
    "\n",
    "**Hidden layer**: One hidden layer is defined, as a single layer is suitable when working with most datasets. The number of neurons in the hidden layer is determined as follows:  \n",
    "```Training Data Samples/Factor * (Input Neurons + Output Neurons)```  \n",
    "\n",
    "A factor of 1 is set in this case, the purpose of the factor being to prevent overfitting. A factor can take a value between 1 and 10. With 30 neurons in the input layer, 3 neuron in the output layer and 38,250 observations in the training set, the hidden layer is assigned 1200 neurons.  \n",
    "\n",
    "**Output layer**: As this is the result layer, the output layer takes a value of 3.\n"
   ]
  },
  {
   "cell_type": "code",
   "execution_count": 31,
   "metadata": {
    "pycharm": {
     "name": "#%%\n"
    }
   },
   "outputs": [
    {
     "name": "stdout",
     "output_type": "stream",
     "text": [
      "Model: \"sequential\"\n",
      "_________________________________________________________________\n",
      "Layer (type)                 Output Shape              Param #   \n",
      "=================================================================\n",
      "dense (Dense)                (None, 30)                900       \n",
      "_________________________________________________________________\n",
      "dense_1 (Dense)              (None, 800)               24800     \n",
      "_________________________________________________________________\n",
      "module_wrapper (ModuleWrappe (None, 800)               0         \n",
      "_________________________________________________________________\n",
      "dense_2 (Dense)              (None, 800)               640800    \n",
      "_________________________________________________________________\n",
      "module_wrapper_1 (ModuleWrap (None, 800)               0         \n",
      "_________________________________________________________________\n",
      "dense_3 (Dense)              (None, 800)               640800    \n",
      "_________________________________________________________________\n",
      "module_wrapper_2 (ModuleWrap (None, 800)               0         \n",
      "_________________________________________________________________\n",
      "dense_4 (Dense)              (None, 3)                 2403      \n",
      "=================================================================\n",
      "Total params: 1,309,703\n",
      "Trainable params: 1,309,703\n",
      "Non-trainable params: 0\n",
      "_________________________________________________________________\n"
     ]
    }
   ],
   "source": [
    "import tensorflow\n",
    "\n",
    "tensorflow.random.set_seed(1)\n",
    "from tensorflow.python.keras.layers import Dense\n",
    "from tensorflow.keras.layers import Dropout\n",
    "from tensorflow.python.keras.models import Sequential\n",
    "from tensorflow.python.keras.wrappers.scikit_learn import KerasRegressor\n",
    "\n",
    "model = Sequential()\n",
    "model.add(Dense(len(X_finetuning_train_scale.columns) + 1, input_dim=len(X_finetuning_train_scale.columns),\n",
    "                kernel_initializer='normal', activation='relu'))\n",
    "# model.add(Dense(1200, activation='relu'))\n",
    "# model.add(Dropout(0.2))\n",
    "model.add(Dense(800, activation='relu'))\n",
    "model.add(Dropout(0.2))\n",
    "model.add(Dense(800, activation='relu'))\n",
    "model.add(Dropout(0.2))\n",
    "model.add(Dense(800, activation='relu'))\n",
    "model.add(Dropout(0.2))\n",
    "model.add(Dense(3, activation='linear'))\n",
    "model.summary()"
   ]
  },
  {
   "cell_type": "code",
   "execution_count": 45,
   "outputs": [
    {
     "data": {
      "text/plain": "(24410, 7323)"
     },
     "execution_count": 45,
     "metadata": {},
     "output_type": "execute_result"
    }
   ],
   "source": [
    "len(X_finetuning_train_scale), len(X_finetuning_val_scale)"
   ],
   "metadata": {
    "collapsed": false,
    "pycharm": {
     "name": "#%%\n"
    }
   }
  },
  {
   "cell_type": "code",
   "execution_count": 50,
   "outputs": [
    {
     "name": "stderr",
     "output_type": "stream",
     "text": [
      "WARNING:absl:Found untraced functions such as dropout_layer_call_fn, dropout_layer_call_and_return_conditional_losses, dropout_1_layer_call_fn, dropout_1_layer_call_and_return_conditional_losses, dropout_2_layer_call_fn while saving (showing 5 of 6). These functions will not be directly callable after loading.\n"
     ]
    },
    {
     "name": "stdout",
     "output_type": "stream",
     "text": [
      "INFO:tensorflow:Assets written to: model\\assets\n"
     ]
    },
    {
     "name": "stderr",
     "output_type": "stream",
     "text": [
      "INFO:tensorflow:Assets written to: model\\assets\n"
     ]
    }
   ],
   "source": [
    "model.save(\"model\")"
   ],
   "metadata": {
    "collapsed": false,
    "pycharm": {
     "name": "#%%\n"
    }
   }
  },
  {
   "cell_type": "code",
   "execution_count": 32,
   "outputs": [
    {
     "name": "stdout",
     "output_type": "stream",
     "text": [
      "Epoch 1/50\n",
      "62/62 [==============================] - 2s 23ms/step - loss: 0.0113 - mse: 0.0113 - mae: 0.0725 - val_loss: 0.0039 - val_mse: 0.0039 - val_mae: 0.0478\n",
      "Epoch 2/50\n",
      "62/62 [==============================] - 1s 20ms/step - loss: 0.0026 - mse: 0.0026 - mae: 0.0390 - val_loss: 0.0034 - val_mse: 0.0034 - val_mae: 0.0434\n",
      "Epoch 3/50\n",
      "62/62 [==============================] - 1s 20ms/step - loss: 0.0021 - mse: 0.0021 - mae: 0.0352 - val_loss: 0.0021 - val_mse: 0.0021 - val_mae: 0.0349\n",
      "Epoch 4/50\n",
      "62/62 [==============================] - 1s 21ms/step - loss: 0.0019 - mse: 0.0019 - mae: 0.0333 - val_loss: 0.0026 - val_mse: 0.0026 - val_mae: 0.0385\n",
      "Epoch 5/50\n",
      "62/62 [==============================] - 1s 20ms/step - loss: 0.0018 - mse: 0.0018 - mae: 0.0321 - val_loss: 0.0020 - val_mse: 0.0020 - val_mae: 0.0328\n",
      "Epoch 6/50\n",
      "62/62 [==============================] - 1s 20ms/step - loss: 0.0017 - mse: 0.0017 - mae: 0.0310 - val_loss: 0.0022 - val_mse: 0.0022 - val_mae: 0.0356\n",
      "Epoch 7/50\n",
      "62/62 [==============================] - 1s 20ms/step - loss: 0.0016 - mse: 0.0016 - mae: 0.0304 - val_loss: 0.0020 - val_mse: 0.0020 - val_mae: 0.0336\n",
      "Epoch 8/50\n",
      "62/62 [==============================] - 1s 20ms/step - loss: 0.0016 - mse: 0.0016 - mae: 0.0298 - val_loss: 0.0022 - val_mse: 0.0022 - val_mae: 0.0351\n",
      "Epoch 9/50\n",
      "62/62 [==============================] - 1s 20ms/step - loss: 0.0016 - mse: 0.0016 - mae: 0.0295 - val_loss: 0.0018 - val_mse: 0.0018 - val_mae: 0.0318\n",
      "Epoch 10/50\n",
      "62/62 [==============================] - 1s 20ms/step - loss: 0.0016 - mse: 0.0016 - mae: 0.0294 - val_loss: 0.0019 - val_mse: 0.0019 - val_mae: 0.0321\n",
      "Epoch 11/50\n",
      "62/62 [==============================] - 1s 21ms/step - loss: 0.0015 - mse: 0.0015 - mae: 0.0293 - val_loss: 0.0019 - val_mse: 0.0019 - val_mae: 0.0324\n",
      "Epoch 12/50\n",
      "62/62 [==============================] - 1s 21ms/step - loss: 0.0015 - mse: 0.0015 - mae: 0.0288 - val_loss: 0.0020 - val_mse: 0.0020 - val_mae: 0.0334\n",
      "Epoch 13/50\n",
      "62/62 [==============================] - 1s 20ms/step - loss: 0.0016 - mse: 0.0016 - mae: 0.0295 - val_loss: 0.0020 - val_mse: 0.0020 - val_mae: 0.0331\n",
      "Epoch 14/50\n",
      "62/62 [==============================] - 1s 20ms/step - loss: 0.0016 - mse: 0.0016 - mae: 0.0291 - val_loss: 0.0018 - val_mse: 0.0018 - val_mae: 0.0323\n",
      "Epoch 15/50\n",
      "62/62 [==============================] - 1s 20ms/step - loss: 0.0015 - mse: 0.0015 - mae: 0.0285 - val_loss: 0.0019 - val_mse: 0.0019 - val_mae: 0.0325\n",
      "Epoch 16/50\n",
      "62/62 [==============================] - 1s 20ms/step - loss: 0.0015 - mse: 0.0015 - mae: 0.0286 - val_loss: 0.0025 - val_mse: 0.0025 - val_mae: 0.0374\n",
      "Epoch 17/50\n",
      "62/62 [==============================] - 1s 20ms/step - loss: 0.0015 - mse: 0.0015 - mae: 0.0285 - val_loss: 0.0017 - val_mse: 0.0017 - val_mae: 0.0309\n",
      "Epoch 18/50\n",
      "62/62 [==============================] - 1s 20ms/step - loss: 0.0014 - mse: 0.0014 - mae: 0.0279 - val_loss: 0.0019 - val_mse: 0.0019 - val_mae: 0.0329\n",
      "Epoch 19/50\n",
      "62/62 [==============================] - 1s 21ms/step - loss: 0.0015 - mse: 0.0015 - mae: 0.0283 - val_loss: 0.0026 - val_mse: 0.0026 - val_mae: 0.0383\n",
      "Epoch 20/50\n",
      "62/62 [==============================] - 1s 20ms/step - loss: 0.0015 - mse: 0.0015 - mae: 0.0285 - val_loss: 0.0018 - val_mse: 0.0018 - val_mae: 0.0312\n",
      "Epoch 21/50\n",
      "62/62 [==============================] - 1s 20ms/step - loss: 0.0014 - mse: 0.0014 - mae: 0.0278 - val_loss: 0.0018 - val_mse: 0.0018 - val_mae: 0.0318\n",
      "Epoch 22/50\n",
      "62/62 [==============================] - 1s 20ms/step - loss: 0.0014 - mse: 0.0014 - mae: 0.0274 - val_loss: 0.0017 - val_mse: 0.0017 - val_mae: 0.0311\n",
      "Epoch 23/50\n",
      "62/62 [==============================] - 1s 20ms/step - loss: 0.0014 - mse: 0.0014 - mae: 0.0276 - val_loss: 0.0019 - val_mse: 0.0019 - val_mae: 0.0323\n",
      "Epoch 24/50\n",
      "62/62 [==============================] - 1s 20ms/step - loss: 0.0014 - mse: 0.0014 - mae: 0.0274 - val_loss: 0.0018 - val_mse: 0.0018 - val_mae: 0.0316\n",
      "Epoch 25/50\n",
      "62/62 [==============================] - 1s 20ms/step - loss: 0.0014 - mse: 0.0014 - mae: 0.0274 - val_loss: 0.0024 - val_mse: 0.0024 - val_mae: 0.0364\n",
      "Epoch 26/50\n",
      "62/62 [==============================] - 1s 20ms/step - loss: 0.0014 - mse: 0.0014 - mae: 0.0274 - val_loss: 0.0018 - val_mse: 0.0018 - val_mae: 0.0311\n",
      "Epoch 27/50\n",
      "62/62 [==============================] - 1s 20ms/step - loss: 0.0014 - mse: 0.0014 - mae: 0.0272 - val_loss: 0.0019 - val_mse: 0.0019 - val_mae: 0.0319\n",
      "Epoch 28/50\n",
      "62/62 [==============================] - 1s 20ms/step - loss: 0.0014 - mse: 0.0014 - mae: 0.0272 - val_loss: 0.0018 - val_mse: 0.0018 - val_mae: 0.0314\n",
      "Epoch 29/50\n",
      "62/62 [==============================] - 1s 22ms/step - loss: 0.0013 - mse: 0.0013 - mae: 0.0266 - val_loss: 0.0019 - val_mse: 0.0019 - val_mae: 0.0318\n",
      "Epoch 30/50\n",
      "62/62 [==============================] - 1s 22ms/step - loss: 0.0013 - mse: 0.0013 - mae: 0.0267 - val_loss: 0.0018 - val_mse: 0.0018 - val_mae: 0.0312\n",
      "Epoch 31/50\n",
      "62/62 [==============================] - 1s 22ms/step - loss: 0.0014 - mse: 0.0014 - mae: 0.0272 - val_loss: 0.0021 - val_mse: 0.0021 - val_mae: 0.0330\n",
      "Epoch 32/50\n",
      "62/62 [==============================] - 1s 23ms/step - loss: 0.0013 - mse: 0.0013 - mae: 0.0266 - val_loss: 0.0016 - val_mse: 0.0016 - val_mae: 0.0297\n",
      "Epoch 33/50\n",
      "62/62 [==============================] - 1s 22ms/step - loss: 0.0013 - mse: 0.0013 - mae: 0.0264 - val_loss: 0.0020 - val_mse: 0.0020 - val_mae: 0.0337\n",
      "Epoch 34/50\n",
      "62/62 [==============================] - 1s 22ms/step - loss: 0.0014 - mse: 0.0014 - mae: 0.0275 - val_loss: 0.0029 - val_mse: 0.0029 - val_mae: 0.0399\n",
      "Epoch 35/50\n",
      "62/62 [==============================] - 1s 23ms/step - loss: 0.0014 - mse: 0.0014 - mae: 0.0271 - val_loss: 0.0017 - val_mse: 0.0017 - val_mae: 0.0311\n",
      "Epoch 36/50\n",
      "62/62 [==============================] - 1s 23ms/step - loss: 0.0013 - mse: 0.0013 - mae: 0.0266 - val_loss: 0.0017 - val_mse: 0.0017 - val_mae: 0.0304\n",
      "Epoch 37/50\n",
      "62/62 [==============================] - 1s 23ms/step - loss: 0.0013 - mse: 0.0013 - mae: 0.0265 - val_loss: 0.0017 - val_mse: 0.0017 - val_mae: 0.0308\n",
      "Epoch 38/50\n",
      "62/62 [==============================] - 1s 24ms/step - loss: 0.0013 - mse: 0.0013 - mae: 0.0260 - val_loss: 0.0020 - val_mse: 0.0020 - val_mae: 0.0327\n",
      "Epoch 39/50\n",
      "62/62 [==============================] - 1s 22ms/step - loss: 0.0013 - mse: 0.0013 - mae: 0.0261 - val_loss: 0.0018 - val_mse: 0.0018 - val_mae: 0.0313\n",
      "Epoch 40/50\n",
      "62/62 [==============================] - 1s 23ms/step - loss: 0.0014 - mse: 0.0014 - mae: 0.0270 - val_loss: 0.0018 - val_mse: 0.0018 - val_mae: 0.0316\n",
      "Epoch 41/50\n",
      "62/62 [==============================] - 1s 23ms/step - loss: 0.0013 - mse: 0.0013 - mae: 0.0266 - val_loss: 0.0020 - val_mse: 0.0020 - val_mae: 0.0323\n",
      "Epoch 42/50\n",
      "62/62 [==============================] - 1s 23ms/step - loss: 0.0013 - mse: 0.0013 - mae: 0.0268 - val_loss: 0.0017 - val_mse: 0.0017 - val_mae: 0.0304\n",
      "Epoch 43/50\n",
      "62/62 [==============================] - 1s 23ms/step - loss: 0.0013 - mse: 0.0013 - mae: 0.0267 - val_loss: 0.0018 - val_mse: 0.0018 - val_mae: 0.0307\n",
      "Epoch 44/50\n",
      "62/62 [==============================] - 2s 31ms/step - loss: 0.0013 - mse: 0.0013 - mae: 0.0262 - val_loss: 0.0017 - val_mse: 0.0017 - val_mae: 0.0300\n",
      "Epoch 45/50\n",
      "62/62 [==============================] - 1s 23ms/step - loss: 0.0013 - mse: 0.0013 - mae: 0.0265 - val_loss: 0.0021 - val_mse: 0.0021 - val_mae: 0.0335\n",
      "Epoch 46/50\n",
      "62/62 [==============================] - 1s 23ms/step - loss: 0.0013 - mse: 0.0013 - mae: 0.0260 - val_loss: 0.0016 - val_mse: 0.0016 - val_mae: 0.0297\n",
      "Epoch 47/50\n",
      "62/62 [==============================] - 1s 23ms/step - loss: 0.0013 - mse: 0.0013 - mae: 0.0262 - val_loss: 0.0017 - val_mse: 0.0017 - val_mae: 0.0304\n",
      "Epoch 48/50\n",
      "62/62 [==============================] - 1s 23ms/step - loss: 0.0013 - mse: 0.0013 - mae: 0.0260 - val_loss: 0.0017 - val_mse: 0.0017 - val_mae: 0.0301\n",
      "Epoch 49/50\n",
      "62/62 [==============================] - 1s 23ms/step - loss: 0.0013 - mse: 0.0013 - mae: 0.0260 - val_loss: 0.0021 - val_mse: 0.0021 - val_mae: 0.0334\n",
      "Epoch 50/50\n",
      "62/62 [==============================] - 1s 23ms/step - loss: 0.0013 - mse: 0.0013 - mae: 0.0260 - val_loss: 0.0016 - val_mse: 0.0016 - val_mae: 0.0291\n"
     ]
    }
   ],
   "source": [
    "model.compile(loss='mse', optimizer='adam', metrics=['mse', 'mae'])\n",
    "history = model.fit(X_finetuning_train_scale, y_finetuning_train, epochs=50, batch_size=400, verbose=1,\n",
    "                    validation_data=(X_finetuning_val_scale, y_finetuning_valid))"
   ],
   "metadata": {
    "collapsed": false,
    "pycharm": {
     "name": "#%%\n"
    }
   }
  },
  {
   "cell_type": "code",
   "execution_count": 33,
   "metadata": {
    "pycharm": {
     "name": "#%%\n"
    }
   },
   "outputs": [],
   "source": [
    "# model.compile(loss='mse', optimizer='adam', metrics=['mse', 'mae'])\n",
    "# history = model.fit(X_train_scale, y_train, epochs=50, batch_size=400, verbose=1,\n",
    "#                     validation_data=(X_val_scale, y_valid))\n",
    "# predictions = model.predict(X_val_scale)"
   ]
  },
  {
   "cell_type": "code",
   "execution_count": 34,
   "metadata": {
    "pycharm": {
     "name": "#%%\n"
    }
   },
   "outputs": [],
   "source": [
    "# print(history.history.keys())\n",
    "# # \"Loss\"\n",
    "# plt.plot(history.history['loss'])\n",
    "# plt.plot(history.history['val_loss'])\n",
    "# plt.title('model loss')\n",
    "# plt.ylabel('loss')\n",
    "# plt.xlabel('epoch')\n",
    "# plt.legend(['train', 'validation'], loc='upper right')\n",
    "# plt.show()\n",
    "#\n",
    "# from sklearn.metrics import mean_squared_error\n",
    "#\n",
    "# print('MSE between Preds  & True: ', mean_squared_error(predictions, y_valid))\n",
    "# print('MSE between Open  & Close: ',\n",
    "#       mean_squared_error(X_valid[['HO_Pinnacle', 'DO_Pinnacle', 'AO_Pinnacle']], y_valid))"
   ]
  },
  {
   "cell_type": "code",
   "execution_count": 35,
   "metadata": {
    "pycharm": {
     "name": "#%%\n"
    }
   },
   "outputs": [],
   "source": [
    "# history = model.fit(X_finetuning_train_scale, y_finetuning_train, epochs=50, batch_size=200, verbose=1,\n",
    "#                     validation_data=(X_finetuning_val_scale, y_finetuning_valid))"
   ]
  },
  {
   "cell_type": "code",
   "execution_count": 36,
   "outputs": [],
   "source": [
    "predictions = model.predict(X_finetuning_test_scale)"
   ],
   "metadata": {
    "collapsed": false,
    "pycharm": {
     "name": "#%%\n"
    }
   }
  },
  {
   "cell_type": "code",
   "execution_count": 37,
   "metadata": {
    "pycharm": {
     "name": "#%%\n"
    }
   },
   "outputs": [
    {
     "name": "stdout",
     "output_type": "stream",
     "text": [
      "dict_keys(['loss', 'mse', 'mae', 'val_loss', 'val_mse', 'val_mae'])\n"
     ]
    },
    {
     "data": {
      "text/plain": "<Figure size 640x480 with 1 Axes>",
      "image/png": "[encoded data removed]"
     },
     "metadata": {},
     "output_type": "display_data"
    },
    {
     "name": "stdout",
     "output_type": "stream",
     "text": [
      "MSE between Preds  & True:  0.0018191450674884767\n",
      "MSE between Open  & Close:  0.0020582171707751533\n"
     ]
    }
   ],
   "source": [
    "print(history.history.keys())\n",
    "# \"Loss\"\n",
    "plt.plot(history.history['loss'])\n",
    "plt.plot(history.history['val_loss'])\n",
    "plt.title('model loss')\n",
    "plt.ylabel('loss')\n",
    "plt.xlabel('epoch')\n",
    "plt.legend(['train', 'validation'], loc='upper right')\n",
    "plt.show()\n",
    "\n",
    "from sklearn.metrics import mean_squared_error\n",
    "\n",
    "print('MSE between Preds  & True: ', mean_squared_error(predictions, y_finetuning_test))\n",
    "print('MSE between Open  & Close: ',\n",
    "      mean_squared_error(X_finetuning_test_scale[['HO_Pinnacle', 'DO_Pinnacle', 'AO_Pinnacle']], y_finetuning_test))"
   ]
  },
  {
   "cell_type": "code",
   "execution_count": 38,
   "metadata": {
    "pycharm": {
     "name": "#%%\n"
    }
   },
   "outputs": [
    {
     "name": "stdout",
     "output_type": "stream",
     "text": [
      "dict_keys(['loss', 'mse', 'mae', 'val_loss', 'val_mse', 'val_mae'])\n"
     ]
    },
    {
     "data": {
      "text/plain": "<Figure size 640x480 with 1 Axes>",
      "image/png": "[encoded data removed]"
     },
     "metadata": {},
     "output_type": "display_data"
    }
   ],
   "source": [
    "print(history.history.keys())\n",
    "# \"Loss\"\n",
    "plt.plot(history.history['loss'])\n",
    "plt.plot(history.history['val_loss'])\n",
    "plt.title('model loss')\n",
    "plt.ylabel('loss')\n",
    "plt.xlabel('epoch')\n",
    "plt.legend(['train', 'validation'], loc='upper right')\n",
    "plt.show()"
   ]
  },
  {
   "cell_type": "markdown",
   "metadata": {
    "pycharm": {
     "name": "#%% md\n"
    }
   },
   "source": [
    "## Backtesting"
   ]
  },
  {
   "cell_type": "code",
   "execution_count": 47,
   "outputs": [
    {
     "data": {
      "text/plain": "{'roi': 36.5,\n 'bet_count': 93,\n 'bet_winning': 49,\n 'bet_loosing': 44,\n 'win_percentage': 0.5268817204301075}"
     },
     "execution_count": 47,
     "metadata": {},
     "output_type": "execute_result"
    }
   ],
   "source": [
    "from utils.BackTest import Evaluator, Games\n",
    "\n",
    "open_percentage = Games(df_test[\"HO_Pinnacle\"].array,\n",
    "                        df_test[\"DO_Pinnacle\"].array,\n",
    "                        df_test[\"AO_Pinnacle\"].array)\n",
    "\n",
    "predictions = model.predict(X_finetuning_test_scale)\n",
    "predicted_odds = Games(*predictions.T)\n",
    "buy_sig = generate_buy_signals(open_percentage, predicted_odds, 0.05)\n",
    "evaluate_buy_signals(df_test[\"FTHG\"].array, df_test[\"FTAG\"].array, open_percentage.get_odds(), buy_sig)"
   ],
   "metadata": {
    "collapsed": false,
    "pycharm": {
     "name": "#%%\n"
    }
   }
  },
  {
   "cell_type": "code",
   "execution_count": 43,
   "outputs": [
    {
     "data": {
      "text/plain": "(Timestamp('2021-03-21 00:00:00'), Timestamp('2022-11-22 00:00:00'))"
     },
     "execution_count": 43,
     "metadata": {},
     "output_type": "execute_result"
    }
   ],
   "source": [
    "min(df_test[\"Date\"]), max(df_test[\"Date\"])"
   ],
   "metadata": {
    "collapsed": false,
    "pycharm": {
     "name": "#%%\n"
    }
   }
  },
  {
   "cell_type": "code",
   "execution_count": null,
   "outputs": [],
   "source": [],
   "metadata": {
    "collapsed": false,
    "pycharm": {
     "name": "#%%\n"
    }
   }
  },
  {
   "cell_type": "code",
   "execution_count": null,
   "outputs": [],
   "source": [],
   "metadata": {
    "collapsed": false,
    "pycharm": {
     "name": "#%%\n"
    }
   }
  },
  {
   "cell_type": "markdown",
   "source": [],
   "metadata": {
    "collapsed": false,
    "pycharm": {
     "name": "#%% md\n"
    }
   }
  },
  {
   "cell_type": "markdown",
   "source": [
    "# Proof of concept\n",
    "lets say we always predict the close correctly (we use the actual close)"
   ],
   "metadata": {
    "collapsed": false,
    "pycharm": {
     "name": "#%% md\n"
    }
   }
  },
  {
   "cell_type": "code",
   "execution_count": 195,
   "outputs": [
    {
     "data": {
      "text/plain": "{'roi': 3210.719999999994,\n 'bet_count': 47593,\n 'bet_winning': 18832,\n 'bet_loosing': 28761,\n 'win_percentage': 0.3956884415775429}"
     },
     "execution_count": 195,
     "metadata": {},
     "output_type": "execute_result"
    }
   ],
   "source": [
    "open_percentage = Games(data_df[\"HO_Pinnacle\"].array,\n",
    "                        data_df[\"DO_Pinnacle\"].array,\n",
    "                        data_df[\"AO_Pinnacle\"].array)\n",
    "\n",
    "close_percentage = Games(data_df[\"HC_Pinnacle\"].array,\n",
    "                         data_df[\"DC_Pinnacle\"].array,\n",
    "                         data_df[\"AC_Pinnacle\"].array)\n",
    "buy_sig = generate_buy_signals(open_percentage, close_percentage)\n",
    "\n",
    "evaluate_buy_signals(data_df[\"FTHG\"].array, data_df[\"FTAG\"].array, open_percentage.get_odds(), buy_sig)"
   ],
   "metadata": {
    "collapsed": false,
    "pycharm": {
     "name": "#%%\n"
    }
   }
  },
  {
   "cell_type": "code",
   "execution_count": 196,
   "outputs": [
    {
     "data": {
      "text/plain": "<Figure size 640x480 with 1 Axes>",
      "image/png": "[encoded data removed]"
     },
     "metadata": {},
     "output_type": "display_data"
    },
    {
     "data": {
      "text/plain": "<Figure size 640x480 with 1 Axes>",
      "image/png": "[encoded data removed]"
     },
     "metadata": {},
     "output_type": "display_data"
    },
    {
     "data": {
      "text/plain": "<Figure size 640x480 with 1 Axes>",
      "image/png": "[encoded data removed]"
     },
     "metadata": {},
     "output_type": "display_data"
    }
   ],
   "source": [
    "(data_df[\"HO_Pinnacle\"] - data_df[\"HC_Pinnacle\"]).hist()\n",
    "plt.show()\n",
    "(data_df[\"DO_Pinnacle\"] - data_df[\"DC_Pinnacle\"]).hist()\n",
    "plt.show()\n",
    "(data_df[\"AO_Pinnacle\"] - data_df[\"AC_Pinnacle\"]).hist()\n",
    "plt.show()"
   ],
   "metadata": {
    "collapsed": false,
    "pycharm": {
     "name": "#%%\n"
    }
   }
  },
  {
   "cell_type": "markdown",
   "source": [
    "## Betting heatmap"
   ],
   "metadata": {
    "collapsed": false,
    "pycharm": {
     "name": "#%% md\n"
    }
   }
  },
  {
   "cell_type": "code",
   "execution_count": 197,
   "outputs": [
    {
     "data": {
      "text/plain": "8699"
     },
     "execution_count": 197,
     "metadata": {},
     "output_type": "execute_result"
    }
   ],
   "source": [
    "data_df = data_df_copy.copy()\n",
    "# data_df = data_df[data_df[\"Date\"] > pd.Timestamp(year=2019, month=1, day=1)]\n",
    "data_df = data_df[pd.Timestamp(year=2021, month=1, day=1) < data_df[\"Date\"]]\n",
    "len(data_df)"
   ],
   "metadata": {
    "collapsed": false,
    "pycharm": {
     "name": "#%%\n"
    }
   }
  },
  {
   "cell_type": "code",
   "execution_count": 198,
   "outputs": [
    {
     "name": "stderr",
     "output_type": "stream",
     "text": [
      "C:\\Users\\matfr\\AppData\\Local\\Temp\\ipykernel_8708\\604117140.py:93: RuntimeWarning: invalid value encountered in longlong_scalars\n",
      "  \"win_percentage\": winning_bets / total_spent\n"
     ]
    },
    {
     "name": "stdout",
     "output_type": "stream",
     "text": [
      "........"
     ]
    },
    {
     "data": {
      "text/plain": "<Figure size 1400x1400 with 2 Axes>",
      "image/png": "[encoded data removed]"
     },
     "metadata": {},
     "output_type": "display_data"
    }
   ],
   "source": [
    "\n",
    "\n",
    "bet_names = [\"bet-at-home\", \"bet365\", \"Betsson\", \"bwin\", \"Pinnacle\", \"Unibet\", \"WilliamHill\", \"ComeOn\"]\n",
    "prefix = \"O\"\n",
    "\n",
    "bet_odds = [Games(\n",
    "    data_df[f\"H{prefix}_{name}\"],\n",
    "    data_df[f\"D{prefix}_{name}\"],\n",
    "    data_df[f\"A{prefix}_{name}\"]) for name in bet_names]\n",
    "\n",
    "\n",
    "def betting_heatmap(home_goals, away_goals, bet_odds, margin=0):\n",
    "    res = np.zeros((len(bet_names), len(bet_names)))\n",
    "    for i, betting_site in enumerate(bet_odds):\n",
    "        for q, truth in enumerate(bet_odds):\n",
    "            buy_sig = generate_buy_signals(betting_site, truth.get_normalized(), margin)\n",
    "            res[i][q] = round(evaluate_buy_signals(home_goals, away_goals, betting_site.get_odds(), buy_sig)['roi'], 2)\n",
    "        print(\".\", end=\"\")\n",
    "\n",
    "    plt.figure(figsize=(14, 14))\n",
    "\n",
    "    vcenter = 0\n",
    "    vmin, vmax = np.amin(res), np.amax(res)\n",
    "\n",
    "    normalize = matplotlib.colors.TwoSlopeNorm(vcenter=vcenter, vmin=vmin, vmax=vmax)\n",
    "    colormap = matplotlib.cm.RdBu\n",
    "\n",
    "    ax = sns.heatmap(res, annot=True, xticklabels=bet_names, yticklabels=bet_names, fmt='g', cmap=colormap,\n",
    "                     norm=normalize)\n",
    "\n",
    "\n",
    "betting_heatmap(data_df[\"FTHG\"].array, data_df[\"FTAG\"].array, bet_odds, 0.03)"
   ],
   "metadata": {
    "collapsed": false,
    "pycharm": {
     "name": "#%%\n"
    }
   }
  },
  {
   "cell_type": "code",
   "execution_count": null,
   "outputs": [],
   "source": [
    "b365 = Games(\n",
    "    data_df[f\"H{prefix}_bet365\"],\n",
    "    data_df[f\"D{prefix}_bet365\"],\n",
    "    data_df[f\"A{prefix}_bet365\"])\n",
    "pinnacle = Games(\n",
    "    data_df[f\"H{prefix}_Pinnacle\"],\n",
    "    data_df[f\"D{prefix}_Pinnacle\"],\n",
    "    data_df[f\"A{prefix}_Pinnacle\"])\n",
    "signals = generate_buy_signals(b365, pinnacle.get_normalized())\n",
    "evaluate_buy_signals(data_df[\"FTHG\"].array, data_df[\"FTAG\"].array, b365.get_odds(), signals)"
   ],
   "metadata": {
    "collapsed": false,
    "pycharm": {
     "name": "#%%\n"
    }
   }
  },
  {
   "cell_type": "code",
   "execution_count": null,
   "outputs": [],
   "source": [],
   "metadata": {
    "collapsed": false,
    "pycharm": {
     "name": "#%%\n"
    }
   }
  }
 ],
 "metadata": {
  "kernelspec": {
   "display_name": "Python 3.8.0 64-bit",
   "language": "python",
   "name": "python3"
  },
  "language_info": {
   "codemirror_mode": {
    "name": "ipython",
    "version": 3
   },
   "file_extension": ".py",
   "mimetype": "text/x-python",
   "name": "python",
   "nbconvert_exporter": "python",
   "pygments_lexer": "ipython3",
   "version": "3.8.0"
  },
  "orig_nbformat": 4,
  "vscode": {
   "interpreter": {
    "hash": "6b75d418c9c326d7aaeaf58c1d55517f17bf57fa9a587eb451d9ce82208dc144"
   }
  }
 },
 "nbformat": 4,
 "nbformat_minor": 2
}